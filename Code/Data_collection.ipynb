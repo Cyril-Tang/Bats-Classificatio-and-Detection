{
 "cells": [
  {
   "source": [
    "import numpy as np\n",
    "import tushare as ts\n",
    "import pandas as pd\n",
    "import matplotlib.pyplot as plt\n",
    "import mpl_finance as mpf\n",
    "# from mpl_finance import candlestick2_ochl\n",
    "from tqdm import tqdm\n",
    ""
   ],
   "cell_type": "code",
   "outputs": [],
   "metadata": {},
   "execution_count": 1
  },
  {
   "source": [
    "import sys\n",
    "print(sys.path)"
   ],
   "cell_type": "code",
   "outputs": [
    {
     "output_type": "stream",
     "name": "stdout",
     "text": "['C:\\\\Users\\\\Cyril\\\\AppData\\\\Local\\\\Temp\\\\3884732e-5348-4960-afbb-4de9d21c535c', 'D:\\\\Anaconda3\\\\python37.zip', 'D:\\\\Anaconda3\\\\DLLs', 'D:\\\\Anaconda3\\\\lib', 'D:\\\\Anaconda3', '', 'C:\\\\Users\\\\Cyril\\\\AppData\\\\Roaming\\\\Python\\\\Python37\\\\site-packages', 'D:\\\\Anaconda3\\\\lib\\\\site-packages', 'D:\\\\Anaconda3\\\\lib\\\\site-packages\\\\win32', 'D:\\\\Anaconda3\\\\lib\\\\site-packages\\\\win32\\\\lib', 'D:\\\\Anaconda3\\\\lib\\\\site-packages\\\\Pythonwin', 'D:\\\\Anaconda3\\\\lib\\\\site-packages\\\\IPython\\\\extensions', 'C:\\\\Users\\\\Cyril\\\\.ipython']\n"
    }
   ],
   "metadata": {},
   "execution_count": 2
  },
  {
   "source": [
    "start_date = '2000-01-01'\n",
    "end_date = '2015-12-31'\n",
    "\n",
    "pro = ts.pro_api()\n",
    "\n",
    "# Obtain  all stocks available\n",
    "\n",
    "data = pro.query('stock_basic', exchange='', list_status='L', fields='ts_code,symbol,name,area,industry,list_date')\n",
    "data = data.dropna()\n",
    "data.drop(data[data.symbol.astype('int') > 604000].index, inplace = True)\n",
    "data.head()"
   ],
   "cell_type": "code",
   "outputs": [
    {
     "output_type": "execute_result",
     "data": {
      "text/plain": "     ts_code  symbol  name area industry list_date\n0  000001.SZ  000001  平安银行   深圳       银行  19910403\n1  000002.SZ  000002   万科A   深圳     全国地产  19910129\n2  000004.SZ  000004  国农科技   深圳     生物制药  19910114\n3  000005.SZ  000005  世纪星源   深圳     环境保护  19901210\n4  000006.SZ  000006  深振业A   深圳     区域地产  19920427",
      "text/html": "<div>\n<style scoped>\n    .dataframe tbody tr th:only-of-type {\n        vertical-align: middle;\n    }\n\n    .dataframe tbody tr th {\n        vertical-align: top;\n    }\n\n    .dataframe thead th {\n        text-align: right;\n    }\n</style>\n<table border=\"1\" class=\"dataframe\">\n  <thead>\n    <tr style=\"text-align: right;\">\n      <th></th>\n      <th>ts_code</th>\n      <th>symbol</th>\n      <th>name</th>\n      <th>area</th>\n      <th>industry</th>\n      <th>list_date</th>\n    </tr>\n  </thead>\n  <tbody>\n    <tr>\n      <td>0</td>\n      <td>000001.SZ</td>\n      <td>000001</td>\n      <td>平安银行</td>\n      <td>深圳</td>\n      <td>银行</td>\n      <td>19910403</td>\n    </tr>\n    <tr>\n      <td>1</td>\n      <td>000002.SZ</td>\n      <td>000002</td>\n      <td>万科A</td>\n      <td>深圳</td>\n      <td>全国地产</td>\n      <td>19910129</td>\n    </tr>\n    <tr>\n      <td>2</td>\n      <td>000004.SZ</td>\n      <td>000004</td>\n      <td>国农科技</td>\n      <td>深圳</td>\n      <td>生物制药</td>\n      <td>19910114</td>\n    </tr>\n    <tr>\n      <td>3</td>\n      <td>000005.SZ</td>\n      <td>000005</td>\n      <td>世纪星源</td>\n      <td>深圳</td>\n      <td>环境保护</td>\n      <td>19901210</td>\n    </tr>\n    <tr>\n      <td>4</td>\n      <td>000006.SZ</td>\n      <td>000006</td>\n      <td>深振业A</td>\n      <td>深圳</td>\n      <td>区域地产</td>\n      <td>19920427</td>\n    </tr>\n  </tbody>\n</table>\n</div>"
     },
     "metadata": {},
     "execution_count": 3
    }
   ],
   "metadata": {},
   "execution_count": 3
  },
  {
   "source": [
    "stock_list = [i for i in data.ts_code]\n",
    "temp = []\n",
    "for i in stock_list:\n",
    "    temp.append(i)\n",
    "    if i.split('.')[0] == '000925':\n",
    "        break\n",
    "print(temp[-13])\n",
    "# Classify industry info\n",
    "data.industry = data.industry.astype('category')\n",
    ""
   ],
   "cell_type": "code",
   "outputs": [
    {
     "output_type": "stream",
     "name": "stdout",
     "text": "000910.SZ\n"
    }
   ],
   "metadata": {},
   "execution_count": 4
  },
  {
   "cell_type": "code",
   "execution_count": 5,
   "metadata": {
    "pycharm": {
     "name": "#%%\n"
    }
   },
   "outputs": [
    {
     "name": "stderr",
     "output_type": "stream",
     "text": [
      "\r",
      "  0%|          | 0/3679 [00:00<?, ?it/s]"
     ]
    },
    {
     "ename": "PermissionError",
     "evalue": "[Errno 13] Permission denied: 'Data/000001.csv'",
     "output_type": "error",
     "traceback": [
      "\u001b[1;31m---------------------------------------------------------------------------\u001b[0m",
      "\u001b[1;31mPermissionError\u001b[0m                           Traceback (most recent call last)",
      "\u001b[1;32m<ipython-input-5-7bb4606965da>\u001b[0m in \u001b[0;36m<module>\u001b[1;34m\u001b[0m\n\u001b[0;32m      5\u001b[0m     \u001b[0mdf\u001b[0m\u001b[1;33m.\u001b[0m\u001b[0msort_index\u001b[0m\u001b[1;33m(\u001b[0m\u001b[0maxis\u001b[0m\u001b[1;33m=\u001b[0m\u001b[1;36m0\u001b[0m\u001b[1;33m,\u001b[0m \u001b[0mascending\u001b[0m \u001b[1;33m=\u001b[0m \u001b[1;32mFalse\u001b[0m\u001b[1;33m,\u001b[0m \u001b[0minplace\u001b[0m \u001b[1;33m=\u001b[0m \u001b[1;32mTrue\u001b[0m\u001b[1;33m)\u001b[0m\u001b[1;33m\u001b[0m\u001b[1;33m\u001b[0m\u001b[0m\n\u001b[0;32m      6\u001b[0m     \u001b[0mdf\u001b[0m\u001b[1;33m.\u001b[0m\u001b[0mreset_index\u001b[0m\u001b[1;33m(\u001b[0m\u001b[0mdrop\u001b[0m\u001b[1;33m=\u001b[0m\u001b[1;32mTrue\u001b[0m\u001b[1;33m,\u001b[0m \u001b[0minplace\u001b[0m\u001b[1;33m=\u001b[0m\u001b[1;32mTrue\u001b[0m\u001b[1;33m)\u001b[0m\u001b[1;33m\u001b[0m\u001b[1;33m\u001b[0m\u001b[0m\n\u001b[1;32m----> 7\u001b[1;33m     \u001b[0mdf\u001b[0m\u001b[1;33m.\u001b[0m\u001b[0mto_csv\u001b[0m\u001b[1;33m(\u001b[0m\u001b[1;34m'Data/'\u001b[0m\u001b[1;33m+\u001b[0m\u001b[0msymbol\u001b[0m\u001b[1;33m+\u001b[0m\u001b[1;34m'.csv'\u001b[0m\u001b[1;33m)\u001b[0m\u001b[1;33m\u001b[0m\u001b[1;33m\u001b[0m\u001b[0m\n\u001b[0m",
      "\u001b[1;32mD:\\Anaconda3\\lib\\site-packages\\pandas\\core\\generic.py\u001b[0m in \u001b[0;36mto_csv\u001b[1;34m(self, path_or_buf, sep, na_rep, float_format, columns, header, index, index_label, mode, encoding, compression, quoting, quotechar, line_terminator, chunksize, date_format, doublequote, escapechar, decimal)\u001b[0m\n\u001b[0;32m   3226\u001b[0m             \u001b[0mdecimal\u001b[0m\u001b[1;33m=\u001b[0m\u001b[0mdecimal\u001b[0m\u001b[1;33m,\u001b[0m\u001b[1;33m\u001b[0m\u001b[1;33m\u001b[0m\u001b[0m\n\u001b[0;32m   3227\u001b[0m         )\n\u001b[1;32m-> 3228\u001b[1;33m         \u001b[0mformatter\u001b[0m\u001b[1;33m.\u001b[0m\u001b[0msave\u001b[0m\u001b[1;33m(\u001b[0m\u001b[1;33m)\u001b[0m\u001b[1;33m\u001b[0m\u001b[1;33m\u001b[0m\u001b[0m\n\u001b[0m\u001b[0;32m   3229\u001b[0m \u001b[1;33m\u001b[0m\u001b[0m\n\u001b[0;32m   3230\u001b[0m         \u001b[1;32mif\u001b[0m \u001b[0mpath_or_buf\u001b[0m \u001b[1;32mis\u001b[0m \u001b[1;32mNone\u001b[0m\u001b[1;33m:\u001b[0m\u001b[1;33m\u001b[0m\u001b[1;33m\u001b[0m\u001b[0m\n",
      "\u001b[1;32mD:\\Anaconda3\\lib\\site-packages\\pandas\\io\\formats\\csvs.py\u001b[0m in \u001b[0;36msave\u001b[1;34m(self)\u001b[0m\n\u001b[0;32m    181\u001b[0m                 \u001b[0mself\u001b[0m\u001b[1;33m.\u001b[0m\u001b[0mmode\u001b[0m\u001b[1;33m,\u001b[0m\u001b[1;33m\u001b[0m\u001b[1;33m\u001b[0m\u001b[0m\n\u001b[0;32m    182\u001b[0m                 \u001b[0mencoding\u001b[0m\u001b[1;33m=\u001b[0m\u001b[0mself\u001b[0m\u001b[1;33m.\u001b[0m\u001b[0mencoding\u001b[0m\u001b[1;33m,\u001b[0m\u001b[1;33m\u001b[0m\u001b[1;33m\u001b[0m\u001b[0m\n\u001b[1;32m--> 183\u001b[1;33m                 \u001b[0mcompression\u001b[0m\u001b[1;33m=\u001b[0m\u001b[0mself\u001b[0m\u001b[1;33m.\u001b[0m\u001b[0mcompression\u001b[0m\u001b[1;33m,\u001b[0m\u001b[1;33m\u001b[0m\u001b[1;33m\u001b[0m\u001b[0m\n\u001b[0m\u001b[0;32m    184\u001b[0m             )\n\u001b[0;32m    185\u001b[0m             \u001b[0mclose\u001b[0m \u001b[1;33m=\u001b[0m \u001b[1;32mTrue\u001b[0m\u001b[1;33m\u001b[0m\u001b[1;33m\u001b[0m\u001b[0m\n",
      "\u001b[1;32mD:\\Anaconda3\\lib\\site-packages\\pandas\\io\\common.py\u001b[0m in \u001b[0;36m_get_handle\u001b[1;34m(path_or_buf, mode, encoding, compression, memory_map, is_text)\u001b[0m\n\u001b[0;32m    397\u001b[0m         \u001b[1;32mif\u001b[0m \u001b[0mencoding\u001b[0m\u001b[1;33m:\u001b[0m\u001b[1;33m\u001b[0m\u001b[1;33m\u001b[0m\u001b[0m\n\u001b[0;32m    398\u001b[0m             \u001b[1;31m# Encoding\u001b[0m\u001b[1;33m\u001b[0m\u001b[1;33m\u001b[0m\u001b[1;33m\u001b[0m\u001b[0m\n\u001b[1;32m--> 399\u001b[1;33m             \u001b[0mf\u001b[0m \u001b[1;33m=\u001b[0m \u001b[0mopen\u001b[0m\u001b[1;33m(\u001b[0m\u001b[0mpath_or_buf\u001b[0m\u001b[1;33m,\u001b[0m \u001b[0mmode\u001b[0m\u001b[1;33m,\u001b[0m \u001b[0mencoding\u001b[0m\u001b[1;33m=\u001b[0m\u001b[0mencoding\u001b[0m\u001b[1;33m,\u001b[0m \u001b[0mnewline\u001b[0m\u001b[1;33m=\u001b[0m\u001b[1;34m\"\"\u001b[0m\u001b[1;33m)\u001b[0m\u001b[1;33m\u001b[0m\u001b[1;33m\u001b[0m\u001b[0m\n\u001b[0m\u001b[0;32m    400\u001b[0m         \u001b[1;32melif\u001b[0m \u001b[0mis_text\u001b[0m\u001b[1;33m:\u001b[0m\u001b[1;33m\u001b[0m\u001b[1;33m\u001b[0m\u001b[0m\n\u001b[0;32m    401\u001b[0m             \u001b[1;31m# No explicit encoding\u001b[0m\u001b[1;33m\u001b[0m\u001b[1;33m\u001b[0m\u001b[1;33m\u001b[0m\u001b[0m\n",
      "\u001b[1;31mPermissionError\u001b[0m: [Errno 13] Permission denied: 'Data/000001.csv'"
     ]
    }
   ],
   "source": [
    "all_stocks = tqdm(stock_list)\n",
    "for stock in all_stocks:\n",
    "    symbol = stock.split('.')[0]\n",
    "    df = ts.pro_bar(ts_code=stock, adj='qfq', start_date=start_date, end_date=end_date)\n",
    "    df.sort_index(axis=0, ascending = False, inplace = True)\n",
    "    df.reset_index(drop=True, inplace=True)\n",
    "    df.to_csv('Data/'+symbol+'.csv')\n"
   ]
  },
  {
   "cell_type": "code",
   "execution_count": 157,
   "metadata": {},
   "outputs": [
    {
     "name": "stdout",
     "output_type": "stream",
     "text": [
      "        ts_code trade_date     open     high      low    close  pre_close  \\\n",
      "3050  000009.SZ   20020806  18.8649  20.5488  18.8649  20.0351    18.9220   \n",
      "3051  000009.SZ   20020805  19.2360  19.2360  18.8649  18.9220    19.2930   \n",
      "3052  000009.SZ   20020802  19.3216  19.4928  19.1503  19.2930    19.3787   \n",
      "3053  000009.SZ   20020801  19.0362  19.6070  18.7222  19.3787    19.1218   \n",
      "3054  000009.SZ   20020731  19.4072  19.6641  19.0362  19.1218    19.4357   \n",
      "3055  000009.SZ   20020730  19.4643  19.6070  19.0933  19.4357    19.6070   \n",
      "3056  000009.SZ   20020729  19.2074  19.6355  19.0076  19.6070    19.2930   \n",
      "3057  000009.SZ   20020726  20.0065  20.0922  19.2645  19.2930    20.0065   \n",
      "3058  000009.SZ   20020725  20.5488  20.6059  19.8353  20.0065    20.4061   \n",
      "3059  000009.SZ   20020724  20.0065  20.6059  19.9780  20.4061    19.9495   \n",
      "3060  000009.SZ   20020723  20.0065  20.3490  19.8068  19.9495    20.2349   \n",
      "3061  000009.SZ   20020722  20.5773  20.7771  20.1492  20.2349    20.6915   \n",
      "3062  000009.SZ   20020719  20.8342  20.9484  20.5488  20.6915    20.7771   \n",
      "3063  000009.SZ   20020718  20.9769  21.0625  20.7200  20.7771    20.9198   \n",
      "3064  000009.SZ   20020717  20.5203  21.0625  20.3776  20.9198    20.4917   \n",
      "3065  000009.SZ   20020716  20.2919  20.8342  20.2634  20.4917    20.2919   \n",
      "3066  000009.SZ   20020715  20.4346  20.6915  20.1207  20.2919    20.5773   \n",
      "3067  000009.SZ   20020712  20.8342  21.0625  20.5488  20.5773    20.8627   \n",
      "3068  000009.SZ   20020711  21.2623  21.4906  20.5773  20.8627    21.2908   \n",
      "3069  000009.SZ   20020710  21.8902  22.2041  21.2623  21.2908    21.8902   \n",
      "3070  000009.SZ   20020709  21.7760  22.2612  21.6333  21.8902    21.7760   \n",
      "3071  000009.SZ   20020708  21.6048  21.8616  21.1196  21.7760    21.6333   \n",
      "3072  000009.SZ   20020705  21.7760  21.8331  20.9769  21.6333    21.7760   \n",
      "3073  000009.SZ   20020704  21.4621  22.2041  21.4621  21.7760    21.4335   \n",
      "3074  000009.SZ   20020703  21.3479  21.6904  21.0054  21.4335    21.4050   \n",
      "3075  000009.SZ   20020702  20.8057  22.1756  20.6915  21.4050    20.8342   \n",
      "3076  000009.SZ   20020701  21.3765  21.5477  20.6630  20.8342    21.8046   \n",
      "3077  000009.SZ   20020627  21.3479  22.6608  20.5488  21.8046    21.5477   \n",
      "3078  000009.SZ   20020626  20.6059  21.9473  20.0636  21.5477    20.6344   \n",
      "3079  000009.SZ   20020625  20.6344  20.6344  20.3490  20.6344    18.7508   \n",
      "3080  000009.SZ   20020624  18.7508  18.7508  18.7508  18.7508    17.0384   \n",
      "3081  000009.SZ   20020621  15.5543  17.0384  15.5258  17.0384    15.4972   \n",
      "3082  000009.SZ   20020620  14.9264  15.8112  14.8693  15.4972    14.9550   \n",
      "3083  000009.SZ   20020619  15.2689  15.2689  14.8693  14.9550    15.2118   \n",
      "3084  000009.SZ   20020618  14.9835  15.3545  14.8408  15.2118    14.8979   \n",
      "3085  000009.SZ   20020617  14.7552  15.0120  14.4412  14.8979    14.8123   \n",
      "3086  000009.SZ   20020614  14.9550  15.0691  14.7837  14.8123    15.0406   \n",
      "3087  000009.SZ   20020613  14.9835  15.5543  14.9835  15.0406    15.0691   \n",
      "3088  000009.SZ   20020612  15.2689  15.3545  14.8979  15.0691    15.2689   \n",
      "3089  000009.SZ   20020611  15.1262  15.4401  15.0977  15.2689    15.2689   \n",
      "3090  000009.SZ   20020610  15.5258  15.7541  15.0120  15.2689    15.6114   \n",
      "3091  000009.SZ   20020607  15.0977  15.9253  14.8408  15.6114    15.1262   \n",
      "3092  000009.SZ   20020606  14.0131  15.4116  13.7563  15.1262    14.0131   \n",
      "3093  000009.SZ   20020605  14.4983  14.4983  13.9846  14.0131    14.4983   \n",
      "3094  000009.SZ   20020604  14.3271  14.6696  14.3271  14.4983    14.3271   \n",
      "3095  000009.SZ   20020603  14.6981  14.7266  14.2985  14.3271    14.8408   \n",
      "3096  000009.SZ   20020531  14.9264  15.1262  14.8408  14.8408    14.9835   \n",
      "3097  000009.SZ   20020530  15.1262  15.1262  14.6981  14.9835    15.2689   \n",
      "3098  000009.SZ   20020529  15.7826  15.8112  15.1262  15.2689    15.7541   \n",
      "3099  000009.SZ   20020528  15.6970  15.8397  15.6399  15.7541    15.6970   \n",
      "3100  000009.SZ   20020527  15.5828  15.8682  15.4687  15.6970    15.6114   \n",
      "3101  000009.SZ   20020524  15.7826  15.8968  15.5543  15.6114    15.7826   \n",
      "3102  000009.SZ   20020523  15.6970  16.1251  15.6970  15.7826    15.6970   \n",
      "3103  000009.SZ   20020522  15.9253  15.9824  15.6970  15.6970    15.8682   \n",
      "3104  000009.SZ   20020521  15.9824  16.2678  15.7255  15.8682    15.5543   \n",
      "3105  000009.SZ   20020520  15.7826  15.8112  15.2118  15.5543    15.8397   \n",
      "3106  000009.SZ   20020517  15.5828  15.9824  15.2118  15.8397    15.5828   \n",
      "3107  000009.SZ   20020516  16.0395  16.0680  15.5543  15.5828    16.1536   \n",
      "3108  000009.SZ   20020515  16.2678  16.3249  16.0680  16.1536    16.2678   \n",
      "3109  000009.SZ   20020514  16.2678  16.4961  16.2107  16.2678    16.2107   \n",
      "\n",
      "      change  pct_chg         vol       amount  \n",
      "3050  1.1131   5.8826   254005.68  178737.0814  \n",
      "3051 -0.3710  -1.9230    43586.99   28986.5058  \n",
      "3052 -0.0857  -0.4422    32943.84   22332.6512  \n",
      "3053  0.2569   1.3435    97222.77   65537.0232  \n",
      "3054 -0.3139  -1.6151    61120.51   41366.6168  \n",
      "3055 -0.1713  -0.8737    62811.54   42648.3816  \n",
      "3056  0.3140   1.6275    95782.67   64565.9827  \n",
      "3057 -0.7135  -3.5663   106707.56   73276.6943  \n",
      "3058 -0.3996  -1.9582    88264.85   61982.9871  \n",
      "3059  0.4566   2.2888   112929.92   80504.6437  \n",
      "3060 -0.2854  -1.4104   123213.67   86577.6082  \n",
      "3061 -0.4566  -2.2067   107442.64   76411.7872  \n",
      "3062 -0.0856  -0.4120    81723.90   59177.8363  \n",
      "3063 -0.1427  -0.6821   111116.26   81276.3795  \n",
      "3064  0.4281   2.0891   113866.83   82534.0466  \n",
      "3065  0.1998   0.9846   115243.00   82898.7246  \n",
      "3066 -0.2854  -1.3870   125084.32   88977.8824  \n",
      "3067 -0.2854  -1.3680   143229.50  104168.1174  \n",
      "3068 -0.4281  -2.0107   247108.71  181860.9679  \n",
      "3069 -0.5994  -2.7382   291929.41  221808.8198  \n",
      "3070  0.1142   0.5244   345492.98  266395.5666  \n",
      "3071  0.1427   0.6596   231704.74  174969.9927  \n",
      "3072 -0.1427  -0.6553   155211.61  116478.2155  \n",
      "3073  0.3425   1.5980   426123.16  325948.8342  \n",
      "3074  0.0285   0.1331   221246.74  165648.8376  \n",
      "3075  0.5708   2.7397   506094.43  382327.2711  \n",
      "3076 -0.9704  -4.4504   369303.64  272191.9657  \n",
      "3077  0.2569   1.1922   769874.21  579686.7217  \n",
      "3078  0.9133   4.4261  1179987.22  867047.9010  \n",
      "3079  1.8836  10.0454   523429.63  378331.5974  \n",
      "3080  1.7124  10.0502   106327.95   69857.4632  \n",
      "3081  1.5412   9.9450   291546.28  171636.9368  \n",
      "3082  0.5422   3.6255    84423.19   45860.8005  \n",
      "3083 -0.2568  -1.6882    19326.41   10180.8332  \n",
      "3084  0.3139   2.1070    39595.36   21110.8969  \n",
      "3085  0.0856   0.5779    17126.68    8846.3539  \n",
      "3086 -0.2283  -1.5179    19933.85   10386.2585  \n",
      "3087 -0.0285  -0.1891    25211.25   13484.1430  \n",
      "3088 -0.1998  -1.3085    20138.31   10619.6742  \n",
      "3089  0.0000   0.0000    20803.74   11149.4037  \n",
      "3090 -0.3425  -2.1939    53873.74   28994.1029  \n",
      "3091  0.4852   3.2077   107565.48   58110.5583  \n",
      "3092  1.1131   7.9433    69099.39   35754.7062  \n",
      "3093 -0.4852  -3.3466    27972.05   13874.8310  \n",
      "3094  0.1712   1.1949    21937.81   11141.3460  \n",
      "3095 -0.5137  -3.4614    31562.31   16016.5252  \n",
      "3096 -0.1427  -0.9524    16169.33    8461.3404  \n",
      "3097 -0.2854  -1.8692    26897.44   14090.5468  \n",
      "3098 -0.4852  -3.0798    32659.35   17518.4155  \n",
      "3099  0.0571   0.3638    14213.64    7832.1433  \n",
      "3100  0.0856   0.5483    15596.39    8526.9098  \n",
      "3101 -0.1712  -1.0847    19781.59   10842.2022  \n",
      "3102  0.0856   0.5453    21972.07   12236.1193  \n",
      "3103 -0.1712  -1.0789    24833.59   13706.0065  \n",
      "3104  0.3139   2.0181    63541.75   35563.5555  \n",
      "3105 -0.2854  -1.8018    36135.67   19525.1095  \n",
      "3106  0.2569   1.6486    30615.12   16787.8082  \n",
      "3107 -0.5708  -3.5336    45485.03   25115.9941  \n",
      "3108 -0.1142  -0.7020    24336.18   13803.3070  \n",
      "3109  0.0571   0.3522    20770.84   11871.7563  \n"
     ]
    }
   ],
   "source": [
    "start_date = '2000-01-01'\n",
    "end_date = '2015-12-31'\n",
    "df = ts.pro_bar(ts_code='000009.SZ', adj='hfq', start_date=start_date , end_date=end_date)\n",
    "# print(df)\n",
    "\n",
    "print(df[3050:3110])\n",
    "# if df is not None:\n",
    "#     df.sort_index(axis=0, ascending = False, inplace = True)\n",
    "#     df.reset_index(drop=True, inplace=True)\n",
    "#     df = df.drop(['pre_close', 'change', 'amount'], axis=1)\n",
    "#     if len(df)>50:\n",
    "#         print(df[566:586])"
   ]
  },
  {
   "cell_type": "code",
   "execution_count": 28,
   "metadata": {},
   "outputs": [
    {
     "data": {
      "text/plain": [
       "'20180815'"
      ]
     },
     "execution_count": 28,
     "metadata": {},
     "output_type": "execute_result"
    }
   ],
   "source": [
    "df1 = df.copy()[:15]\n",
    "df1.drop([5,6,4,7,8,9,12],inplace = True)\n",
    "df1.trade_date[10]"
   ]
  },
  {
   "cell_type": "code",
   "execution_count": 112,
   "metadata": {},
   "outputs": [],
   "source": [
    "def generate_img(data, length):\n",
    "    data_copy = data[:-length].copy()\n",
    "    for i in range(len(data)-length):\n",
    "        start = np.random.choice(data_copy.index)\n",
    "        img_name = data_copy.trade_date[start]+'_'+data.ts_code[start].split('.')[0]\n",
    "        data_copy.drop([start], inplace=True)\n",
    "        img_data = data[start:start+length]\n",
    "        \n",
    "        fig = plt.figure(figsize=(12, 10))\n",
    "        ax = fig.add_axes([0,0.2,1,0.8])\n",
    "        ax2 = fig.add_axes([0,0,1,0.2])\n",
    "        \n",
    "#         ax.set_xticks(range(0, len(img_data['trade_date']), 10))\n",
    "#         ax.set_xticklabels(img_data['trade_date'][::10])\n",
    "        \n",
    "        mpf.candlestick2_ochl(ax, img_data['open'], img_data['close'], img_data['high'], img_data['low'],\n",
    "                            width=0.5, colorup='r', colordown='green',\n",
    "                            alpha=1)\n",
    "#         plt.xticks([])\n",
    "#         plt.yticks([])\n",
    "        ax.spines['top'].set_visible(False)\n",
    "        ax.spines['right'].set_visible(False)\n",
    "        ax.spines['bottom'].set_visible(True)\n",
    "        ax.spines['left'].set_visible(False)\n",
    "\n",
    "        mpf.volume_overlay(ax2, img_data['open'], img_data['close'], img_data['vol'], colorup='r', colordown='g', width=0.5, alpha=0.8)\n",
    "#         plt.xticks([])\n",
    "#         plt.yticks([])\n",
    "        ax2.spines['top'].set_visible(True)\n",
    "        ax2.spines['right'].set_visible(False)\n",
    "        ax2.spines['bottom'].set_visible(False)\n",
    "        ax2.spines['left'].set_visible(False)\n",
    "        plt.subplots_adjust(hspace=0)\n",
    "        \n",
    "        if data['pct_chg'][start+length] > 2:\n",
    "            plt.savefig(\"Data/up/\"+img_name + \".png\")\n",
    "        if 0 < data['pct_chg'][start+length] <= 2:\n",
    "            plt.savefig(\"Data/up_2/\"+img_name + \".png\")\n",
    "        if -2 < data['pct_chg'][start+length] <= 0:\n",
    "            plt.savefig(\"Data/down_2/\"+img_name + \".png\")\n",
    "        if data['pct_chg'][start+length] <= -2:\n",
    "            plt.savefig(\"Data/down/\"+img_name + \".png\")\n",
    "        plt.close(fig)"
   ]
  },
  {
   "cell_type": "code",
   "execution_count": 113,
   "metadata": {},
   "outputs": [
    {
     "name": "stdout",
     "output_type": "stream",
     "text": [
      "---  There is this folder!  ---\n",
      "---  There is this folder!  ---\n",
      "---  There is this folder!  ---\n",
      "---  There is this folder!  ---\n"
     ]
    }
   ],
   "source": [
    "import os\n",
    "\n",
    "def mkdir(path):\n",
    "\n",
    "    folder = os.path.exists(path)\n",
    "\n",
    "    if not folder:                   #判断是否存在文件夹如果不存在则创建为文件夹\n",
    "        os.makedirs(path)            #makedirs 创建文件时如果路径不存在会创建这个路径\n",
    "        print( \"---  new folder...  ---\")\n",
    "        print( \"---  OK  ---\")\n",
    "\n",
    "    else:\n",
    "        print (\"---  There is this folder!  ---\")\n",
    "\n",
    "file = \"Data/\"\n",
    "mkdir(file+'up')\n",
    "mkdir(file+'up_2')\n",
    "mkdir(file+'down')\n",
    "mkdir(file+'down_2')\n",
    "\n",
    "generate_img(df,30)"
   ]
  },
  {
   "cell_type": "code",
   "execution_count": null,
   "metadata": {},
   "outputs": [],
   "source": []
  }
 ],
 "metadata": {
  "kernelspec": {
   "display_name": "Python 3",
   "language": "python",
   "name": "python3"
  },
  "language_info": {
   "codemirror_mode": {
    "name": "ipython",
    "version": 3
   },
   "file_extension": ".py",
   "mimetype": "text/x-python",
   "name": "python",
   "nbconvert_exporter": "python",
   "pygments_lexer": "ipython3",
   "version": "3.7.4"
  },
  "pycharm": {
   "stem_cell": {
    "cell_type": "raw",
    "metadata": {
     "collapsed": false
    },
    "source": []
   }
  }
 },
 "nbformat": 4,
 "nbformat_minor": 2
}