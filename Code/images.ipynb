{
 "cells": [
  {
   "cell_type": "markdown",
   "metadata": {
    "colab_type": "text",
    "id": "hoQQiZDB6URn"
   },
   "source": [
    "## Configuration"
   ]
  },
  {
   "cell_type": "code",
   "execution_count": 1,
   "metadata": {},
   "outputs": [],
   "source": [
    "import tensorflow as tf"
   ]
  },
  {
   "cell_type": "markdown",
   "metadata": {},
   "source": [
    "### Locate the images\n",
    "visit the images in the path, where they are classified by the categories"
   ]
  },
  {
   "cell_type": "code",
   "execution_count": 2,
   "metadata": {},
   "outputs": [
    {
     "name": "stdout",
     "output_type": "stream",
     "text": "/Users/cyril/Documents/Github/Dissertation/Data/Triple Tops\n/Users/cyril/Documents/Github/Dissertation/Data/.DS_Store\n/Users/cyril/Documents/Github/Dissertation/Data/Pipe Tops\n/Users/cyril/Documents/Github/Dissertation/Data/Flags\n/Users/cyril/Documents/Github/Dissertation/Data/Rectangle Tops\n/Users/cyril/Documents/Github/Dissertation/Data/Gaps\n/Users/cyril/Documents/Github/Dissertation/Data/Island Reversals\n/Users/cyril/Documents/Github/Dissertation/Data/Horn Bottoms\n/Users/cyril/Documents/Github/Dissertation/Data/Scallops\n/Users/cyril/Documents/Github/Dissertation/Data/Pipe Bottoms\n/Users/cyril/Documents/Github/Dissertation/Data/Horn Tops\n/Users/cyril/Documents/Github/Dissertation/Data/Pennants\n/Users/cyril/Documents/Github/Dissertation/Data/Triple Bottoms\n/Users/cyril/Documents/Github/Dissertation/Data/Rectangle Bottoms\n"
    }
   ],
   "source": [
    "import pathlib\n",
    "\n",
    "data_root = pathlib.Path.home().joinpath('Documents/Github/Dissertation/Data/')\n",
    "for item in data_root.iterdir():\n",
    "  print(item)"
   ]
  },
  {
   "cell_type": "code",
   "execution_count": 17,
   "metadata": {},
   "outputs": [
    {
     "data": {
      "text/plain": "374"
     },
     "execution_count": 17,
     "metadata": {},
     "output_type": "execute_result"
    }
   ],
   "source": [
    "import random\n",
    "all_image_paths = list(data_root.glob('*/*'))\n",
    "all_image_paths = [str(path) for path in all_image_paths if \"DS_Store\" not in str(path)]\n",
    "random.shuffle(all_image_paths)\n",
    "\n",
    "image_count = len(all_image_paths)\n",
    "image_count"
   ]
  },
  {
   "cell_type": "code",
   "execution_count": 18,
   "metadata": {},
   "outputs": [
    {
     "data": {
      "text/plain": "['/Users/cyril/Documents/Github/Dissertation/Data/Pennants/000025_20010912.jpg',\n '/Users/cyril/Documents/Github/Dissertation/Data/Horn Tops/000007_20100126.jpg',\n '/Users/cyril/Documents/Github/Dissertation/Data/Scallops/000153_20100125.jpg',\n '/Users/cyril/Documents/Github/Dissertation/Data/Flags/000011_20000926.jpg',\n '/Users/cyril/Documents/Github/Dissertation/Data/Horn Tops/000020_20050726.jpg',\n '/Users/cyril/Documents/Github/Dissertation/Data/Gaps/000156_20130412.jpg',\n '/Users/cyril/Documents/Github/Dissertation/Data/Pipe Bottoms/000027_20050524.jpg',\n '/Users/cyril/Documents/Github/Dissertation/Data/Horn Tops/000419_20091207.jpg',\n '/Users/cyril/Documents/Github/Dissertation/Data/Pipe Bottoms/000006_20150306.jpg',\n '/Users/cyril/Documents/Github/Dissertation/Data/Scallops/000056_20120215.jpg']"
     },
     "execution_count": 18,
     "metadata": {},
     "output_type": "execute_result"
    }
   ],
   "source": [
    "all_image_paths[:10]"
   ]
  },
  {
   "cell_type": "markdown",
   "metadata": {
    "colab_type": "text",
    "id": "OaNOr-co3WKk"
   },
   "source": [
    "### List the labels"
   ]
  },
  {
   "cell_type": "code",
   "execution_count": 19,
   "metadata": {},
   "outputs": [
    {
     "data": {
      "text/plain": "['Flags',\n 'Gaps',\n 'Horn Bottoms',\n 'Horn Tops',\n 'Island Reversals',\n 'Pennants',\n 'Pipe Bottoms',\n 'Pipe Tops',\n 'Rectangle Bottoms',\n 'Rectangle Tops',\n 'Scallops',\n 'Triple Bottoms',\n 'Triple Tops']"
     },
     "execution_count": 19,
     "metadata": {},
     "output_type": "execute_result"
    }
   ],
   "source": [
    "label_names = sorted(item.name for item in data_root.glob('*/') if item.is_dir())\n",
    "label_names"
   ]
  },
  {
   "cell_type": "markdown",
   "metadata": {
    "colab_type": "text",
    "id": "9l_JEBql2OzS"
   },
   "source": [
    "#### set index for the label (as dictionary)"
   ]
  },
  {
   "cell_type": "code",
   "execution_count": 20,
   "metadata": {},
   "outputs": [
    {
     "data": {
      "text/plain": "{'Flags': 0,\n 'Gaps': 1,\n 'Horn Bottoms': 2,\n 'Horn Tops': 3,\n 'Island Reversals': 4,\n 'Pennants': 5,\n 'Pipe Bottoms': 6,\n 'Pipe Tops': 7,\n 'Rectangle Bottoms': 8,\n 'Rectangle Tops': 9,\n 'Scallops': 10,\n 'Triple Bottoms': 11,\n 'Triple Tops': 12}"
     },
     "execution_count": 20,
     "metadata": {},
     "output_type": "execute_result"
    }
   ],
   "source": [
    "label_to_index = dict((name, index) for index, name in enumerate(label_names))\n",
    "label_to_index"
   ]
  },
  {
   "cell_type": "markdown",
   "metadata": {
    "colab_type": "text",
    "id": "VkXsHg162T9F"
   },
   "source": [
    "#### Store all labels for each image"
   ]
  },
  {
   "cell_type": "code",
   "execution_count": 21,
   "metadata": {},
   "outputs": [
    {
     "name": "stdout",
     "output_type": "stream",
     "text": "First 10 labels indices:  [5, 3, 10, 0, 3, 1, 6, 3, 6, 10]\n"
    }
   ],
   "source": [
    "all_image_labels =[]\n",
    "all_image_labels = [label_to_index[pathlib.Path(path).parent.name]\n",
    "                    for path in all_image_paths]\n",
    "\n",
    "print(\"First 10 labels indices: \", all_image_labels[:10])"
   ]
  },
  {
   "cell_type": "markdown",
   "metadata": {
    "colab_type": "text",
    "id": "i5L09icm9iph"
   },
   "source": [
    "### Load and Normalize Data"
   ]
  },
  {
   "cell_type": "markdown",
   "metadata": {
    "colab_type": "text",
    "id": "SbqqRUS79ooq"
   },
   "source": [
    "#### Take one image as an example"
   ]
  },
  {
   "cell_type": "code",
   "execution_count": 22,
   "metadata": {},
   "outputs": [
    {
     "data": {
      "text/plain": "'/Users/cyril/Documents/Github/Dissertation/Data/Pennants/000025_20010912.jpg'"
     },
     "execution_count": 22,
     "metadata": {},
     "output_type": "execute_result"
    }
   ],
   "source": [
    "img_path = all_image_paths[0]\n",
    "img_path"
   ]
  },
  {
   "cell_type": "code",
   "execution_count": 23,
   "metadata": {},
   "outputs": [
    {
     "data": {
      "text/plain": "numpy.ndarray"
     },
     "execution_count": 23,
     "metadata": {},
     "output_type": "execute_result"
    }
   ],
   "source": [
    "import cv2\n",
    "img_cv = cv2.imread(img_path)\n",
    "img_cv = img_cv[:, :, [2, 1, 0]]\n",
    "type(img_cv)"
   ]
  },
  {
   "cell_type": "code",
   "execution_count": 24,
   "metadata": {},
   "outputs": [],
   "source": [
    "img_size = (224, 224)"
   ]
  },
  {
   "cell_type": "markdown",
   "metadata": {
    "colab_type": "text",
    "id": "aCsAa4Psl4AQ"
   },
   "source": [
    "#### Design a function for later use"
   ]
  },
  {
   "cell_type": "code",
   "execution_count": 25,
   "metadata": {},
   "outputs": [],
   "source": [
    "def load_and_preprocess_image(image):\n",
    "    image = cv2.imread(image)\n",
    "    image = cv2.resize(image, img_size)\n",
    "    image = image[:, :, [2, 1, 0]]\n",
    "    image = image.astype('float64')\n",
    "    image /= 255.0  # normalize to [0,1] range\n",
    "\n",
    "    return image"
   ]
  },
  {
   "cell_type": "code",
   "execution_count": 26,
   "metadata": {},
   "outputs": [
    {
     "name": "stdout",
     "output_type": "stream",
     "text": "\n"
    },
    {
     "data": {
      "image/png": "[encoded data removed]",
      "image/svg+xml": "<?xml version=\"1.0\" encoding=\"utf-8\" standalone=\"no\"?>\n<!DOCTYPE svg PUBLIC \"-//W3C//DTD SVG 1.1//EN\"\n  \"http://www.w3.org/Graphics/SVG/1.1/DTD/svg11.dtd\">\n<!-- Created with matplotlib (https://matplotlib.org/) -->\n<svg height=\"263.63625pt\" version=\"1.1\" viewBox=\"0 0 257.9275 263.63625\" width=\"257.9275pt\" xmlns=\"http://www.w3.org/2000/svg\" xmlns:xlink=\"http://www.w3.org/1999/xlink\">\n <defs>\n  <style type=\"text/css\">\n*{stroke-linecap:butt;stroke-linejoin:round;}\n  </style>\n </defs>\n <g id=\"figure_1\">\n  <g id=\"patch_1\">\n   <path d=\"M 0 263.63625 \nL 257.9275 263.63625 \nL 257.9275 0 \nL 0 0 \nz\n\" style=\"fill:none;\"/>\n  </g>\n  <g id=\"axes_1\">\n   <g id=\"patch_2\">\n    <path d=\"M 33.2875 239.758125 \nL 250.7275 239.758125 \nL 250.7275 22.318125 \nL 33.2875 22.318125 \nz\n\" style=\"fill:#ffffff;\"/>\n   </g>\n   <g clip-path=\"url(#p62cf04455c)\">\n    <image height=\"218\" id=\"imagea1ee473206\" transform=\"scale(1 -1)translate(0 -218)\" width=\"218\" x=\"33.2875\" xlink:href=\"data:image/png;base64,\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\" y=\"-21.758125\"/>\n   </g>\n   <g id=\"matplotlib.axis_1\">\n    <g id=\"xtick_1\">\n     <g id=\"line2d_1\">\n      <defs>\n       <path d=\"M 0 0 \nL 0 3.5 \n\" id=\"mad22bc2123\" style=\"stroke:#000000;stroke-width:0.8;\"/>\n      </defs>\n      <g>\n       <use style=\"stroke:#000000;stroke-width:0.8;\" x=\"33.772857\" xlink:href=\"#mad22bc2123\" y=\"239.758125\"/>\n      </g>\n     </g>\n     <g id=\"text_1\">\n      <!-- 0 -->\n      <defs>\n       <path d=\"M 31.78125 66.40625 \nQ 24.171875 66.40625 20.328125 58.90625 \nQ 16.5 51.421875 16.5 36.375 \nQ 16.5 21.390625 20.328125 13.890625 \nQ 24.171875 6.390625 31.78125 6.390625 \nQ 39.453125 6.390625 43.28125 13.890625 \nQ 47.125 21.390625 47.125 36.375 \nQ 47.125 51.421875 43.28125 58.90625 \nQ 39.453125 66.40625 31.78125 66.40625 \nz\nM 31.78125 74.21875 \nQ 44.046875 74.21875 50.515625 64.515625 \nQ 56.984375 54.828125 56.984375 36.375 \nQ 56.984375 17.96875 50.515625 8.265625 \nQ 44.046875 -1.421875 31.78125 -1.421875 \nQ 19.53125 -1.421875 13.0625 8.265625 \nQ 6.59375 17.96875 6.59375 36.375 \nQ 6.59375 54.828125 13.0625 64.515625 \nQ 19.53125 74.21875 31.78125 74.21875 \nz\n\" id=\"DejaVuSans-48\"/>\n      </defs>\n      <g transform=\"translate(30.591607 254.356563)scale(0.1 -0.1)\">\n       <use xlink:href=\"#DejaVuSans-48\"/>\n      </g>\n     </g>\n    </g>\n    <g id=\"xtick_2\">\n     <g id=\"line2d_2\">\n      <g>\n       <use style=\"stroke:#000000;stroke-width:0.8;\" x=\"82.308571\" xlink:href=\"#mad22bc2123\" y=\"239.758125\"/>\n      </g>\n     </g>\n     <g id=\"text_2\">\n      <!-- 50 -->\n      <defs>\n       <path d=\"M 10.796875 72.90625 \nL 49.515625 72.90625 \nL 49.515625 64.59375 \nL 19.828125 64.59375 \nL 19.828125 46.734375 \nQ 21.96875 47.46875 24.109375 47.828125 \nQ 26.265625 48.1875 28.421875 48.1875 \nQ 40.625 48.1875 47.75 41.5 \nQ 54.890625 34.8125 54.890625 23.390625 \nQ 54.890625 11.625 47.5625 5.09375 \nQ 40.234375 -1.421875 26.90625 -1.421875 \nQ 22.3125 -1.421875 17.546875 -0.640625 \nQ 12.796875 0.140625 7.71875 1.703125 \nL 7.71875 11.625 \nQ 12.109375 9.234375 16.796875 8.0625 \nQ 21.484375 6.890625 26.703125 6.890625 \nQ 35.15625 6.890625 40.078125 11.328125 \nQ 45.015625 15.765625 45.015625 23.390625 \nQ 45.015625 31 40.078125 35.4375 \nQ 35.15625 39.890625 26.703125 39.890625 \nQ 22.75 39.890625 18.8125 39.015625 \nQ 14.890625 38.140625 10.796875 36.28125 \nz\n\" id=\"DejaVuSans-53\"/>\n      </defs>\n      <g transform=\"translate(75.946071 254.356563)scale(0.1 -0.1)\">\n       <use xlink:href=\"#DejaVuSans-53\"/>\n       <use x=\"63.623047\" xlink:href=\"#DejaVuSans-48\"/>\n      </g>\n     </g>\n    </g>\n    <g id=\"xtick_3\">\n     <g id=\"line2d_3\">\n      <g>\n       <use style=\"stroke:#000000;stroke-width:0.8;\" x=\"130.844286\" xlink:href=\"#mad22bc2123\" y=\"239.758125\"/>\n      </g>\n     </g>\n     <g id=\"text_3\">\n      <!-- 100 -->\n      <defs>\n       <path d=\"M 12.40625 8.296875 \nL 28.515625 8.296875 \nL 28.515625 63.921875 \nL 10.984375 60.40625 \nL 10.984375 69.390625 \nL 28.421875 72.90625 \nL 38.28125 72.90625 \nL 38.28125 8.296875 \nL 54.390625 8.296875 \nL 54.390625 0 \nL 12.40625 0 \nz\n\" id=\"DejaVuSans-49\"/>\n      </defs>\n      <g transform=\"translate(121.300536 254.356563)scale(0.1 -0.1)\">\n       <use xlink:href=\"#DejaVuSans-49\"/>\n       <use x=\"63.623047\" xlink:href=\"#DejaVuSans-48\"/>\n       <use x=\"127.246094\" xlink:href=\"#DejaVuSans-48\"/>\n      </g>\n     </g>\n    </g>\n    <g id=\"xtick_4\">\n     <g id=\"line2d_4\">\n      <g>\n       <use style=\"stroke:#000000;stroke-width:0.8;\" x=\"179.38\" xlink:href=\"#mad22bc2123\" y=\"239.758125\"/>\n      </g>\n     </g>\n     <g id=\"text_4\">\n      <!-- 150 -->\n      <g transform=\"translate(169.83625 254.356563)scale(0.1 -0.1)\">\n       <use xlink:href=\"#DejaVuSans-49\"/>\n       <use x=\"63.623047\" xlink:href=\"#DejaVuSans-53\"/>\n       <use x=\"127.246094\" xlink:href=\"#DejaVuSans-48\"/>\n      </g>\n     </g>\n    </g>\n    <g id=\"xtick_5\">\n     <g id=\"line2d_5\">\n      <g>\n       <use style=\"stroke:#000000;stroke-width:0.8;\" x=\"227.915714\" xlink:href=\"#mad22bc2123\" y=\"239.758125\"/>\n      </g>\n     </g>\n     <g id=\"text_5\">\n      <!-- 200 -->\n      <defs>\n       <path d=\"M 19.1875 8.296875 \nL 53.609375 8.296875 \nL 53.609375 0 \nL 7.328125 0 \nL 7.328125 8.296875 \nQ 12.9375 14.109375 22.625 23.890625 \nQ 32.328125 33.6875 34.8125 36.53125 \nQ 39.546875 41.84375 41.421875 45.53125 \nQ 43.3125 49.21875 43.3125 52.78125 \nQ 43.3125 58.59375 39.234375 62.25 \nQ 35.15625 65.921875 28.609375 65.921875 \nQ 23.96875 65.921875 18.8125 64.3125 \nQ 13.671875 62.703125 7.8125 59.421875 \nL 7.8125 69.390625 \nQ 13.765625 71.78125 18.9375 73 \nQ 24.125 74.21875 28.421875 74.21875 \nQ 39.75 74.21875 46.484375 68.546875 \nQ 53.21875 62.890625 53.21875 53.421875 \nQ 53.21875 48.921875 51.53125 44.890625 \nQ 49.859375 40.875 45.40625 35.40625 \nQ 44.1875 33.984375 37.640625 27.21875 \nQ 31.109375 20.453125 19.1875 8.296875 \nz\n\" id=\"DejaVuSans-50\"/>\n      </defs>\n      <g transform=\"translate(218.371964 254.356563)scale(0.1 -0.1)\">\n       <use xlink:href=\"#DejaVuSans-50\"/>\n       <use x=\"63.623047\" xlink:href=\"#DejaVuSans-48\"/>\n       <use x=\"127.246094\" xlink:href=\"#DejaVuSans-48\"/>\n      </g>\n     </g>\n    </g>\n   </g>\n   <g id=\"matplotlib.axis_2\">\n    <g id=\"ytick_1\">\n     <g id=\"line2d_6\">\n      <defs>\n       <path d=\"M 0 0 \nL -3.5 0 \n\" id=\"mfb15806e8b\" style=\"stroke:#000000;stroke-width:0.8;\"/>\n      </defs>\n      <g>\n       <use style=\"stroke:#000000;stroke-width:0.8;\" x=\"33.2875\" xlink:href=\"#mfb15806e8b\" y=\"22.803482\"/>\n      </g>\n     </g>\n     <g id=\"text_6\">\n      <!-- 0 -->\n      <g transform=\"translate(19.925 26.602701)scale(0.1 -0.1)\">\n       <use xlink:href=\"#DejaVuSans-48\"/>\n      </g>\n     </g>\n    </g>\n    <g id=\"ytick_2\">\n     <g id=\"line2d_7\">\n      <g>\n       <use style=\"stroke:#000000;stroke-width:0.8;\" x=\"33.2875\" xlink:href=\"#mfb15806e8b\" y=\"47.071339\"/>\n      </g>\n     </g>\n     <g id=\"text_7\">\n      <!-- 25 -->\n      <g transform=\"translate(13.5625 50.870558)scale(0.1 -0.1)\">\n       <use xlink:href=\"#DejaVuSans-50\"/>\n       <use x=\"63.623047\" xlink:href=\"#DejaVuSans-53\"/>\n      </g>\n     </g>\n    </g>\n    <g id=\"ytick_3\">\n     <g id=\"line2d_8\">\n      <g>\n       <use style=\"stroke:#000000;stroke-width:0.8;\" x=\"33.2875\" xlink:href=\"#mfb15806e8b\" y=\"71.339196\"/>\n      </g>\n     </g>\n     <g id=\"text_8\">\n      <!-- 50 -->\n      <g transform=\"translate(13.5625 75.138415)scale(0.1 -0.1)\">\n       <use xlink:href=\"#DejaVuSans-53\"/>\n       <use x=\"63.623047\" xlink:href=\"#DejaVuSans-48\"/>\n      </g>\n     </g>\n    </g>\n    <g id=\"ytick_4\">\n     <g id=\"line2d_9\">\n      <g>\n       <use style=\"stroke:#000000;stroke-width:0.8;\" x=\"33.2875\" xlink:href=\"#mfb15806e8b\" y=\"95.607054\"/>\n      </g>\n     </g>\n     <g id=\"text_9\">\n      <!-- 75 -->\n      <defs>\n       <path d=\"M 8.203125 72.90625 \nL 55.078125 72.90625 \nL 55.078125 68.703125 \nL 28.609375 0 \nL 18.3125 0 \nL 43.21875 64.59375 \nL 8.203125 64.59375 \nz\n\" id=\"DejaVuSans-55\"/>\n      </defs>\n      <g transform=\"translate(13.5625 99.406272)scale(0.1 -0.1)\">\n       <use xlink:href=\"#DejaVuSans-55\"/>\n       <use x=\"63.623047\" xlink:href=\"#DejaVuSans-53\"/>\n      </g>\n     </g>\n    </g>\n    <g id=\"ytick_5\">\n     <g id=\"line2d_10\">\n      <g>\n       <use style=\"stroke:#000000;stroke-width:0.8;\" x=\"33.2875\" xlink:href=\"#mfb15806e8b\" y=\"119.874911\"/>\n      </g>\n     </g>\n     <g id=\"text_10\">\n      <!-- 100 -->\n      <g transform=\"translate(7.2 123.674129)scale(0.1 -0.1)\">\n       <use xlink:href=\"#DejaVuSans-49\"/>\n       <use x=\"63.623047\" xlink:href=\"#DejaVuSans-48\"/>\n       <use x=\"127.246094\" xlink:href=\"#DejaVuSans-48\"/>\n      </g>\n     </g>\n    </g>\n    <g id=\"ytick_6\">\n     <g id=\"line2d_11\">\n      <g>\n       <use style=\"stroke:#000000;stroke-width:0.8;\" x=\"33.2875\" xlink:href=\"#mfb15806e8b\" y=\"144.142768\"/>\n      </g>\n     </g>\n     <g id=\"text_11\">\n      <!-- 125 -->\n      <g transform=\"translate(7.2 147.941987)scale(0.1 -0.1)\">\n       <use xlink:href=\"#DejaVuSans-49\"/>\n       <use x=\"63.623047\" xlink:href=\"#DejaVuSans-50\"/>\n       <use x=\"127.246094\" xlink:href=\"#DejaVuSans-53\"/>\n      </g>\n     </g>\n    </g>\n    <g id=\"ytick_7\">\n     <g id=\"line2d_12\">\n      <g>\n       <use style=\"stroke:#000000;stroke-width:0.8;\" x=\"33.2875\" xlink:href=\"#mfb15806e8b\" y=\"168.410625\"/>\n      </g>\n     </g>\n     <g id=\"text_12\">\n      <!-- 150 -->\n      <g transform=\"translate(7.2 172.209844)scale(0.1 -0.1)\">\n       <use xlink:href=\"#DejaVuSans-49\"/>\n       <use x=\"63.623047\" xlink:href=\"#DejaVuSans-53\"/>\n       <use x=\"127.246094\" xlink:href=\"#DejaVuSans-48\"/>\n      </g>\n     </g>\n    </g>\n    <g id=\"ytick_8\">\n     <g id=\"line2d_13\">\n      <g>\n       <use style=\"stroke:#000000;stroke-width:0.8;\" x=\"33.2875\" xlink:href=\"#mfb15806e8b\" y=\"192.678482\"/>\n      </g>\n     </g>\n     <g id=\"text_13\">\n      <!-- 175 -->\n      <g transform=\"translate(7.2 196.477701)scale(0.1 -0.1)\">\n       <use xlink:href=\"#DejaVuSans-49\"/>\n       <use x=\"63.623047\" xlink:href=\"#DejaVuSans-55\"/>\n       <use x=\"127.246094\" xlink:href=\"#DejaVuSans-53\"/>\n      </g>\n     </g>\n    </g>\n    <g id=\"ytick_9\">\n     <g id=\"line2d_14\">\n      <g>\n       <use style=\"stroke:#000000;stroke-width:0.8;\" x=\"33.2875\" xlink:href=\"#mfb15806e8b\" y=\"216.946339\"/>\n      </g>\n     </g>\n     <g id=\"text_14\">\n      <!-- 200 -->\n      <g transform=\"translate(7.2 220.745558)scale(0.1 -0.1)\">\n       <use xlink:href=\"#DejaVuSans-50\"/>\n       <use x=\"63.623047\" xlink:href=\"#DejaVuSans-48\"/>\n       <use x=\"127.246094\" xlink:href=\"#DejaVuSans-48\"/>\n      </g>\n     </g>\n    </g>\n   </g>\n   <g id=\"patch_3\">\n    <path d=\"M 33.2875 239.758125 \nL 33.2875 22.318125 \n\" style=\"fill:none;stroke:#000000;stroke-linecap:square;stroke-linejoin:miter;stroke-width:0.8;\"/>\n   </g>\n   <g id=\"patch_4\">\n    <path d=\"M 250.7275 239.758125 \nL 250.7275 22.318125 \n\" style=\"fill:none;stroke:#000000;stroke-linecap:square;stroke-linejoin:miter;stroke-width:0.8;\"/>\n   </g>\n   <g id=\"patch_5\">\n    <path d=\"M 33.2875 239.758125 \nL 250.7275 239.758125 \n\" style=\"fill:none;stroke:#000000;stroke-linecap:square;stroke-linejoin:miter;stroke-width:0.8;\"/>\n   </g>\n   <g id=\"patch_6\">\n    <path d=\"M 33.2875 22.318125 \nL 250.7275 22.318125 \n\" style=\"fill:none;stroke:#000000;stroke-linecap:square;stroke-linejoin:miter;stroke-width:0.8;\"/>\n   </g>\n   <g id=\"text_15\">\n    <!-- Pennants -->\n    <defs>\n     <path d=\"M 19.671875 64.796875 \nL 19.671875 37.40625 \nL 32.078125 37.40625 \nQ 38.96875 37.40625 42.71875 40.96875 \nQ 46.484375 44.53125 46.484375 51.125 \nQ 46.484375 57.671875 42.71875 61.234375 \nQ 38.96875 64.796875 32.078125 64.796875 \nz\nM 9.8125 72.90625 \nL 32.078125 72.90625 \nQ 44.34375 72.90625 50.609375 67.359375 \nQ 56.890625 61.8125 56.890625 51.125 \nQ 56.890625 40.328125 50.609375 34.8125 \nQ 44.34375 29.296875 32.078125 29.296875 \nL 19.671875 29.296875 \nL 19.671875 0 \nL 9.8125 0 \nz\n\" id=\"DejaVuSans-80\"/>\n     <path d=\"M 56.203125 29.59375 \nL 56.203125 25.203125 \nL 14.890625 25.203125 \nQ 15.484375 15.921875 20.484375 11.0625 \nQ 25.484375 6.203125 34.421875 6.203125 \nQ 39.59375 6.203125 44.453125 7.46875 \nQ 49.3125 8.734375 54.109375 11.28125 \nL 54.109375 2.78125 \nQ 49.265625 0.734375 44.1875 -0.34375 \nQ 39.109375 -1.421875 33.890625 -1.421875 \nQ 20.796875 -1.421875 13.15625 6.1875 \nQ 5.515625 13.8125 5.515625 26.8125 \nQ 5.515625 40.234375 12.765625 48.109375 \nQ 20.015625 56 32.328125 56 \nQ 43.359375 56 49.78125 48.890625 \nQ 56.203125 41.796875 56.203125 29.59375 \nz\nM 47.21875 32.234375 \nQ 47.125 39.59375 43.09375 43.984375 \nQ 39.0625 48.390625 32.421875 48.390625 \nQ 24.90625 48.390625 20.390625 44.140625 \nQ 15.875 39.890625 15.1875 32.171875 \nz\n\" id=\"DejaVuSans-101\"/>\n     <path d=\"M 54.890625 33.015625 \nL 54.890625 0 \nL 45.90625 0 \nL 45.90625 32.71875 \nQ 45.90625 40.484375 42.875 44.328125 \nQ 39.84375 48.1875 33.796875 48.1875 \nQ 26.515625 48.1875 22.3125 43.546875 \nQ 18.109375 38.921875 18.109375 30.90625 \nL 18.109375 0 \nL 9.078125 0 \nL 9.078125 54.6875 \nL 18.109375 54.6875 \nL 18.109375 46.1875 \nQ 21.34375 51.125 25.703125 53.5625 \nQ 30.078125 56 35.796875 56 \nQ 45.21875 56 50.046875 50.171875 \nQ 54.890625 44.34375 54.890625 33.015625 \nz\n\" id=\"DejaVuSans-110\"/>\n     <path d=\"M 34.28125 27.484375 \nQ 23.390625 27.484375 19.1875 25 \nQ 14.984375 22.515625 14.984375 16.5 \nQ 14.984375 11.71875 18.140625 8.90625 \nQ 21.296875 6.109375 26.703125 6.109375 \nQ 34.1875 6.109375 38.703125 11.40625 \nQ 43.21875 16.703125 43.21875 25.484375 \nL 43.21875 27.484375 \nz\nM 52.203125 31.203125 \nL 52.203125 0 \nL 43.21875 0 \nL 43.21875 8.296875 \nQ 40.140625 3.328125 35.546875 0.953125 \nQ 30.953125 -1.421875 24.3125 -1.421875 \nQ 15.921875 -1.421875 10.953125 3.296875 \nQ 6 8.015625 6 15.921875 \nQ 6 25.140625 12.171875 29.828125 \nQ 18.359375 34.515625 30.609375 34.515625 \nL 43.21875 34.515625 \nL 43.21875 35.40625 \nQ 43.21875 41.609375 39.140625 45 \nQ 35.0625 48.390625 27.6875 48.390625 \nQ 23 48.390625 18.546875 47.265625 \nQ 14.109375 46.140625 10.015625 43.890625 \nL 10.015625 52.203125 \nQ 14.9375 54.109375 19.578125 55.046875 \nQ 24.21875 56 28.609375 56 \nQ 40.484375 56 46.34375 49.84375 \nQ 52.203125 43.703125 52.203125 31.203125 \nz\n\" id=\"DejaVuSans-97\"/>\n     <path d=\"M 18.3125 70.21875 \nL 18.3125 54.6875 \nL 36.8125 54.6875 \nL 36.8125 47.703125 \nL 18.3125 47.703125 \nL 18.3125 18.015625 \nQ 18.3125 11.328125 20.140625 9.421875 \nQ 21.96875 7.515625 27.59375 7.515625 \nL 36.8125 7.515625 \nL 36.8125 0 \nL 27.59375 0 \nQ 17.1875 0 13.234375 3.875 \nQ 9.28125 7.765625 9.28125 18.015625 \nL 9.28125 47.703125 \nL 2.6875 47.703125 \nL 2.6875 54.6875 \nL 9.28125 54.6875 \nL 9.28125 70.21875 \nz\n\" id=\"DejaVuSans-116\"/>\n     <path d=\"M 44.28125 53.078125 \nL 44.28125 44.578125 \nQ 40.484375 46.53125 36.375 47.5 \nQ 32.28125 48.484375 27.875 48.484375 \nQ 21.1875 48.484375 17.84375 46.4375 \nQ 14.5 44.390625 14.5 40.28125 \nQ 14.5 37.15625 16.890625 35.375 \nQ 19.28125 33.59375 26.515625 31.984375 \nL 29.59375 31.296875 \nQ 39.15625 29.25 43.1875 25.515625 \nQ 47.21875 21.78125 47.21875 15.09375 \nQ 47.21875 7.46875 41.1875 3.015625 \nQ 35.15625 -1.421875 24.609375 -1.421875 \nQ 20.21875 -1.421875 15.453125 -0.5625 \nQ 10.6875 0.296875 5.421875 2 \nL 5.421875 11.28125 \nQ 10.40625 8.6875 15.234375 7.390625 \nQ 20.0625 6.109375 24.8125 6.109375 \nQ 31.15625 6.109375 34.5625 8.28125 \nQ 37.984375 10.453125 37.984375 14.40625 \nQ 37.984375 18.0625 35.515625 20.015625 \nQ 33.0625 21.96875 24.703125 23.78125 \nL 21.578125 24.515625 \nQ 13.234375 26.265625 9.515625 29.90625 \nQ 5.8125 33.546875 5.8125 39.890625 \nQ 5.8125 47.609375 11.28125 51.796875 \nQ 16.75 56 26.8125 56 \nQ 31.78125 56 36.171875 55.265625 \nQ 40.578125 54.546875 44.28125 53.078125 \nz\n\" id=\"DejaVuSans-115\"/>\n    </defs>\n    <g transform=\"translate(114.138437 16.318125)scale(0.12 -0.12)\">\n     <use xlink:href=\"#DejaVuSans-80\"/>\n     <use x=\"60.255859\" xlink:href=\"#DejaVuSans-101\"/>\n     <use x=\"121.779297\" xlink:href=\"#DejaVuSans-110\"/>\n     <use x=\"185.158203\" xlink:href=\"#DejaVuSans-110\"/>\n     <use x=\"248.537109\" xlink:href=\"#DejaVuSans-97\"/>\n     <use x=\"309.816406\" xlink:href=\"#DejaVuSans-110\"/>\n     <use x=\"373.195312\" xlink:href=\"#DejaVuSans-116\"/>\n     <use x=\"412.404297\" xlink:href=\"#DejaVuSans-115\"/>\n    </g>\n   </g>\n  </g>\n </g>\n <defs>\n  <clipPath id=\"p62cf04455c\">\n   <rect height=\"217.44\" width=\"217.44\" x=\"33.2875\" y=\"22.318125\"/>\n  </clipPath>\n </defs>\n</svg>\n",
      "text/plain": "<Figure size 432x288 with 1 Axes>"
     },
     "metadata": {
      "needs_background": "light"
     },
     "output_type": "display_data"
    }
   ],
   "source": [
    "import matplotlib.pyplot as plt\n",
    "\n",
    "image_path = all_image_paths[0]\n",
    "label = all_image_labels[0]\n",
    "\n",
    "plt.imshow(load_and_preprocess_image(img_path))\n",
    "plt.title(label_names[label].title())\n",
    "print()"
   ]
  },
  {
   "cell_type": "code",
   "execution_count": 27,
   "metadata": {},
   "outputs": [
    {
     "data": {
      "text/plain": "<matplotlib.image.AxesImage at 0x15a2987d0>"
     },
     "execution_count": 27,
     "metadata": {},
     "output_type": "execute_result"
    },
    {
     "data": {
      "image/png": "[encoded data removed]",
      "image/svg+xml": "<?xml version=\"1.0\" encoding=\"utf-8\" standalone=\"no\"?>\n<!DOCTYPE svg PUBLIC \"-//W3C//DTD SVG 1.1//EN\"\n  \"http://www.w3.org/Graphics/SVG/1.1/DTD/svg11.dtd\">\n<!-- Created with matplotlib (https://matplotlib.org/) -->\n<svg height=\"251.831987pt\" version=\"1.1\" viewBox=\"0 0 257.9275 251.831987\" width=\"257.9275pt\" xmlns=\"http://www.w3.org/2000/svg\" xmlns:xlink=\"http://www.w3.org/1999/xlink\">\n <defs>\n  <style type=\"text/css\">\n*{stroke-linecap:butt;stroke-linejoin:round;}\n  </style>\n </defs>\n <g id=\"figure_1\">\n  <g id=\"patch_1\">\n   <path d=\"M 0 251.831987 \nL 257.9275 251.831987 \nL 257.9275 0 \nL 0 0 \nz\n\" style=\"fill:none;\"/>\n  </g>\n  <g id=\"axes_1\">\n   <g id=\"patch_2\">\n    <path d=\"M 33.2875 227.953862 \nL 250.7275 227.953862 \nL 250.7275 10.513862 \nL 33.2875 10.513862 \nz\n\" style=\"fill:#ffffff;\"/>\n   </g>\n   <g clip-path=\"url(#pcce187ff5a)\">\n    <image height=\"218\" id=\"imageb425ccf479\" transform=\"scale(1 -1)translate(0 -218)\" width=\"218\" x=\"33.2875\" xlink:href=\"data:image/png;base64,\niVBORw0KGgoAAAANSUhEUgAAANoAAADaCAYAAADAHVzbAAAABHNCSVQICAgIfAhkiAAAIABJREFUeJzsvfmTJMd15/l57hGZWVdXd/WJBhoHARIkRJAED4k0iRLn2NGOrUxmS+2fOGu2P+7sakdjpmOH1KyoGZKShqd44T4bfdWdmRHub3/wIzwis6qbElHdUOcDsisz7nD3r7/7uaiqsqIVregjJfOwH2BFK3ocaAW0Fa3oDGgFtBWt6AxoBbQVregMaAW0Fa3oDGgFtBWt6AxoBbQVregMaAW0Fa3oDGgFtBWt6AxoBbQVregMaAW0Fa3oDGgFtBWt6AxoBbQVregMaAW0Fa3oDGgFtBWt6AxoBbQVregMaAW0Fa3oDGgFtBWt6AxoBbQVregMqMIB6PKPAkL4RyyIQaU7WYZXS5fKBwzLkSw9Y0Ur+hdPFS0REL77qIt/AREQE3ifNaiCSgeZU6GjrMC2ohUBFQ0ERDigAeagTQCbApgAtNEGampaCXCs6MudkjjgAkfTvEmKo1e0oseJKuae5viI2f5txB8hTBE/Q7RFVFEsXkbUl65TXVpDreBF8AS4dJCJcMqyZURdwdEUWUFsRY8lVcxb9l5/g7f+9q/h6Da1P6TWObVvqZyntSNmo3UufvX3ufS1S5hxBcYOAFOyMunAJmlvUPZkAM0VrehxoYpmzvH77/P+d79LvfsB6+0BE98w9g21U2bVmIPJJhtPfAK+4jCVBRtUNyjsJcW3QN1Wjb9XEFvR40oV7THt7m0OX3uVjbsfYOdH1G7OyDkqr7TVGLe2jr91F3GK8WAKKTF8TVCKFBmXiuARFEUg/rviaSt6/KiinWKaY0bTAyYHB2zMDtmcz5k4h1WQuuGo8VSzKXiHeAfeoNZE8ATqgSxSp52toLWix5sq2mNqN2MTxznfsj1v2Jw1rLUtVgWrhmntGLUOfAu+Am8RI6j0TSE9OK2wtaIVZaqwDkwLNIg2GG2pcNjstPaob4AWJMqNlmxN7DSxvn9Nu509n9sKfyt6HKnCehCHagPaItpixGNEo/va4XEoLgKNiJaBXhZJT0DSCmArepzJoKCqeOdAPRZBREIwiAEMOBSfDBzq8d4BQ/CEA8ogrrTVEBjgCmwrelzJJNOhekV8NMJrFxSCAW9ADSCS4zzSqmolgIbRkhDhtwLZih5zqlCLUGNlhJEatKX1DuNBxOCweGPRGFQstgJTIWIGiApffGHCXwFsRSsKFICmFkuFUCFiAYNq8H55BEwV4h0RhChTdk40+oZ8zf6ynv1/RSt6jMngBLxBsBixiFgqU2Ejx1IVBBuBpZGJDXNlSnviIAKk/DEMOl7Rih4TqhBLikNUDR8UjAqKYNREETDFMC5JSJMEP8GUHG1FK1oRABVislioCt4p6glgQ7AqiE8gy7b9JREgXUSj9HesaEWPPVXgQRSVLq1FIk9KBnvjFdHEtXTBsggsBddCCg2yso6s6LGkCnEET5kGh3SO+AhQMppMIn1o+eIi9434KBzcK6St6HGkCmlRaQl/XfHxEXOxrEHvUyZzkrlcD0IlrlI8lqxAtqLHkyrEIQXAgigZABXw4REpAdbZHUtwnQ6hFcBW9HhTFartKEY9op7AwVLYRzxKfQ8qMuBfCzBaZgRZYW1FjzFVqEdUseqjPpaMInR4K3WsCEzoPGbZlZZoaJFc2UBW9JhThVOM91ivWE3GjyU0CGRclujZI+kztgUdbkUreozIpPh6wXRO6SK8qjPqdwb/fEx2Yq9oRSs6jUzIlOk+i1XCpdheRocMwDYogrXyVa9oRR1V2ApvKhpb0UqFFxuM9Zo4mcFj0BRBYkxU2gahWNLloy2jFd9b0eNMBlOhxtKIxUkAFTHOMXM6Sdwu+sLM0Lpxust6BbIVPe5UIdKpZQtqlzIUF3vxHYUTbWnFq5Py0ZaIlgshXNnSOTjypMBmBoeu0L2iR4iqxbzovkMaSn7VoVClb1PsYkM6K0rP07bE7Hgi2PLe0/JqpDtsGahWZs4VPUJUoQ5Rj9EWoQVaJEeHGAbmxxBupSH4OJU18HhSXX3pHVvQwDrppYuXFEJhrX4i6RKgDf0FyUG3sJ1u+wpsK3oEqArcy2eNTIp4xmzU1xJAEsfwkvh9BdUAH5M5Tg4vYaEe3cCxLb8OOE7iYita0SNI2ZZvFEQ7cIEEgJUgI34ptkvkZRKNKN451PuwrFo+XrvzC26XsttK7J0KMlnyWdGKPgZUpVJXycIoUVwU9YWmtqitAYgG44jJRhKJNUc0LvmUDpSOW0FPrCwXy1h2Fxls6XIHkgu9SzQduPNWyQIremSoQg2qFsWGn1rH0ZpYj0dDHbo+KpxGAFkgxj2qgrdBv/MeRFAj+BgbaSUdl7hnulywfCahNUC/i6RM2l94Ik15BQiKFToDTf7ayZ8rrK3oUaCqJ4cVNv4gxmn+aE+OjKQaVbMEHsBrd8mAQXy0SorYLKt20OhDYREeWvy7jNsNacgbV7Sih09VAojRxYUClcRlOqD5qFyJDI4vjYQ+nKkKzgpqLCoGJ6kYXRc5OXSJpY+h26nFPTr8Kv3TY2Eg7SaDFcxW9KhQ1ftVcLNcHUQouFkAnArYLEZqrpzVHE/Ze/8mlbWcu3gexhUlC/PRVmmEAWdb5FQlgE7mT0Mzo3aGm5WCtqJHiEyPFeWxmVhCVwI81BPx3e98TtCZ1CuHt+/wk29/m199//u0s3ngPkaQ6HNL+tUwXxt6UmqqXneCv3pobuz47kpkXNGjSiYDqHBAQzRBRJEyLFKhaEwSlQgXxREc3A6hZX64z4c//xl3X3sVP50iziHeY9Rjoq+uND5mi2FS6xLIImWcFT7zdOYimLT3beVSW9GjRBWmRY3Di4tggwwBTWCLVkL1GBzBHeCy09oYg4jiZgccvPMWddugsym062Glp7gWry+8ZykDrscgKb6nXVJwuIH5Poi6HTfubJFkQK9424oeBaqoLG1lOaorqlHFZDKitcKRC/6wvVHNXj1iq6oGUftxKKsivoXWYZo5a82cybxBmhaaFlpBTIUxAikFZ8GAEp3aaZ9I1rGSurVMGwu+uVgKLx6Y4lyKUq8rWtFDp4q6xk/GzDc3OJpO2RuNaBvHyDtQOBhVHE7GNJNJzkVLKTQpkgTnYD6nahs2nWPNOaR10LbQGqQK6z4ZFB8BJCUn8wrqyWtBWdsP1yoO7Qu3wc2eXQAKKifnxK1oRQ+LKsYb7Dz/Ip//X79Jvb/PeD6nUsV6D63jQl1xebLG1ue/AHaElwqPDZWLk5e5dTBvMLOGSeMYtwloGj4OxIKaaMtM/jiVCDAXwJoXXQPEdIbDZKeRDmx9DBbnrWhFjyBVjNbZuvEMW+M1mB+Da8KAjUDDVjBeg6vX0KpGxaLJy6WgztDeO8C/+y76/vtMjo4Y7e/j3n2PWTvHba0xunyRansz4KBn148WQ+/AtcyPjzje32d8bpvJ9k6MPJEFfSt97+FK+vxuRSt6lKiiHsPmNtiasCB8LKKqGnJZxIKp0PUNqGs0shkj0Ujilds//inzv/pLzPsfMP7gPaq9fQ7+7//I4cULHF7e4frXf5cLn34RGZuMENHgn5MMtoY7b77Oz/72b7nxuc/ziS//DpgasD2V7kRaWfZX9AhThbGBY41GYHz4aFijOqynGyMPrSUs40ROhVHvENdy/OabzL7zHdb3D1i//SG22mX2dw33ts9x99pldj71ArzwPFQ1YoKRhWThFI9EoB3c+oA3/+H7bF26AHwRYuJOGSGyxDi5ohU98hRCN4xGQ4cPHM1JMFCYsPonGvza4jyGFOHhwTWom+Pv3ULeeJ3R8RSzf4C3FufnTPcmHE/3affuBR3MBZ+dWAnrYluP4IAGfENzuMfeB28zPbwHto1iKoSgK7PgCViQFleoW9EjSlVwbUmMvjJxGbQg24lYpLRAACIawZaczB47m8HuLqPZjEnT0HrD9NBj/RyzPkGaedTDXLAoYgNv8j5YJps5zOaY4yPGe/tUh0cwm4MXpAIxEkTWZLFMT58Mk5q2D4uVr2hFjwZVKcIeAS+CFws2rPLZKy+QI4BDUqcVE3Q4oGo91fGU8WzOyChz8bRzx6gyTNoW20Zu5n2wMkqFqEe8h3kD0zlMZ4yOZpw7mjI5msLRFDMGRgK1Cc9UBAv3/GRFdHKaBFa0okeJKih8xmTmENxYKjFTehApn9SmyOmMmJACk4CgYcBXxlLbCpt8ZSZyJe/BOfzxMfs/+AHta6+xvr/P6Ac/5InbB2x+/ye063/KwWiMv3aVrS99ierKZaQus9QWSciZO6uY4hU9UlQh0cAY3WIBO2E4+ygm5jCoUiFKXz2ACSKhMWjMzBYxGGOobJBOM9BMvGHT4veO2P3+Dzj+m+9wcXeX+oObXLtzyObf/5T2/T12x2OaT7/I5KnnqHcuIf1cg0BlYWXt5oAVrehRokqjUmMk2ECgs/Els4fEsKhcPEC7uEIxlgYTirBWFXhHa6AxwtQrh62nNRXUNWGt7Eith+MZ0w9usvf6G9i791g/OOD8vGV06w7N4ZxmY532/AV0Oos5biVFdppjIIPPLe9a0YoeIaqcahAPTZnGmawfLkbcp0rFZNCFwWxALK0Y5rZiWo3wvqERZWaEYzEcidDaCqoEtHgX79FmTrN7j+mHN5nd22Vt3rCuwKyh2Tug3drE3buLzpv8VJLkQ8pQ/3BNzYLlilb0aFHltEXUYLFdpD4aze5tjO/VmOBpc8BvMK0H0//cVBzUY0Yok1ZpRDmyluN6wnQ0wVU1mIrOVRBlPKsoLYaWtdowdorOZkHstBUwQ2lIeXAxojE8T47aT9BaQWxFjy5Vmq3mYRgHnpM0tRhVXwYd5j+RMxnLxhPX4QuvYHfvcPzWa+ioZu2pJ9k5d4HR5WusXboUQrnEdkHESaGKsY4SltLAoqAOhyISCrqmRex1QbT9KGjZdVcgXtE/jyprTdRtggiZtahkiixA2NOBlCAKWsu1z34W/yffZPraL3nnzw4YXdjm2h/+IdcuXsFv7zB++tkANBO5mfpSDkSdo53PUddSG4P3nsbFCsqSirqeFjg8qF9SpNUUj18efgJMh7En3esuu/GjBL8lr3jyXHS/9uld5IT991GHT22bpQ97n2OKYx/onktC8h7kth8VVSKmuGHHNaJsRxcJHA0h6cio11FZRk9cA/85ZiPDwXe2Wb98ifozn6G+fA22zsPODlQ2As113u6U6CLFijXqERUsYFVQDylfrYNSASod/C6fL7zRgkMgGYDuD7bOsbEsCKXPWc+u2/SEey4Nkult1MEmQUtVt3fyfYazFq6gE+6dL1M+5kJ4z5JjHkBa6R8xCDxfEqc3vO3wWT9qqhbNB7EzRFCpiwcymMTv4igLlj4Ll3ZgUtMe7rF3fhu9cAG9cQOuXoeNbRiPoYqV7VwSRVPhVotKhdgKxOPUY1SoxGC9hPKQvl9BOVCxLgAs7elUcSsbSYrOTVk+i0M2WFvDeUmQ1rilO95S0lmCLYsTS7f29oRXiY9WiOuEN8yTRfliUnxKKUJhILv3blHeu/S49MC2bLQXQOgb4k4mZfGRM9h0SS/Ei59UVeYseq06iWt3M3l8jSLNOe+PrSqVgVGNH9VM64pRXaF1BXUFlQmVU1PrmziFLp9G87fUYb1Box7EdM90qvzSf4v4Eqdiczh0Q20Uu/T4pRseoix56tA8YR5YygFPoxIsp9xGWVw39rRrLoLm9Hud9qz321c+49mKjks3l3NTccSQBUsauwapKnxdMa0qJpVFE8Cs9OvLKUtAVt63WC1biQmmXVf0xB6WNJaUe4ecipzmMzh8UBu2m59FtNffS8WTjsWfQe8tv8GpGJDuvPJttL/rxAvkvj7l8sM2glPn0o6TDYC28MhLnql/mb5CcRINL3XWc2K19EWkYMOFtKCDT+9hJQxiLxIc3/kjxRgsmzSBSjGqsVJW+J58d6mnho1SLvfUHwBdRZJ+J3cgzVdM2E8A6/V2fPgiiDlFyGi396H13LLxJ8XfHlc4YSbK2JKTj19mGuqJXMXOHH7HoG0GslzZ/ul3XxTsRNo0fJaimDy0lu5boDiWh2LtWXVbtXTWKUTzUoYuRf7hKYm8oYu0LwrsdDqCdt/RYgWb/vd8RxncMXPERY4WZsfYXeVpEXl9EWWJjrLApeKRMtwyuOnCxo+almvWSx+h99DCcNwCuRJ8bNZ4zKIBKF2nrPeSwJAi7MIhhY4x4KBKGhaL8kN6hzjNdrdc8tDl2OzudTpJBNsJkvRHStXCXbX4Mei90ngAw6YqxIA8FXX7wrcOXCVHE001H2MSKFAWRU2L16fptyvr2j1QuHe3EEYWejXetwDafeNHTtl9AoN46HSiNC6L34c944r9KdU3HaeDY9OOwYKvYV5Nk6DqQn3O/jX6XDVlXAzlneHjL6UHANjw+B4HPyOqTrxhAlxvIHe7Fmf30+SovrjYbQ48MoNsIZMz8dD+tiEvK2fEZE3LAZk9+SCZURYley1eSOj9WPomve+Lhz0SNOjChT5LQOpz+j6dBjboANdxOe0ffJLIVDSe0BfNB7f46OhEMeA3T9XJIIN+VEh/V/k7DOwkigmyVMP1xUwSZr0w8yWHtEPxHaAlnJOBJokDQgJbMtuXYq2Pz2DztDuERuJ2EWoSRN3kW0vJo6RjlgBNCWKSP02kPEtahn5ZnKbKhR9LrrZURGTxfYYinpFCkk83K9ndwLqc26m4UBYjJbhMTgP9R0JnBLYliSfS5wanUjmdhe9GE9BSt5ZdU9yj97e4YhoghnIVqf6xGRTddSV3WncdyfpTgmU6uZt18/0K0JTrsQ2f86R56ZECWfHTD34XzJ0k4RcrLETqVIdhXt/wdt31Cr6nFAZrWeSqS2S3IeN70Mnrn932Z8bRejcs77ooeqWv/TbRPIhFBfGC8SYi5bRbD+fWjnzkFglske0QgpI77tZdafnA0IJDla9SQqhzXCfY9jW4ZaJU9+Z9zrDs+DOjJXL9kAMt41xdOdy0r5u4umP6txhcoPtb1uUESovzwn0l9sYAuQn8J9Jgvl2gU8fcydf6qGlBdCxFwfAlDb9Ag3iMsLfAi1GDJKRElrTwPplNSQy9CnVEEgRUoBVoxeAkrUZqBjNlf2gHGHbGFInX88UxpDcpYof6JuL+sw452sIsW44rObt+Ww7q06Guwx/FBlsscCKYThIoTkyi4oIxN6Mj/S0kEUphP9DQNZONL+VEsYyWTB7pdzldZ6PMCZR3nWF/wQBo3cOXfIDcaieJTWFfFLqS6JjAVh6UrxU/krqqW0c7CTIecCI4EtDu3yyhTpZLQix9P1ARhrVktjb9o3odWXKuoej1aNCQZyyH4DLqdOT4Qjp4qxK/2ullCwdFgSMDIkoJZahXT5WjDzYodpz8Knn3MJxqCLYlrHth01mK/FUZoDrsroGYXZAW//niJS1IHT8VSCk+pmkuyWoGnAFvEbWk3Lag23XrgmrBcpKZPySiLvGvkcwgHRfuRM/Ei7W4Xn9clRJpOq1897zudi/hlCXfz5BOqdCcmq4XDtWb9GKxJG3pFVuJ65IPX6n7OZQT6LhZBJdjORB08DeYAzQ/rxbPGCbG1FnxmOisW2YFX3jXAYWWWlQ5zqLnqvvjWvot1qMkcoRjFHDW4m0Va0L2WyNY8wMYAsvyoaRkKXsSB7Smvw7EoTjU+yDbi+RMmzK0KywDlQZJGGWi3YOnAkQiXUe5CMs0qZSSaX4iCSdnXlfoIkngemQK3Q1Yb++Jhnj0hEJJPq57IBJiUW03Jy7Tl7Kt9wSuMVQt0nOk+anPsDRXrVYhLI0cZaoiBaPL+NAwfycxdpnEeXJPdFBbLDT/0VLVPQD59ul7b9cC9RcuVBHUGJr4ifUR6GqNxGtmth72OxEaCOdZQ+MDF3NG8EbQWGMyIJJiAEWOV/SkaiEeljJe+T5RNE0rz6Qjlp6StuXeLDSEBQnr0SujEKav7s0W50nP7OCAW2++Rl1XXHzyKey4ioHfC2JMOonF4d21bY97FZwpAy2Dt5iw4rN0xq8wyeYQuWKyTN+GtoJfn852YiyCihfZlgzl9YJS4kj2O4nBG8NUhHmSEo0EzlaEZImT0MDGovWImRiOBI4ry8iHgq2CxRlDU1m8NaiJmE3l6gAxBqPQpmgRyQ82QIwnLz0fl3RKnO1U89awOXTJNkrB+9GCmcZ/e+lFmcPHA9RzcOc2P/72t9na3ub8hYvYagJWY3kXGYzmvvAVSlwUk2guT5gfoBfWleVJS+gE77K4KvhQCip0NMYrXn0MpYvpWElKiXe0dL7T+AT5s7RBlnH5M6KqZAmZ2STq8/jBIO5mLx+3b2yf48Uvf4GNrW2qjUmI3E+hT7EIUAaFAawwH1kOxzX3tMFLxbwahdnKGParCrEhSDmFUaV6JaGsXRQ7c193i/d6WpLNUTXYI02qvEwcAK4TQxYaPz5rN6j6YnAWGh8ivvpzctePJ0r6C0fCfHrMh2++SXPpEr6NutpJyXoD0TCJ4R3XITP73KZRGu2uE01d4hGjUXQlXMAaFMXhMQKVUUQKNqfxeGPyaA3zQdeBp3WH9BvsTAG3oKP1mMEyGVyT6Ny5dSWGVWxeOM/Lv/tVbD3Cbk2gNkH2Vo9qJ/dlF4oVmsmIo/U1KtPiW2i0oopi5741VJXFxV7zdN4ur6Fgjym4HGpyYLH3M0AxIrQYnLdURrBiuyV9fRRBYknmcuYHCmd5VGEWukYXOu+sKd/+hGdY5o7JABFo53N2P/iACsGnNepyalI5iQ2v02VKpFKdKZBbJAYYD6UBCbqYl1hdzYC2LTpvkcpiqhFOoMFTSZhEQ/qiRIVM41JigAQ9X1BM1fXeaXQitzsD6qfJLHuK4UAqZo6uD4LIYMZj1p64HkrXjWqoDGINIuGT1jvDWqgrqo01XvjKl7m6ucaomVG7ObVrwgwows6owtx4mo3LV7JxJZU2CGpbWACxUwbiyjfqEeZhnBhDZWqsVL1ZOg3OQsvsUkbiDLqguw3Eom7DoyM26sKvxOMhPWduLlWswHpVMbEWcT6Ubtf+VTpK7ZKswn2mV5aU8dF40VP1JAp6YWE98I63f/oT3vvZL3nu85/n0qeex2KoMMlziqri1YV1IIRQEiNas/PEuMxXe1oDlR16RlQYQ6R7iKGuu5S6Tkz/mFHN6OIOWZawQS7LQmaaSo0Fq9i1Cdc/9zLcuB7k9baBdt49z3gE2+dh5xJqKlKpOo35a0yntLc/hOk0VM8iKnNewTi8MXhjsds7VNs7C+FIsY8KrSPN4l1vlBxgAWQ9enTA1qcOYloALVU4M8DYGEYC4hxxJjvlen2wpTsMfVdZupZSmA0iI+JRdaANN1/7JT/99re4cOkSl194FmOEmhKgRSEnY8hW5fQs5X0ftAseghRSiI6ersBppCUPk0qDq4Ylcq0IgukqXAV+DiLRXBuOBx+d2fHCQgDc5Suwvd2ZmX3bTY91DeMJrG0BVRD5Uo+2c+YffMDdv/oL5O232WybeO1Q1FXVMLM1x6MRW1/7Gue++jWktrnYR3blieLQ6C5XVPI6OUm67CSgOKFkq1mvfc6+95ZGQJz2CFEcLIvQqvf4Zo5vms7MHw7uBnH8m9RUoT++s+Xd5DMHlBY38SgOR4OIw0hLs3+P43ffxe3twdyFyKKYlZ9cOYG1BZ1cDH2ZvnzfE6SvpfNGfyb4yKnjaKVWP2jg5aTh/3JSEcmWQR2+5FDnEwk1RUZboFtxpZnY+dHipTasNirYzhiRBrlzuLt3Ofi7v8f85MdMZtNoJDGIqXBuxHE1Yndtjfryk5z70m8jVsOEGDlZCF5RfHbADrWZbsbOWyRwhv6eh0C/5q17Yl5k2gqoenzToG1DmhAXJ5HuImU3lPrfMFcxD+QE6rySrItiYwO+RQ4OMHfuIIdHMHehr3O4nXYTdn6AUghONLh5sfPXZXYfFS2myZw6IyaWLtEM24mO3gfflDEmD+SwT/OqNLj42iZwnczylOgGACSY870EZzIIFZJr+uS6kN6jx1Oa997Fvv46enwU66wKSoW6Ma4ec7y+RnPnTtQ9fM/ymcSTLqt78LJEJ/hgaxLDZHDsmdIJk+DiJN4fgWm/xHUQJFryVD2a01oKPW0Jh+gSogrRurhT0KtiUJ0Q8wzDsxj11C6sjy7zOZOjGdtHU+rjBmYuipaAibpcZbM1UqMYmuMZy5sP+0mKty8a5WEBrpcm05uVCs7c003STJjesus5QAufRjEMRYLHvwhqC42VCqomFi5BNogSbK/6Qdlw6dq+RaZT5PAQc3iESSvbYKGdIeMxIg6aKYhDTTQrS9AbxYOJwbAp4rJojd47LJcM4/Dqyj0/JCpGXO85B+kvcV5LYU+p8JExQZ1Opd/RxYIVQ5dqKT0P8Z4gmECcdTPnaHf3OPzlq8jtu0ymM9Z+/iaX948Z/eMvuHP5e1TXr7P5wicwY9tLUFNJYV0aYxcUg8SoopNbpRT9T4qBPAtaCCoeBmtmf0hP9AvOREQRGzNkjeAVnA9INLab93ycjYKA7VFC7UabB0YEWNFoQnDDQaGLSAKt5JDhysSFd1vFapDrxRgERyUttfXYSqFyYBwqjqSaSnDJhEVIKYoC0f1Og/dkCfohAUzLL325PM1bw8PLUwTAe0SV2hisiYKgRl25QNGyd+8xuiXymUkyQuvCEsoSQDf/4DY3/+xbmJ+9xsXjGWtvvMG1e1NGf/M93ru1z9qXv8L61esYuxE7JunKgkNpifq0wsiYIHEsKWSjGhNI6Iu6D2s+jBytDJMKVIoDi/0mGAk+MjR5VCLAYpKluqBr5bwjFJ/5UcErEtuPhw0m5KWcJEWdKIJvPcZ5rBIWPATwSiVgUbybo76h1D2SYS2Jj/3QqsENkwQ1GHCL/TWsH9xjwX1aqkP8elPtaXsXAjrKm2n/wDAxWYykXD/C7FMeuuRmqc+VJBFRxWTHAAAgAElEQVSU1uUwLgRFbWhkxSPO4w+OmL36Juanv8AdzRjv7WKOp7TvvscdLOefuoE2bTfj+0ISKmJiwzuGQAQRWTAMdUee1nJnh7qqA9ki2ErKwy8NUGMJPv5Q2sWnPoplAZwP7mVsKcvnFdbCRUvZOg2OYlce/72Bmf4LQ9M5j219LCEe+xhHVVkMHtfO8b4hhIGEi+VAdVNcNU8Yxayn/b8n1iks8rnC4YPKyCc0pi5sejCwDTlIOLc/tMozQ9ZDFxdq8uQWPmKibyqVIrAmxIEuFZe7e6o4nG9pXUttamo7GnBakKRfRdDo0ZT2vQ+wr7+JP5ozxjEWz+6HH7LnYXT7Dpoc58MSyEgWF5PunKvZLXnOxU0PT7yvOv7SzUnLZu48+Iq3CpbXQd2kNLstrDndzfNSXq+408I2yZfsNomEcgkEt4IVi43rB3RChoAPpuJaTBBRPagP/huJvr3wnslPE8J6JMaHKTEgOk0sQwktDXJJwHekWAmjBsEucpDinVKETad1pkUf40HLlKLiWhr9iV7CJ7Swia2SkikV1MVggUIH7bEqi6pFtQJqUhZ759xIk1cSqwUvnhZHw5zX33uN//Hjf+Azz36aL3zq89HIIkHagfhGhqClNAhQ02CZMdJj6ihejEzNiDkVM9A52U1kgsU5XcHntzwZYGHMxHZdqlyePVXF0O9ANThIFr6QkZIaf+gekOJ3mpDsg007w1ssHJ6SS0XjigCF6JDjFbyEyIcUF5eNLlExT12R8pxIOmIaGCbO2gUHGf4VIlf3KSQ275CIpC5drJt603W7cLZwUFdq77SsqvQACd6exnv2Dw9Q5zm3scWkrnsTT36eKN4T9WgcoZ1CJhIhIECiq8XT+au0eIcQ/tvSMmXOG7fe5i+//y3qesTnPvVyAEERc6r5fYK5SQCrjlrn1Dql8uGalQqVNlhtEFpKfyxi4qpC3ZoHaUz1pAwZ7BvOig+RqpPEjQVauvMkaJ5w6pL37m8ajuSwZyjSlgU6g0Va+ttLyizJICZEjngf/WaSos0NuXbkwGmfQJGfsXzg3LHBDdvV5XIogiUuiaXaydY2hJF5ITt4u8sV7y8etP8sJHnaR9N3BPpxM+W7P/gu+wcH/N6Xvsa1S1dIfDlMeD5eUqBVaGIlx3mDTOfUR1Oq6TxEhsybGAwOUAf/f4yoT9DxCq0oDY692QFv336Hu0f3QixqlDaQshdTUpOJz+UxuPjXR+OWw6oLET9axuSnCbcbBVlULjl80RedlBCPTjqJ0KHwjKn659/1N/3UQ7AsUUiGh/VO0fxv5jBZOY9CrGgRzneCvDq4lUDnG8zbQ3TM0fSIt2+/Q1VXXL14lZEJgzuInCnCoXgFWSqF9vWb5NPKIubwzsHv1dJy7I742Vs/4/bt27z80ktcZgcItUAMGlxTzkHrmd/eZfr2u5h5w6SZY3/xSzZv32FNBP/Tf+R4Z5t2Y8zkxg3qSxejH6sEe+KTyhzHsZuyPztg2s5xxIUkkb5NKXP29OLx7eMCk6FpfFF8Iosn+X3LSUiitNHrstwuScyl9+kd+BDAtqTc3KNIg1Y5pYZJorQYr0azMm1Ixwjyvu1mXA1hQTnoOd1icD1lIMpGIHiU23t3+dZ//2vObZ/jX/3uv8aMqzhTg5egvEsKZy8wpzK4QUprphuIKrlgenxnBROMUCGYacaRHnDz4F1u7t7kqD2gYY6DGKArVOoRrzB3HL36K979z3/O+N4u16Yz7J07XHz7bUZ379D86f/FweYa++e3uPY//yHb5zaAtfA05UIlEoTchpbWeExVgYkZZVlCloUiP2HeCIm9oSZMTHPSsK0PitTVnQ5bUhD1u4uX8apdEJ1QNHvXxqmZu4t95PQxAdqATitz1DsuAAsTQrlC1HfKb5Lg25FyEA9F1ILzZF0KOn0rdPHh9JhX33qNi8cXmbsmDDjxcfKOdU9IZgpYVD6LuTfPtunOfc3ER/HR4WloaWhomHHoDjhw+8x1hsORzFSKCcECzkHTMv/wJrs/+gHrH95mdniMmR5zfm8XZkcc//hH7K2N2N05z86XvwRNC9aHRND8nKXmlYTBTmfs6roMKHO0NPKTsNwdLNo50fs8v3eRome6ew9rU3acTSjFzq69z5Y+JkAb8vpBQy1ptygkYoxBrAVbE/JcTVAB4myq0gFAoTCqdADLz5BDlIriQcCsmXHz9k2ohNa3QaxLM3B0sAdgQ+dT6MDdDeKSn5Y2yPAt2OcCiNsMtJaWlsbMmMuUljmOFhNi4OPEEpMr25Z2d5ejN17Dvn+L+d4+Y+85Xwnz1nD49jH7o4r9wz2avb2Q++Vc4IZ1KksRxXBRaiyVmnCcj5Wol4kEJW5SfU7SOnfdzgw06MC2oBYo/XiP5cMgndbl1w/F0bMF28cEaEPSU39CmjBjNm/qszRZUowHDVbDZBQp93WXDxfoEk/7M6VoVxHM0wZRNBpCjHYiTmnON1AYcaK5QAwpezKpdVmt1+5PQ9CPAqwC3LTyUCtOXAySDgBXL+BttCSGmNHKK7U6Rq6l9g5UcGqxhERZ2wa9rs99NOJVEaNYPDYaMKx6bEy5MVkHkyX9Et80WYyT7iZpoZNoBMmpOskSmyanlB4QHRhdgZGupaQMdu4SeRTtAtNLCaJwgn+U9DEFWl/2X8rREtAKR3TWwdMpGnQAH8FoJOg1yy6YQLZMuRZJukCwP4LDYDHYHO1fil3p/BLWWgzo/psWA1ahVcd+e8SRP2IqU2YcsT/fozFzXOU4bA/Znx7Q4lkzG1hTo96GwavB1VEZoRaoxVOrw7dgNaQ8VXVog7Kcerp38N2FcCojiqHF0FKpDyAtWVca0AOOFJopgCzVW0r5cV22/hBwZZ9HjqimkCSlw40G203S0ctikQFsdM8mD1Yv9DdBH1OgaffvCe3kNbmLEguTPHkFNUfxqngTDCYiQym/fzft/eq4UAKC94FddnpLJ0MlLuqjk9marnZJOY7SHA5lwa+ky4RJ4fbeHf7mH/+Wt/be5tgeMrdHHLR7vHbnVQ4Pj/irf/grfv6rXzBp1/nyJ7/MFz/5xS7MzDskioKiKfnSR0ewUsXFIMsg/vwIKRQSov7p4zt55sxptA1xiBGEHZMZvGcSPZXg2I8xs/0Gl/5nQW1Y0ukDkT9nmWDo1apbAO7Z0McUaAUt05nTJgX1aaBLTx7rpH2P05a9vT28U3a2LjGpJydfkz4Agu61XF8IXLObiUMokgct8uuK+5RmfC2ulK7g8dw73OV7P/8eP/7gxxzaPZrRjMYcc2v/Nn6qfPdX3+Xn8gsmszV2Ni/wxU99Pj5M4BCKz5wpF8mJLg9RH1ZfReibRCM/MOC84/bebe5N73AkB9zav82MhjvHu7z54TuMdMx6tc6FzfOMq1ExnDv9NnG19CnLh6eq1d0nPstAt0pgWuggKfsniTtppvCDbWdHH3+gndBeIfBbcc6jTvtpCXTiXivK0fyI7/3wexzsH/L7X/kG1y4+sZCHtkBJDI3gMMaCMVFwTLVkYuRKArl6NObhac42T8/T6RZpOCbeKVHecXiO2kPe3n2TX936GbvmLkwcjJSpm4EY9Fi4295jfDzh9uwmDUdYY7HGgQ3cu1VHi2ZjZus8TtPgDe+S4x+BFPvigONmxn/74ff4wRv/g327yxsfvs6BnfGDd36O+fafUs9rnjx/nW985fe4fulqDvSWBTEwyQQk3ztKhVITQsEqQiXXBLYO+2WuWQ6PW9Y/eZIqAwAL1SBd+www9/EH2kmUG79UfOOuqICHydIzd3NefftV7ty6wxd/68voJe3Non3BZdgrMW5ywKCGgdohQCUlj/T1rnRAsIP4qOslna2bwT2emU65N7/D7flN9qtdmCniQ4qSGINzcNRMmczHHLp9WuZ4sV2anjUcmVBd7LC2eBPy0RoxzK1hZg1zE+ppYkLNF5WU3BQiYGY659hPObLHTGWOq2BmGvbcESM34tBNaTTEyqQJJGQFh3QpZ4TWCK3pDBqe8NtnV0wszyPDToi2StFBT3Scr2zaBLDwfRjadnZc7WMCtOUNclozqQ8NW1UWY22uf5ZFSoCoazjfcvveLW7e/pBZM6Pn2xlcN8yBJtc/SePAqw8FPwnQM9lC1iXDGlN2tPanZhegJOJijaFUxaQDsIsxho2Z0dZzmHicxNUPDIiGMns+6vmNNKi04S1CoUTmdcVuXeEmY7baEestrEsIiDrEsl9V7FtLY2z0PxrUSC75YCvh+eefY3S14mC0x+RnY15763WuXbvGK1/8AqNmzM5oh8nGRo7+7CR3CSUGrcFXlqk1jHyYqBojNMbQGhO4fgz76vnbMp+PvL7HycJLlyAb2kp6lazvN4B+w/QxAdqQHrCFdMCBkgQXptgsEDla5m7GtJ3itI17hjbBMkS1z9dSBEqyYHbGfkAUnyOTfRf7GKWYsMSVcvuN17n79ltc+cQznLt6Kci+NoU/Sb6iisNLixffLUGn5KdM0fwaM6aDZCuBS9SGzaee4uk/+APWDnY5P93D37nDrV/8gmq8zrkXXsRsbHP+wiU2nnoSxjVUVeTEwchTG8vV85cYbxoO7T4333mHsTdcXt/mhSvPMHITNuwGk9GYxNGzkcmAs4bD2qJ1xdqoZs15alVmVcW0tswrE+pnx3hLjdbOpONJsDxFx3YxHApQpgk1eyjiVhsNPb/2OPoN0McEaJ0Q0P0eSIcDysMzm4tTZwWJyEU4BZg1ONOi1uHFhYI1+BiJ3qnV5PScBL+U+BjFIuNxdJ9UK6MTK33U1xJYY66+Ku/8+Cf8/L/8v3zpj/8Xzp0/FwZ4rYgRvCTtLSz2gQm1NVIQfpilO+OBmPCSIrHUjVgwNdSw8/wLfO5PvkndHDNqjrj9q1/x8//9/2Dr4mWe/+Y3qc9fgvUt5PnnQgWyKkgDqXSAFcul9W22dMRUNvil3WatES7aTZ7duk7NmJpRLFRLnqCUUOy2rQz7dUU7rpn4mqbxTJwyrWqOq4qmNmjK1pHOUptApnjEl/UnNQAzlQxXm/leqDsTeiq0kWK0RCdLLCofDX1MgDYkKf5lqYWwJzssPV0LqDmctDhx5CIwBbY1zp4iAw1NJOsuWayRzoNTGjaGt0+FhsIY8sx277H37jshImPepvoK4IODWIqXLcWxXDcv+payEaXIDlWJYmAlmO1tJs8+i3EzpJnimpb9S5cxl6+izzyL2bkEaxtwbisWEjHZVB6vRoXFicWG2BCst9RqGYtJW0I8qQrqNdb2DNdav7jDC9/4Ov6Zp9g4OuLoJz9m75e/4NznPsdnX/48G194hWoyDgnDUU1UCBEqGj40Le7omA9+8lPmR4dcffkl1nYugqkRMwJTk5f7ktjT6mOalunGxBnWNfiYAu3+HO1BrpAzycQFUSz+JSrxQa5XUqWuFO2hUfTzdOXqcnZ2fChPZzVMn1S0NF07h6qoozk84PDWLdrDQ2hb0CB6JZ9TL/Ukoqx3/RzFkR4itZEQKosFvcdsbmE2N0FbaKbo/iHuyadwl67A9Sdh5yKMx1DVsTJZV0Oli55M/1mMBqBVaqkJVYar6E0MGT1JbAzPsbazw7Nf/xr81otwNOUNdey9/x6Xv/AKN/7tv4Nr12BtkovVBKuih7bFz45pjw6R2Qy3u8fNv/kOR3fvsL2+xqjxqK0xG+cxG9vRliK5rEMoIX92DuohfUyB9qDUFzeTCFjWu0hxiV60Z10LDCfqAxIL/iih4KgP+pG3MGfOTOc436I+DUaT7xICiCQbT1DCAAj1HooqUcH6J6kUHwbUho9PBZAsNpm9k3Bc6CVD8iI4hJaYQZDCwsJOwLN14TIvf+NfM97YoNraDKJi2X6ajDtkDhCSYaoioywsjSxUGI3cLPJAMV0ImqjAaAxPPgE72zCbMv27a+ye32b+xHV45rlQTHc0BhsyAtCYeTFrOPrla9z+7/+N8f4eo/197A9+yPjggLaZs3fpMof1mK2vfJXtr/wOxtSI2DDhiWBNhfFdOYczZGbAxxZog1ZaJh7mfSUbSHK+DsAWISflHnKAa08v03BWsAB65jQ0zGlxkbNFJ3gMI6rQrKtIUit8vFAM2sW12Lah9i3Gx7LcyRlnErcilmCIZRK6nBU0jxotJUZC5ai0sncsYpPAIxaRmsm5HZ75wiuYusKurwWRtaxIlgemRENpsoaGtcc9Fi8WlVD41ESLbK5P0snf4aHqEbqzg7gtmE85vnCee+sbzC/shKrVk0k4JhbiFR8npLlj+va73Pr2f2Xjzm3OHR0yev99qtkMf/ceh5tb3BmPqc5fZPuVVzB1Wqo5WHdNFIFTHvBZM7aPJ9AyAE6jJEp1g/AkpS1Yp4b7TFTAPZ38EY2FVnDimDJnzpxWWlzV0tiWucyZM0OAKgJPsCGuz8Vnd20AmPfQNDCdMj48ZvN4SjWdwWwG1Zi8aqq1YeDl94ccnpQ298p0aXGoZGD4eJjXwBNtZTHr64zt1YDb0ShWwDLFdaT/VUEkXS+AzIklBZ9BAJlGr4Kk2owEy6faGDyNIqZmaix3Eea2BlujkZOF940iu6aakPscvvYG5vaHrM+OWT88xDYN9mjG8XjCdDymvXM7lpZ3USKAXA8GOrH9/gPoN0ofT6Ddt4E6vSUU8klsJHzK1BRNnlw1/e9eY6kDG2ZVDYBTcbSm4S///i/4s3/4c46qY25NP+QXs5/zyw9/yTv/59usVSNqrRjPJzx/4QX+5Kt/wid2nqOae9rde7z9p/+Jg+//HeeP5pxrWja98sSrP2f05htc+A//gf1vf5sP1jYYf/GLXP+jf4/d2oBaUGlRWowq1gvWGbwJ76Yl4KJNNZi0g85U09VAIRp7PAaqGlOfQwiDU6OHWcppP+E2gi1V7wgFCSxODE4sjpBoKgJSx3xbF/3eBpJvzEmFVDVWJjSj80zr87T1ZjhIwtLmoZirR7QB14TJaXqE3r2D3voQOT7mvMBEoT2c48ZT1rfOUc9noE0QbyVYXL16nNNgCTVVkNYjZzsrEfLjCbQHmoqSPlGaTobcrDTXh5m8rLG0MPNJZ6n8YPd9fvTWjzisj9jXA3b9LmYO0/ePY1azYb3ZwLTC/nwPRwvOo9Njjt58g70f/Yjx4YxJ0+K8Z233LjvHx+gbb7K/t8edtXW2Ll/Ez6bYzQlhxctOn0sfUQ05dao5DSdx5wSVMh8h6alAmU8S9hgLEpJLNVbCMikYu2y6zOjKqy52j5iuF7zXLss8PZXAtaef5eXf+So7164F35nJ2id9hEd4W0MlQgUYrxivVBpKDYpPFc2k1++pNkw2Jj0Ee8jHFGiB7mt1zOrNMrGxtAYm3adXyCzs63GKLufszuFtXr35KgfjY2b1LPR067h79zbqHMYr226bK+uXOHKHtDTgFJ1Pmd58n8PXX+Xc4Zxm3tC0jjGekXj23r/Jvbt3uLe2jnnp02gzJ8RIpq7q65jp0XogKxJUTdyfxKakrkaJKjLAmItsTTAGieJihH9tTKfTZOX1wfpHgtSLd8GAZGLpuK79Lc986lNcX9tkfOMpsCauwNrp092xATCmslTWhsUqW4c6xYrBqOKdj1pFkk7I51mbKnHpopvmDOhjCjQ99Wfa1PdflWBLc3zSKyyiBvEFV4sDwnu6CIsc7dfSVi1u0tLWc1obVhdFQuZxquTq5g1tDIEyagAXBp8RqspQWcUYD9LGmpPBalmLYWRNWGDc+SLEIXx8FK98WrO2MPaEyUWDm6LURwYgKTVXiUt2arKwpvJuPYWGiOiUl5dMLFpYeHw+Bp/4SWgTYwkmJPUgEXAG7MVtpDaYzY2QNaoKLoA86FopU93gjdAAjSqtKogJaiwGFRPSnuJjGJIuuDg8ksshc+szoEceaEsNijrYs7SxloGsvz9XxSpSNrrCP9pZLBNbUEUluritw9UOX7V4E0tYi8ZZPIZsNbFga+SYqAMEYySsGWAVKx6hJS0sYbTCItRGqESCOORD4LDEMgA9k35iXoU+1c/cpgey5IjPxlhJHN2jzsfK0iZVBe8DFbKBSEhxnV3CZs6QxlDW0Qyhi0KrHq/JeR2Clc32JmZrjVzINjY1ydqYqicbwUtwVbQQgRYDurOxR7r5RgwiNqQDaadzqkpIVcovdzZIO1ugLXmnE2PPZLFCX1/r6ouDvZVwSP6xGHE4uG+/uGe4ssaOV3HxnC7WsVubMA50DLQgM6WWCswkOL69R73DOhgh1E1N5WqMFomeeLxvcG6G+jmqoVy5lfASkgrpOBdrQaZYJDBqqbSidjV1W9PacbBm+vg+kZvVrmbcjKm8zdNJhzjIcZuDtg/WxNjKiVnG83LyaOSaWdhWQ+WD0Sm1bnjYTixPr26iAuY1yAZGAndWqyHjmjKz24Q6L9rGbo7PbkzkuKE+p/MhmFurCmstxvZjHlM9ygCy0OsmWXAfn8iQojdLBVs6Z28ppXelqqMIE6Msiomsu7IE7pNKdidRMa7rWYT+9vUaJa44ozZrcOHigtoYWU7Fpc0rfPrai8wmc/b1kA/v3MJYw/ntc6xby0QNk+k6z158lvV6PYqoMT3ft4hvwDdAG+tlJB+XB3VRsU/KV2BBBsPGaIPnLj7LoTvkeDQLK+g45c7tOzRtw/mLF9ioNpg0Yy5vXsmxlRrvUaqgGXtZbYocYpko3qvjEdrFEiJCrDeYfE6a3Gy8RzeYRcBoTFlJ95WojUlksyLBmW7SmHB5qEg8L6+Jrj6EeMXRYpO1NJsTE8frSLKOdrZa2pkCrQeaJNtnxlSwpBh+kyPgSen1IQNYklOXbmHB3N6pjY2iJkEKchKhdikfybHc4gLYjEYTehM7sovMUCS6ZRRhwivPf4nxxohDc8gbt97gL77zXzh3/hxf/73f48JogzVXM56NuTp+givnrsaIEQ/aRKO4x0h8HwhiadR5BA3lBnxuEBCLwXD53BX+3Zf/Jz53/DnmVYMVoZk2fPtb32L33i5f//wfcP3ydaq24nPXX8ZQAaEOpJEqz+Kl1BS+d7N8aaUMzCRkZBspDsNQYbHeYlqD8SHBNQRkE0GbXfXhb3ydqrh5chWEONECbOmQtG5YtOSI94GLSwoDSyK3oj4URupebgCyfNmzBRmcIdBKXTzPaFkP0qQwZO6UGqnPj4Re4ZYY2R0K8JBj20BjzZB4dmFIGIQS42JERyMtjcxomNEyI3hiaqxU2XHsEVQtVuDGhafZWl/nmEO2zTb/YH7IxcklvnTjS1yabLPmRozbMZvmHOfG2zGCPgCmtZZZZTmuKiajUFHYth71nlllaKqKmbW0Jp0TBp8Rw7nxOT775Es845+hMQ1WDNPDKa+OfsWYMV+4+nmef+Z5jDNcXLsYODFksbIcZnk85hmwv6+fzCpFukpqzcTV6mjsIXLPsucLETLdsxgUKj2eV4h95HulBxUNJv1gRTX5ykSdEXUL/GtIZeTMWdKZAE0HfzNHSw2pi29dSjQZgyJROe4g6F3w0SjERQUNbevzUr/9hwjiYUpkcbT5+1xmHMsxM6bMOEZxjKVFZISREUodUy7C6jQXxhfYHq0zZ87B+jHnzDYX5AJPj5/h8toO64wY6YQREyozDnqUsWg1YlaP2B9NGClgW/xIkdkc5i3NaMTReMxhXbNWVzFSImRmGwxrdo3rm0/S6JxGWgyGIz1ihx1mfs7Ta0/zia1PIMQ17LKuEnjlrzu+MreTYMxJImTiDkaEWkZY6da0lAFAezxkAQcJSV194X7HdycG0VHjMsvpvCKXXfzwpJOpHGBnQGfK0dJfYQCkosJSmtQCByupE23SAUKob2GkCmJKBJyoUImlksCRTEyN8OpCGpM43rv9Nj98/Ufsssud9g5v7b/BvfYu//XV/4+39t5i7GvW3Jgt2eDFZz7LtYtP4uji+ZAKI4piGJsJlVZYKmoZMTIBYCMmWGpC1AlQjzEb57n2yldYF8tGM2etaZi0jnu/+AX3XnuTnc+8xOUbTzNeW2fjlS9gN9dgZKEyUaoy1FIjCFVY3RsZGT774ss8dfUGO+cuMrKjGNgb2jUlbi5pze7HYHyWyd8JKJ27JGXTGfDgmhbvXNGr5dVPH81dOtIpx91vf37of+b+j5DO3Biy0Fxxgx+Uc0h6QhoDuY1Eing8gzF1jtQOkfWKYLBVTWVqKqmjNQ2ctri4KPqb77/O//PX/5EP9TYHowPe2X2bmZvx5z/9C7ZG5xg1FRvzCZfMRf63yRoXL10irNBVZ83AZ4E2+uGyWd1iUoEZtaFKgQDVmGrrAje++nX45IsY1yLtHJo5t/7Tf+bD/SOufu1rPPmV3+bJzU24dhXOrcPYRkMMpMryXYS8MK7HvPLyK8znDRe2z+fWS4v2DSNdlg7ZJRv7zKfUqSAVaxAvuCb6AR+ETSwB9anP9S+EzgRoy+a3YaOWYDKwdPZRAachic8IeGOYisEay9yOqcQF0UIMDuFIDQcetghZx8YYvBg8DUezQz64/QE3/U0OxocczA+Ya8s7d99jTe4xdmPWZ2OO7BF7s30cDpuUdtJKX1XmoMYZKm+otSLw0CLGXuLMbQzUNebyNXTzHGgLbQPtnOmlv2N3vM780lW48TRsbsL2ORiN8UYo6yT7mA9nQ2Qh1sDF7Ut451mr1zEa6+1H53OnHZ0uOi6d8HVgRJDwLF5D/t6NGzf44z/6Y176zEvEVcl/84ApHuzjCsYz42inCRNJ6c71Ooc9Hq0n5foHIgZnDMfGIKbi2I6oxWE9iBHmKAdiOZSKeVopRgxigkFkOp9yZ/cOt/0djtaOmdlQXPt4r6XWA9b8hLXpCLWOo9kRPmZddbYswarBi8eowTqDdTnnmAoTnoU04KPiX1XI+QvI9vnwxq4NQNveYa8e05y/AFeuweYGTMZQVVGv9H0Oo2G1UyGkv3/yOdwAAB21SURBVJzfOB+eToOV0EXneGdlPH2ILgNZqVcpRLN4NKvHM65du8o3fv8PuLh5ni5u9DfMo+SkJzzpgR89OlPRcWn9vcKClWJch+3VKdcawVIj1uHqmoNxTTuuqduWiTOMPIgxTK2wN645XJ/QjMYgIaIixTR4YuEpsRg7zhEElppKR1itEY3LzuaC14XlzCnqlcoKtVpGzjLylhEVIyy1GqQNRWSkCsvQqQZRq8vVsFkZbdUy9dBKLLeW3ApewEbDhgTgGqnjaZ0hPvn7gugs1KaKYWVy8gDs6WFDk1W8aswozwuDxEzpkI0mbIzWMRcM69WYGEnYu/hSDnciDu+PlOVwi7PvQ9TB7kdnB7T7NMKicl7YraLoFVZhjakrxmI3Nlh/7jna4ynmaMrs5h2md3dZv3gJs3Oe8aTm3GTM+MqVYPGTtICdsLl5jueefZ5tc4mjyZS3br7N8WzKE5eus1VvMXY141nNBXuOrc1tUpCq5n8SRoTN8TrPXnuanYs7jE1NpQab3RYhNKmr5VEYdSCIkz7mdWFjqbWOd4b7JM4UbmzS6jTaRaUnsSAZF0x2dD+ILaEPMs32yQXbL0kvDCYhZVSNqKqaakE07fjb2dAjzM44K6Atmywht00YsKF74zoomf0l66MK9AQTEdZ3dvjUv/kG+tmXqGZz3vvr73Dzu3/Pha/+Nhc+91n8qKKta8af+TSaCs0ERwA3bjzLH/37P+ae3ee2u8dffPsvuXv3Hv/qt/8NT19+ilFbM3FjNmWDG08+Gx8/hvFoXMTCGBDPxe0LfONrf8B4fcykHneSTnK2muiEtqavjGZLT7Ce2ioYdRJAAkexnQWwbMfIvUzUPTW7OCSV2Q/BvCnc6EQ7xSLIcv2T+IBGQiKm5Kj6HL1J4qsmH78YjfHgdJox5TQgyf0Pecj08EKwljRKAtWy9godG7tPATFUW5tsvfg8PHkV5o75G29y+6f/yJMvPMfal1+BuobawpUroQZF5AoGw87mBT7z7EscyDG3pnf54ejHGFvx2Su/xaee+iS1rxlrzYQJFybno0BYkXJ1c6qFwsZknU8+80mMFcZ2jGhcEzsFI0MMBQuBrl3gchy8klZoiZNMWvgh1oJUH2ICg5gdjRs5qkYyVsL2GIGRou9Te53S7qeJG1nKK6yFKYQpM9NC+OwA9xukUow4+YCV6HgiFUpuGXHe/xJ+CME5qrFEm1qDrE/g6iXYOQfec3DlAh9sTJhevwrPPwd1FT7jMVQhNSPEeBvW7QZPrFumODb8OS7qJZxzPFc/w6fWX6DSOkQ9YKmkwqYFnSQyqlT3A2Vka66cvxJnCkF8DKeKK9WkGiMq0bsVZTkbfX9hoQmHSeXUQgQxKQJGEbwK1piwFG03wgsgSJetQtKlwvccrF7W3el1wmkjdADW1E9ZOkgLZ8RqLNI3h/x6dMJZhey7/IhHmJVFOhugleJ+IR2c6nXpqQdJVytHmASL3NokOHSd48pLL/LSwRHnP/EMrE86oNm4rG5OhlRqMcAIg2fKGmvtiEkzYl0nbMg6dTTS52oTRZEf7TSu+Hohd6xbhCGApx+8HChVEZH8kgFMEtcY63KDE1fzSIxzVM1JKOEaNj5PNuUPGjRzoAfrnu53oV2VO2LByyQaCiFKUeI6cOGM0gPaXf8kLPfuXYrUC/QIs6sHoLPjaCXIpJgguf98lAdS+h1N9aE2/CiWpG158rc+zdVLV6if6MpZB/N46vwQomPQkAofIz3G1KyzxgbrjBkxpmIUfVTh/lFKy399F/uaERQHuk3sTkixEt27LpmVVSPQkl1Tu7MkpOuICUYX71MiKl1UVJI009gu6+qUDXwfNtN1zwkHaXGkJFHeR0G8qBxG/0FOA1l57/vTfUfJI83YzjaoWCg6pKMkGSTzfx6Ovd/d926GDqFQSWQzF3aox+uY9S2oY0WnBDLpktslp0uF4bU5qvnq57/I4f4hV89fpBouqZT+ZhtFyvHS7jnT6NcoxhGiN8rcN431D3vDWZRU3q3TdFICZZhgQsJyGEiLWc/Sr2Q8kBoW/i6lBxDIZNm+kmuVBV0fgP6JoDhVm3yEmd6ZBRWn4VMCTYr9QrIshi/lTLhc9EkbI9gMmM0t2NgCDGriYunSHS0E1SffIyJ8vap5+ZOfxrfKhc1zOS68FGWk91cKE2B6wOKNVLKYmyx34b1TlcdiplfNx0mvRXy+dtJ/IIBqQSwrG+hBRISFY5dw2pNIyq/9KfCBjSCn9ue/TDrzfLRlQKPYdl+9rfdbyIsbAF1WtsmgFiLTiLwlACBxFaVCmIhwcXMbr8KoqgtuU9xr+FB5gJr+AXl7F66VItPLySNjLOadhQBpQfDJNp/fSyL3dVFJqyRy5CWNIvn+A/CdRCc1uA7+Sv8npHYNO1IR1/Lw3yyeHsDq+Ahj9aFYHYcqQ4onWABb+nEaqZDqmiUbWA9oGnx0OUpcg/IOEst9E8KEx+soIb8qPVUfPGlb+RbJANLPSl6c25NJvi/eJJ2vYCqUuoYSCuZ4E6NaopXT5+t7Sjp9ovo1RuEJbX5fse1+t/hnAeEBTn7cRcdEPQZR6K5CWCwCosEgjUcdiI3LGlJAI9gKzYYU21Baw7sRXPiyBNQIFs2iq6J0DvMl4lzHH/P9fIHJXOs3icAJAbH2R7pvyAQXMMGcoOrQgkl6r7TOodjwyDEvLWWemyUNsnRuEujshEsG7D9lgJZWnnTj0657P5w8AMM6+TKPMCuLdOZAS01S+HKjLSEMhKGxLP/qWVEWG3Zgr+tLPNHokQu/9K8cLr+Qersgp+ZtCYJD6WqZoac7QPoHaMY6YgInbtRlXYxY4iAVsEklHXThroPb9J6w/67/ZCqa7X6Ma9iKD0T3A/oDXUwfabw9lHy0DLjC2JGKgCaekcYmkBebCDvkxEm57C+feU7iXJIND2FDSmLRKJL1M4fvN8UOvWknMFt6PKZ8DXLpQ6wEh3bjw7rPoOBjJrGtcMZGbu2Hl1naDt23Pj/+J0VsDOamDKQTxPre5hOO6YHx1+Sm9xVfH1E68zQZgW75onKUmkKUY7HNAmcayCKDYxOASyEv7C+U5RLBSFGzvgsazptyunx37wVuWdx3+K70zlB6q7Qk7pCW3LUGMxrFokCSC9YLwdVg///2zuVZjiMr47+TWd33peeV5PEDe4SFxw4zQTALAtgRwGKCLf8pLGDDLNgMAWEYVjMeM+EB2XgIjyVb0n11V+VhcfJV1XXvlWSP1IrIT9HqvtVZVdnd9dV55jlJGRZi9G/a3nAO56iKz4WSAZm0AKh+kuo0c/rG5rye/fyvMl74ws8N3S49B40+DWGQUkEi5z6mCrjVQa1nczlMGhsv3Ykqma228cSisVQIFqo5S9HvwGo/FuXu8su4Fiea7D7Jh7ULNgAD4sWIljrIpGbpWIUnYgrWs1HnKUdfqgsWnbfSfMf3veoOlV+OuHGJwXaZTvqK4+XkOtYqhUze0Or6BxuYSFb9sslpkpDiY8mES/smH119mun1UTh/iZSYXAyji2n2bkJ1cyiSMcnGbLo5zxnC46Csvbdk6ES4uK+b2Hgi58+0fL5ve+Vq/pDT+2NaOT4VNLrx4rwZPsPcRlrIuQO2mqgvnmiVqZQv1LEhkYZt7GdDplYIhZxpqBKrKFbNIHKLWEb7pyPKZOvGLGavjbmNOnmA1ZNkwsx0CgHvWVy7xv7rr9NduRqJFkMWGuv5z15E81fWOabRc2L8fZ8r0S7a/9sS4FJjbmJAbiFeaLm5HPURUxGLg4LRl5RUxvH3Nr2r2k+eKuSO+ghKVXckVTN2Wt34JDMzHbVIs1oCzYmw+lNJUQc3PmmAkY1XLoZkh9q7Hpzw/Q9/yJ4seO3334VuCT4674fB3PrT+8QlF9VlicRPd6inXFl2roDSEUm+naSV6v+5CWwxy3gJBVQzoo0l9Ybx27P7m/3FSB3caNYZtzmFkmoVB+UAd7LYFDREVbW+Z7N5UKX2ZTB/haXz1ITdtJVqNRcch2+9zcHeFfYPb1qvo1gWWKcC4Wmv0e/E5hl//pHWkP679PqeG/A8k5vV0at35BkPOZ3X887nPIxv2y91PZq1aM4OeHIQeUZ7K92nL/rKq92EXM8wd/xMhS/SI14oMuoucsExSc6AS77kud9wui1JNrXg9/L6dZb7+zhL1acUE0qViqkKE82ca27u3wnZzlWmZzfKhQMvwOa96Jy5pEFVsVSJDUpUuNDKzm8lLWZ0YObCH9PavoU+F18Difxp5Av1Ok7VwWlS6lRby9nyo7GlNvzT/Kgi1UGT/lVlwAtWx70+lExe5X2op3jelRHPkw346kRTqZumolh1LN9ZniOau7FUbTNH38foIOf95t+aZNPPfP7xZ+c2GVSmKuPfbsN6qC9Tynepm9+55mfJ+Zbj+NHcXWm8RjDPaOYGuXlj1xjXjTftrPykdYF2gwepspReUhytfnXujydzozbvOU9ni0i5qjf2d9SWyIaCN7oX1LOZI1p1S7loYrOHTXN0o3GTL2Lz+yrG3nPj4l2nv0B5IZPrWM7d65JzZa2l2Mz2kSoVPJJtfIOLtp9Y77QgktsKz1GkPktt8wuYLR+qca6MjoX7xusF64WBqf9DGOzG7pP2Vcj20nIdn/7NsYx5/oOfN8Deu+gCePpjXTJmVg2Z/DHjHb30VC8IF0m0CzY9FZ7WnaHxv5EjtmptNU3cvgy2gHWqvWzOyWRYulaiJ5jYJTY21xBn3XS07wnOMVgHRhR52f3RGhoM09tpUtPmxs397UJsGF+9NyvTqhS+mmDTJYVhwr10vCGew4nVzNRBc/2UoLa8SWJtF6OkvniJ1tBwEWqzos7VSQw4T+ol6ZbS1abIZKs6d5T6M5MJJIFY2We1opo93skoDVGSCeT6FqlKWBauoRGtYXuwYR8D1g+7iBulaIgbmFUZi2wc+QdmGbs5kVqR18l7FikyCSki0HnA7LXs/zQDsBGt4RVARYDsxhCtCBcdG3HbiAyMXz+LDZlPq4VkQpJsVlg2laSxuVQLgFOVagGk2WgN2widPMOYbBId9KK5i6mK2uLh+Q4pz3T6cogYZoh2XVrKpShDJJH4IjF7jGwebA3UEGwFRiNaw9bhKTyGxbFh/yV1ck4jHOUeJXF02bklKamQ6k0IoJqKZJClG5TmKfnQyU5zpYdCI1rD9uBCklWukA3BJbPD5qwzziPbSMecnsDiZqKKhN7sNufiqQLBdbE3QR2lcUbsyMtGtIbtxMTWSQ+npYGWkBrH23Yf+1vX40dp0VHiFcmmk3MVphTHRwxSa4BhgPWaB59/xv1f/Jw79+7xxgfvW5l21GrXVOUygsAgNpVGtIbtRU7iiKRRTKpEkVb8HpGA8f1CNDtM8v7VlSxymlbNwo3Tl/PkFj3rNV/fv8/Pf/JPoANvfvAeVpMaUEHVWc6lsz4Eg1hmSSNaw/ZgpNZN06jiNtFZzW8WUz9IllZ23Lo9GFrS5kwwadVjNSZ+qcIwsHr8mG/u/w+nDx9Yx9bYnBFSaysZSU8njWgN24R6aZGkvzVvt+JNmt34dbZV1trqNVPjeDfVaIxuVe2/+vSMyxYS07REBTQQTk84e/iQ/vjYVMoSEceWZZXVjSIWi2tEa9gehJTiERkigA72iK78XtTSo2IcO9eMcWIL2UWBAWsQUufoJ1aG+DJH5Gz/VOU683S89KasGTGbsHRQiI+cBhJDAtUeSiNaw7Yhu+yDZcNDzkM0YhnRNK5BQ4yfAfJi2TFRk5lXZWvE8hD1Mpbk/NBqDsmZYt2zIqvjvcBq1BjjNe6oQauCvWMF9xlTxRsafkdQKOX4bMlJCD3qsNSmKLEKyUoHnkFh0LjNxXZeuV5EHBMCqqESmEXFHMXFo/qpGtBgkqtLOZSBNIGoTDrAql6HoPERItPSkpqAtFzHhu1CsseUlAUvaFVjPbowUmZ8NNJ8JMLQD4SQPCCSJZmSuvtY3Gsj80PMUxjU0qpclFQCuCFKtEHITB+cuRKDA/VxrLNe5UnyqnVCTfVpGtEatgcaskfCOTHJVHkoVErPg1RPRVXoxJohDuueMJhDQomew3w8Z22LtSqIERtcOhH6YL0OnLdzO7wRsidKMlceg6CDoMGBdog6W1UtydYLDNoz6NraIeMa0Rq2CLFALSGQiypZF0ZbjqKx7ESA0Ae7gMXH+JrDx3bIyRWh6nI31HrBe2oUmVKoBId3sd+ICE6tlVZRZ6F4MmVkHxKnqIGyZleczVOckY6hEa1h+zAOf5Xgs6jDi0fUFlw6FZw4y0FMRFNv6l0wd3zq21BnVJnjw5gSHff4JCiT6ZZU0LzYre7CqhSvh3V5yGVEnOWiOKy40sBAaDZaw9YgOQotJT4GfsHqr3hQjxPP0i2th90gpmkGUx9FPAu/MCVtcJlsLkmuFJdONFY79ijpOBFMMacKRNV1ABnArYAzRHqkC4jvwa1tTZqPxwrW0w4Pzput1+JoDVuF3AHISfLJV8EyBym9CYc6T6+BPuqFg7iYQZ/jABZKS61RNQW46yg2pPqeG4koKSFSe4xoa9Az0BVO1yy0x4U1DCuTYrHBZfblxEeqsNaI1rAVMBf8YGqcd0XOJJc6jl7haN2zFKHfWbDqFRkCguPEC49DzxWCGVsBc2R0VN2PTfKpaOm2qoofGXDVs4ZItB7CKhJtTTesOFidsjw7hbNT0yo7wC0R8eBjQfqgsSBaWybTsFVw2TxKmRW5dJ/A4IRV5zheOh7hWXvHsldEhEfe8XjpuNU58GJtyjeixCUHMdf4UAix6aNEL+QIQ09YHXP0q/9i+OIL9o7PWHz8Sw6/fszuJ5+y/uefcrrcRW/cZv/ee3TXb0QpauEHibG8RrSGrYF4j6oyhBCljMWmUgBaO8d6f8nRcYcXYcc7FguLix0tHE92l6x2PXQOOoFFClqTM0tS/mK8/s2pGaz/nIkmycRGgb4nPHrEV//yU04++ojXj1cs7n/Ba7/9mr1//RmnXx3z1c4e4Q9+wBt/e4vu4Fqer1RMb0Rr2CIku8lVr4np757rv/cWH/zlX+C/ecDO6ogu9LgQEBVW3YJbO3vcev896BzqJS8vS0tnJFjepIsGm0UPYqaH05hXlSSoz+UIdLXm+H9/wze/+IT94xXLh4+5ebZm7zdfEk4DZzu7DNIxPDkiLxqtwwLaiNawbYgB5OwBhJj+7rn5/Xe4+eMfw+ljWJ+ULBIFfAfLJbxzDzpPSB1kwcaEAU7NpnIpCB6IgWZBvRA6sdLs3aJItKDoeuDkywc8/u/PeXR0xs2znpu9Ig++Zvj6Cf3ODv3hLfQ0ZvNLalLicxC+Ea1hayDTP1xMe+q8/X3juqmE/QqG9SiTBHFGtuuH2TWvWNY/2kO/5vF//geP//1n7K8HdoKpnIMTzrzjZNmxunrAnR/9iKt334XFTlQdBRk8vvcsBk8XPF0Y8GHAMSCsWaggrHE62Jw2PlSz0Rq2CDJ9ncgmMW2jO4CDvZKKQcjB7Gxb+QXqUjuVYHaX9hDOOPrkY778h3/k8HRN6K32x8oJx53j4f4ux7cPObh9h6tvvQ1+YceMuY0+OBbB0QVHp4IPAYc1JOnoQHrQ2KBk+qmkSbSGLUHS1GTujZSpm5wjQIlAK6N8SJz9mRYC5JIFytmjRzz57HN2T87wqzUe5cwJJ53j+Mo+T1ZnrI+emJoZogoYT+UQPM7WocVqWI4QK2MNCEMMsk+IFj9QI1rD1mBDoqXIb94imy77TLQ646PquYdkCbherXhydMTu0QlutaZTZe3gxAvHQ8/xwR7Dek2OXEshdSlIbj1iRAOS6onU0rPUJx+hEa1hazBuQGkXdUnU2JB18Q1bCpPGZIJZikk8hjlXVt5ztLvDsu9BlZ2g9AKnDk6ccAr03tKpSrrIAAwoA0oMXkvInE6JKyGt7q4cpjUa0Rq2Ext65KxiSQ6I5ZfFba9K7JjqwXfceOcd3vnzP2P/+BT/1UNOPv01srPk1t232bt2hbPbh1y981okWpVHJaFURZ6oh6PaJZGcKZ+yzKoRreFVR14Eahd0lF+EUL3vOljs8vqHf8hriz1k1fPk01/zq7/7e/ZuXufu3/wYf3gTrl3Bv/O2Ec1BrQ6K6EbruhHlqqB4kLqYqlmfjWgNWwSdvDbJUFtp47oD1V4pzSOtMpsmEAfwNw/x7zlYrdGh58n+HnrtGu7uXRZ3bsGVPbh21Xb2kVXOyiOoy96VuPyGrKHOf45xv/NGtIbtgOb/qg3jRrtw3oUdUTXSTiZdSB5LFeTadbhyFVZn9A8f8GRvB7lygL75BnzvNuzvWMzOW7pXylO0h0NzTYXY4jdrl6kUXZn5dJ6NaA3bARm76TfjUbFWooycgbEkXGKXUaAutZjXlnULi70FW8SmiwXrRUffdeB9eXQLtPMMYotGfSzAo8GOSySWrQA3tXBUdk7LKremOjZsKabkghi1jp02I28oEiNLnXSEWBNExIhgnHDoIqp7qR7/zi79cpdhsURdXEujzhpWpGC1KoQO+g4/dPjQ4bRD6BGcxdOC4oLg0vq3cVQgz7QRrWFrUVpZbCqVo5hbJdGsVJzGldrkVEiokoydQ9NC0XzgWDqOVNUqtsdQI6Co4GYa0YvWim2lO44+SEvBathS1CQr22ZstEwkzfUaRYqLPaC5WlZe2hYL5wQNBLVCQBYCWCDiK8Uv6qbIKAFF4z9JD01knwTP06S1FVBt2GoUOTGnVG6glmwxW0OSC2Pkbq8kU36OCcwpMJZq8VQZIUogyIBKIEh0/XuwdhhxB7FCrTnUHndvEq1hSzGTx3TOMMk9ySx4Zs5H++fEFQ8klOVixDWlULgUuUP9wAYogcCASs9Ab6+dgncEGRi0BxlQsapXEgsGJTSiNWwRZPbl7LBZEWdvjFtbJDeKVaPKsTWVvBZt46RJ80sVVHWN+IDryNkh4iI3g9mDzid3aFJhLWgu2Cka0Rq2Ayk7nyhuLpNms2STTDIrx23brKRAiE6Nar/cFEMnp6tEHj2wRrzGZH6rpS+iOVpAzARJdR/Fxap1aqegEa1ha5CJU7I5QvVW/TzCxPcw/yZkEkfPoQLB2crqnG7FYLEy52I1hR58gE4Z6Ol1jcT6+qJlXapqiKXHbRJBQ04wjr1AG9EatglVPGzyXFts53IqS0JlTLJI2VKdx7aKZd3HnrxxXDy6dbYAN0AHvQz0EixL30mUl5pdLlGWVY4YI1pqKdWI1vBKwILUM4mO+c/0d22h2d/2NH622LV5COvDiYvl6ggQSxOog8E71s6xio+1d2hQeoWVdAxuaW2jsKYWQRL57NGI1rD1qMPWMtITp1m9Se6lUgaTALJWtpgqGrSkbyHWgy0RLqV3xFzHtfecLhac+oHjVO7bQS+O08UO6haoekSNbJamlRoTtoB1wxZDR6+0BIWhcEqniqRMHpTnpFVK8hhaNWGNJMtFfeJpRAS8R8Wx7pacLHY5Wghd7xgGh3ee0C04Xi5wfsmgpe5/Dmo7Z6mWv4Pvp6HhO8HIx1FnXtS5jdWYQsxaqk1GZYkleOctzpb5KxDjbkky4Tr87j5vfPhDDk56rh6v6O9/wcOPf8mNt97i5t27+N0d5N677Ny4BdKZd9MJjrhYtJWba9hW1K6MzfwQI85cKC2lbll6lMMaVNQ5ihK1RGHhPZ1z0StvKqIkl79aOAC3oDu4yr0/+VOrGXnS89m/fcSn//dbrv/RH3Pnr/+KOwf7cOsQuf09S+Ui1qZ0Qq8D2to2NWw/dCzNlHGQWaoEjhFSs8GiPqpUpcDF2ivpkJbOVE4SyN1hcAtYOOS1N+DgBqwGbrgF73dLbrx3D/nwB1a4dW8f9vfAu+jcjGlZTaI1vBqoSVZ5Dsc5u2V03p56UWddMWcsJp5qCNZpPlZE1oq0Qkz9cEtLtbq1i9wAhsCVa9c5ePN15OYNuHNo69jEg8aV2E4sH9JSmpFW17Fhm1Esq2lUjTr2XDZtZHCN8yVTzKvIuKgmxjIFo3I60WZT7wgxQK0epFfk+nVYLpCdhUkzl9roisXYan7HPMlGtIatxNTjOCbbpnU23VJ6VI9ztXLySRRrEssU1JW0MtFUbNFoEm7pMH4X2dspo2NdkWq3fOYQx/w/CjXNxMibmroAAAAASUVORK5CYII=\" y=\"-9.953862\"/>\n   </g>\n   <g id=\"matplotlib.axis_1\">\n    <g id=\"xtick_1\">\n     <g id=\"line2d_1\">\n      <defs>\n       <path d=\"M 0 0 \nL 0 3.5 \n\" id=\"mf1cb12ad3a\" style=\"stroke:#000000;stroke-width:0.8;\"/>\n      </defs>\n      <g>\n       <use style=\"stroke:#000000;stroke-width:0.8;\" x=\"33.772857\" xlink:href=\"#mf1cb12ad3a\" y=\"227.953862\"/>\n      </g>\n     </g>\n     <g id=\"text_1\">\n      <!-- 0 -->\n      <defs>\n       <path d=\"M 31.78125 66.40625 \nQ 24.171875 66.40625 20.328125 58.90625 \nQ 16.5 51.421875 16.5 36.375 \nQ 16.5 21.390625 20.328125 13.890625 \nQ 24.171875 6.390625 31.78125 6.390625 \nQ 39.453125 6.390625 43.28125 13.890625 \nQ 47.125 21.390625 47.125 36.375 \nQ 47.125 51.421875 43.28125 58.90625 \nQ 39.453125 66.40625 31.78125 66.40625 \nz\nM 31.78125 74.21875 \nQ 44.046875 74.21875 50.515625 64.515625 \nQ 56.984375 54.828125 56.984375 36.375 \nQ 56.984375 17.96875 50.515625 8.265625 \nQ 44.046875 -1.421875 31.78125 -1.421875 \nQ 19.53125 -1.421875 13.0625 8.265625 \nQ 6.59375 17.96875 6.59375 36.375 \nQ 6.59375 54.828125 13.0625 64.515625 \nQ 19.53125 74.21875 31.78125 74.21875 \nz\n\" id=\"DejaVuSans-48\"/>\n      </defs>\n      <g transform=\"translate(30.591607 242.552299)scale(0.1 -0.1)\">\n       <use xlink:href=\"#DejaVuSans-48\"/>\n      </g>\n     </g>\n    </g>\n    <g id=\"xtick_2\">\n     <g id=\"line2d_2\">\n      <g>\n       <use style=\"stroke:#000000;stroke-width:0.8;\" x=\"82.308571\" xlink:href=\"#mf1cb12ad3a\" y=\"227.953862\"/>\n      </g>\n     </g>\n     <g id=\"text_2\">\n      <!-- 50 -->\n      <defs>\n       <path d=\"M 10.796875 72.90625 \nL 49.515625 72.90625 \nL 49.515625 64.59375 \nL 19.828125 64.59375 \nL 19.828125 46.734375 \nQ 21.96875 47.46875 24.109375 47.828125 \nQ 26.265625 48.1875 28.421875 48.1875 \nQ 40.625 48.1875 47.75 41.5 \nQ 54.890625 34.8125 54.890625 23.390625 \nQ 54.890625 11.625 47.5625 5.09375 \nQ 40.234375 -1.421875 26.90625 -1.421875 \nQ 22.3125 -1.421875 17.546875 -0.640625 \nQ 12.796875 0.140625 7.71875 1.703125 \nL 7.71875 11.625 \nQ 12.109375 9.234375 16.796875 8.0625 \nQ 21.484375 6.890625 26.703125 6.890625 \nQ 35.15625 6.890625 40.078125 11.328125 \nQ 45.015625 15.765625 45.015625 23.390625 \nQ 45.015625 31 40.078125 35.4375 \nQ 35.15625 39.890625 26.703125 39.890625 \nQ 22.75 39.890625 18.8125 39.015625 \nQ 14.890625 38.140625 10.796875 36.28125 \nz\n\" id=\"DejaVuSans-53\"/>\n      </defs>\n      <g transform=\"translate(75.946071 242.552299)scale(0.1 -0.1)\">\n       <use xlink:href=\"#DejaVuSans-53\"/>\n       <use x=\"63.623047\" xlink:href=\"#DejaVuSans-48\"/>\n      </g>\n     </g>\n    </g>\n    <g id=\"xtick_3\">\n     <g id=\"line2d_3\">\n      <g>\n       <use style=\"stroke:#000000;stroke-width:0.8;\" x=\"130.844286\" xlink:href=\"#mf1cb12ad3a\" y=\"227.953862\"/>\n      </g>\n     </g>\n     <g id=\"text_3\">\n      <!-- 100 -->\n      <defs>\n       <path d=\"M 12.40625 8.296875 \nL 28.515625 8.296875 \nL 28.515625 63.921875 \nL 10.984375 60.40625 \nL 10.984375 69.390625 \nL 28.421875 72.90625 \nL 38.28125 72.90625 \nL 38.28125 8.296875 \nL 54.390625 8.296875 \nL 54.390625 0 \nL 12.40625 0 \nz\n\" id=\"DejaVuSans-49\"/>\n      </defs>\n      <g transform=\"translate(121.300536 242.552299)scale(0.1 -0.1)\">\n       <use xlink:href=\"#DejaVuSans-49\"/>\n       <use x=\"63.623047\" xlink:href=\"#DejaVuSans-48\"/>\n       <use x=\"127.246094\" xlink:href=\"#DejaVuSans-48\"/>\n      </g>\n     </g>\n    </g>\n    <g id=\"xtick_4\">\n     <g id=\"line2d_4\">\n      <g>\n       <use style=\"stroke:#000000;stroke-width:0.8;\" x=\"179.38\" xlink:href=\"#mf1cb12ad3a\" y=\"227.953862\"/>\n      </g>\n     </g>\n     <g id=\"text_4\">\n      <!-- 150 -->\n      <g transform=\"translate(169.83625 242.552299)scale(0.1 -0.1)\">\n       <use xlink:href=\"#DejaVuSans-49\"/>\n       <use x=\"63.623047\" xlink:href=\"#DejaVuSans-53\"/>\n       <use x=\"127.246094\" xlink:href=\"#DejaVuSans-48\"/>\n      </g>\n     </g>\n    </g>\n    <g id=\"xtick_5\">\n     <g id=\"line2d_5\">\n      <g>\n       <use style=\"stroke:#000000;stroke-width:0.8;\" x=\"227.915714\" xlink:href=\"#mf1cb12ad3a\" y=\"227.953862\"/>\n      </g>\n     </g>\n     <g id=\"text_5\">\n      <!-- 200 -->\n      <defs>\n       <path d=\"M 19.1875 8.296875 \nL 53.609375 8.296875 \nL 53.609375 0 \nL 7.328125 0 \nL 7.328125 8.296875 \nQ 12.9375 14.109375 22.625 23.890625 \nQ 32.328125 33.6875 34.8125 36.53125 \nQ 39.546875 41.84375 41.421875 45.53125 \nQ 43.3125 49.21875 43.3125 52.78125 \nQ 43.3125 58.59375 39.234375 62.25 \nQ 35.15625 65.921875 28.609375 65.921875 \nQ 23.96875 65.921875 18.8125 64.3125 \nQ 13.671875 62.703125 7.8125 59.421875 \nL 7.8125 69.390625 \nQ 13.765625 71.78125 18.9375 73 \nQ 24.125 74.21875 28.421875 74.21875 \nQ 39.75 74.21875 46.484375 68.546875 \nQ 53.21875 62.890625 53.21875 53.421875 \nQ 53.21875 48.921875 51.53125 44.890625 \nQ 49.859375 40.875 45.40625 35.40625 \nQ 44.1875 33.984375 37.640625 27.21875 \nQ 31.109375 20.453125 19.1875 8.296875 \nz\n\" id=\"DejaVuSans-50\"/>\n      </defs>\n      <g transform=\"translate(218.371964 242.552299)scale(0.1 -0.1)\">\n       <use xlink:href=\"#DejaVuSans-50\"/>\n       <use x=\"63.623047\" xlink:href=\"#DejaVuSans-48\"/>\n       <use x=\"127.246094\" xlink:href=\"#DejaVuSans-48\"/>\n      </g>\n     </g>\n    </g>\n   </g>\n   <g id=\"matplotlib.axis_2\">\n    <g id=\"ytick_1\">\n     <g id=\"line2d_6\">\n      <defs>\n       <path d=\"M 0 0 \nL -3.5 0 \n\" id=\"m2dd9dd1fe5\" style=\"stroke:#000000;stroke-width:0.8;\"/>\n      </defs>\n      <g>\n       <use style=\"stroke:#000000;stroke-width:0.8;\" x=\"33.2875\" xlink:href=\"#m2dd9dd1fe5\" y=\"10.999219\"/>\n      </g>\n     </g>\n     <g id=\"text_6\">\n      <!-- 0 -->\n      <g transform=\"translate(19.925 14.798437)scale(0.1 -0.1)\">\n       <use xlink:href=\"#DejaVuSans-48\"/>\n      </g>\n     </g>\n    </g>\n    <g id=\"ytick_2\">\n     <g id=\"line2d_7\">\n      <g>\n       <use style=\"stroke:#000000;stroke-width:0.8;\" x=\"33.2875\" xlink:href=\"#m2dd9dd1fe5\" y=\"35.267076\"/>\n      </g>\n     </g>\n     <g id=\"text_7\">\n      <!-- 25 -->\n      <g transform=\"translate(13.5625 39.066295)scale(0.1 -0.1)\">\n       <use xlink:href=\"#DejaVuSans-50\"/>\n       <use x=\"63.623047\" xlink:href=\"#DejaVuSans-53\"/>\n      </g>\n     </g>\n    </g>\n    <g id=\"ytick_3\">\n     <g id=\"line2d_8\">\n      <g>\n       <use style=\"stroke:#000000;stroke-width:0.8;\" x=\"33.2875\" xlink:href=\"#m2dd9dd1fe5\" y=\"59.534933\"/>\n      </g>\n     </g>\n     <g id=\"text_8\">\n      <!-- 50 -->\n      <g transform=\"translate(13.5625 63.334152)scale(0.1 -0.1)\">\n       <use xlink:href=\"#DejaVuSans-53\"/>\n       <use x=\"63.623047\" xlink:href=\"#DejaVuSans-48\"/>\n      </g>\n     </g>\n    </g>\n    <g id=\"ytick_4\">\n     <g id=\"line2d_9\">\n      <g>\n       <use style=\"stroke:#000000;stroke-width:0.8;\" x=\"33.2875\" xlink:href=\"#m2dd9dd1fe5\" y=\"83.80279\"/>\n      </g>\n     </g>\n     <g id=\"text_9\">\n      <!-- 75 -->\n      <defs>\n       <path d=\"M 8.203125 72.90625 \nL 55.078125 72.90625 \nL 55.078125 68.703125 \nL 28.609375 0 \nL 18.3125 0 \nL 43.21875 64.59375 \nL 8.203125 64.59375 \nz\n\" id=\"DejaVuSans-55\"/>\n      </defs>\n      <g transform=\"translate(13.5625 87.602009)scale(0.1 -0.1)\">\n       <use xlink:href=\"#DejaVuSans-55\"/>\n       <use x=\"63.623047\" xlink:href=\"#DejaVuSans-53\"/>\n      </g>\n     </g>\n    </g>\n    <g id=\"ytick_5\">\n     <g id=\"line2d_10\">\n      <g>\n       <use style=\"stroke:#000000;stroke-width:0.8;\" x=\"33.2875\" xlink:href=\"#m2dd9dd1fe5\" y=\"108.070647\"/>\n      </g>\n     </g>\n     <g id=\"text_10\">\n      <!-- 100 -->\n      <g transform=\"translate(7.2 111.869866)scale(0.1 -0.1)\">\n       <use xlink:href=\"#DejaVuSans-49\"/>\n       <use x=\"63.623047\" xlink:href=\"#DejaVuSans-48\"/>\n       <use x=\"127.246094\" xlink:href=\"#DejaVuSans-48\"/>\n      </g>\n     </g>\n    </g>\n    <g id=\"ytick_6\">\n     <g id=\"line2d_11\">\n      <g>\n       <use style=\"stroke:#000000;stroke-width:0.8;\" x=\"33.2875\" xlink:href=\"#m2dd9dd1fe5\" y=\"132.338504\"/>\n      </g>\n     </g>\n     <g id=\"text_11\">\n      <!-- 125 -->\n      <g transform=\"translate(7.2 136.137723)scale(0.1 -0.1)\">\n       <use xlink:href=\"#DejaVuSans-49\"/>\n       <use x=\"63.623047\" xlink:href=\"#DejaVuSans-50\"/>\n       <use x=\"127.246094\" xlink:href=\"#DejaVuSans-53\"/>\n      </g>\n     </g>\n    </g>\n    <g id=\"ytick_7\">\n     <g id=\"line2d_12\">\n      <g>\n       <use style=\"stroke:#000000;stroke-width:0.8;\" x=\"33.2875\" xlink:href=\"#m2dd9dd1fe5\" y=\"156.606362\"/>\n      </g>\n     </g>\n     <g id=\"text_12\">\n      <!-- 150 -->\n      <g transform=\"translate(7.2 160.40558)scale(0.1 -0.1)\">\n       <use xlink:href=\"#DejaVuSans-49\"/>\n       <use x=\"63.623047\" xlink:href=\"#DejaVuSans-53\"/>\n       <use x=\"127.246094\" xlink:href=\"#DejaVuSans-48\"/>\n      </g>\n     </g>\n    </g>\n    <g id=\"ytick_8\">\n     <g id=\"line2d_13\">\n      <g>\n       <use style=\"stroke:#000000;stroke-width:0.8;\" x=\"33.2875\" xlink:href=\"#m2dd9dd1fe5\" y=\"180.874219\"/>\n      </g>\n     </g>\n     <g id=\"text_13\">\n      <!-- 175 -->\n      <g transform=\"translate(7.2 184.673437)scale(0.1 -0.1)\">\n       <use xlink:href=\"#DejaVuSans-49\"/>\n       <use x=\"63.623047\" xlink:href=\"#DejaVuSans-55\"/>\n       <use x=\"127.246094\" xlink:href=\"#DejaVuSans-53\"/>\n      </g>\n     </g>\n    </g>\n    <g id=\"ytick_9\">\n     <g id=\"line2d_14\">\n      <g>\n       <use style=\"stroke:#000000;stroke-width:0.8;\" x=\"33.2875\" xlink:href=\"#m2dd9dd1fe5\" y=\"205.142076\"/>\n      </g>\n     </g>\n     <g id=\"text_14\">\n      <!-- 200 -->\n      <g transform=\"translate(7.2 208.941295)scale(0.1 -0.1)\">\n       <use xlink:href=\"#DejaVuSans-50\"/>\n       <use x=\"63.623047\" xlink:href=\"#DejaVuSans-48\"/>\n       <use x=\"127.246094\" xlink:href=\"#DejaVuSans-48\"/>\n      </g>\n     </g>\n    </g>\n   </g>\n   <g id=\"patch_3\">\n    <path d=\"M 33.2875 227.953862 \nL 33.2875 10.513862 \n\" style=\"fill:none;stroke:#000000;stroke-linecap:square;stroke-linejoin:miter;stroke-width:0.8;\"/>\n   </g>\n   <g id=\"patch_4\">\n    <path d=\"M 250.7275 227.953862 \nL 250.7275 10.513862 \n\" style=\"fill:none;stroke:#000000;stroke-linecap:square;stroke-linejoin:miter;stroke-width:0.8;\"/>\n   </g>\n   <g id=\"patch_5\">\n    <path d=\"M 33.2875 227.953862 \nL 250.7275 227.953862 \n\" style=\"fill:none;stroke:#000000;stroke-linecap:square;stroke-linejoin:miter;stroke-width:0.8;\"/>\n   </g>\n   <g id=\"patch_6\">\n    <path d=\"M 33.2875 10.513862 \nL 250.7275 10.513862 \n\" style=\"fill:none;stroke:#000000;stroke-linecap:square;stroke-linejoin:miter;stroke-width:0.8;\"/>\n   </g>\n  </g>\n </g>\n <defs>\n  <clipPath id=\"pcce187ff5a\">\n   <rect height=\"217.44\" width=\"217.44\" x=\"33.2875\" y=\"10.513862\"/>\n  </clipPath>\n </defs>\n</svg>\n",
      "text/plain": "<Figure size 432x288 with 1 Axes>"
     },
     "metadata": {
      "needs_background": "light"
     },
     "output_type": "display_data"
    }
   ],
   "source": [
    "ia = load_and_preprocess_image(all_image_paths[10])\n",
    "plt.imshow(ia)"
   ]
  },
  {
   "cell_type": "markdown",
   "metadata": {},
   "source": [
    "### Load all images and process"
   ]
  },
  {
   "cell_type": "code",
   "execution_count": 28,
   "metadata": {},
   "outputs": [
    {
     "name": "stderr",
     "output_type": "stream",
     "text": "100%|██████████| 374/374 [00:00<00:00, 625.19it/s]\n"
    }
   ],
   "source": [
    "from tqdm import tqdm\n",
    "import numpy as np\n",
    "images = []\n",
    "for image_path in tqdm(all_image_paths):\n",
    "    processed_image = load_and_preprocess_image(image_path)\n",
    "    images.append(processed_image)\n"
   ]
  },
  {
   "cell_type": "code",
   "execution_count": 29,
   "metadata": {},
   "outputs": [
    {
     "data": {
      "text/plain": "list"
     },
     "execution_count": 29,
     "metadata": {},
     "output_type": "execute_result"
    }
   ],
   "source": [
    "# images = np.asarray(images)\n",
    "type(images)"
   ]
  },
  {
   "cell_type": "code",
   "execution_count": 30,
   "metadata": {},
   "outputs": [
    {
     "data": {
      "text/plain": "list"
     },
     "execution_count": 30,
     "metadata": {},
     "output_type": "execute_result"
    }
   ],
   "source": [
    "type(all_image_labels)"
   ]
  },
  {
   "cell_type": "code",
   "execution_count": 32,
   "metadata": {},
   "outputs": [
    {
     "data": {
      "text/plain": "(374, 13)"
     },
     "execution_count": 32,
     "metadata": {},
     "output_type": "execute_result"
    }
   ],
   "source": [
    "all_image_labels = np.asarray(all_image_labels)\n",
    "from keras.utils import to_categorical\n",
    "all_image_labels = to_categorical(all_image_labels, num_classes=13)\n",
    "all_image_labels.shape"
   ]
  },
  {
   "cell_type": "markdown",
   "metadata": {},
   "source": [
    "### Split train and test dataset"
   ]
  },
  {
   "cell_type": "code",
   "execution_count": 33,
   "metadata": {},
   "outputs": [],
   "source": [
    "from sklearn.model_selection import train_test_split\n",
    "x_train, x_val, y_train, y_val = train_test_split(images, all_image_labels, test_size=0.2, random_state=6)\n",
    "# print(x_train.shape)\n",
    "# print(x_val.shape)\n",
    "# print(y_train.shape)\n",
    "# print(y_val.shape)"
   ]
  },
  {
   "cell_type": "code",
   "execution_count": 34,
   "metadata": {},
   "outputs": [
    {
     "name": "stdout",
     "output_type": "stream",
     "text": "299\n"
    }
   ],
   "source": [
    "print(len(x_train))"
   ]
  },
  {
   "cell_type": "code",
   "execution_count": null,
   "metadata": {},
   "outputs": [],
   "source": []
  },
  {
   "cell_type": "markdown",
   "metadata": {},
   "source": [
    "### Training the model"
   ]
  },
  {
   "cell_type": "markdown",
   "metadata": {},
   "source": [
    "#### 1) Bulid the model"
   ]
  },
  {
   "cell_type": "code",
   "execution_count": 45,
   "metadata": {},
   "outputs": [],
   "source": [
    "from tensorflow.keras.applications.vgg16 import VGG16\n",
    "from tensorflow.keras.applications.vgg19 import VGG19\n",
    "from tensorflow.keras.applications.resnet50 import ResNet50\n",
    "from tensorflow.keras.applications.inception_v3 import InceptionV3\n",
    "\n",
    "# base_model = VGG16(include_top=False, input_shape=(224, 224, 3))\n",
    "# base_model = VGG19(include_top=False, input_shape=(224, 224, 3))\n",
    "# base_model = MobileNet(include_top=False, input_shape=(224, 224, 3))\n",
    "base_model = ResNet50(include_top=False, input_shape=(224, 224, 3))\n",
    "# base_model = InceptionV3(include_top=False, input_shape=(224, 224, 3))\n",
    "\n",
    "for layer in base_model.layers:\n",
    "    layer.trainable = False"
   ]
  },
  {
   "cell_type": "code",
   "execution_count": 46,
   "metadata": {},
   "outputs": [],
   "source": [
    "FC_NUMS = 1024\n",
    "# 冻结训练的层数，根据模型的不同，层数也不一样，根据调试的结果，VGG19和VGG16c层比较符合理想的测试结果，本文采用VGG19做示例\n",
    "FREEZE_LAYERS = 160\n",
    "# 进行训练和测试的图片大小，VGG19推荐为224×244\n",
    "IMAGE_SIZE = 224\n",
    "NUM_CLASSES = 3"
   ]
  },
  {
   "cell_type": "code",
   "execution_count": null,
   "metadata": {},
   "outputs": [],
   "source": []
  },
  {
   "cell_type": "code",
   "execution_count": 47,
   "metadata": {},
   "outputs": [],
   "source": [
    "from tensorflow.keras.layers import GlobalAveragePooling2D, Dense\n",
    "x = base_model.output\n",
    "x = GlobalAveragePooling2D()(x)\n",
    "x = Dense(FC_NUMS, activation='relu')(x)\n",
    "prediction = Dense(NUM_CLASSES, activation='softmax')(x)"
   ]
  },
  {
   "cell_type": "code",
   "execution_count": 48,
   "metadata": {},
   "outputs": [
    {
     "name": "stdout",
     "output_type": "stream",
     "text": [
      "Model: \"model\"\n",
      "__________________________________________________________________________________________________\n",
      "Layer (type)                    Output Shape         Param #     Connected to                     \n",
      "==================================================================================================\n",
      "input_1 (InputLayer)            [(None, 224, 224, 3) 0                                            \n",
      "__________________________________________________________________________________________________\n",
      "conv1_pad (ZeroPadding2D)       (None, 230, 230, 3)  0           input_1[0][0]                    \n",
      "__________________________________________________________________________________________________\n",
      "conv1_conv (Conv2D)             (None, 112, 112, 64) 9472        conv1_pad[0][0]                  \n",
      "__________________________________________________________________________________________________\n",
      "conv1_bn (BatchNormalization)   (None, 112, 112, 64) 256         conv1_conv[0][0]                 \n",
      "__________________________________________________________________________________________________\n",
      "conv1_relu (Activation)         (None, 112, 112, 64) 0           conv1_bn[0][0]                   \n",
      "__________________________________________________________________________________________________\n",
      "pool1_pad (ZeroPadding2D)       (None, 114, 114, 64) 0           conv1_relu[0][0]                 \n",
      "__________________________________________________________________________________________________\n",
      "pool1_pool (MaxPooling2D)       (None, 56, 56, 64)   0           pool1_pad[0][0]                  \n",
      "__________________________________________________________________________________________________\n",
      "conv2_block1_1_conv (Conv2D)    (None, 56, 56, 64)   4160        pool1_pool[0][0]                 \n",
      "__________________________________________________________________________________________________\n",
      "conv2_block1_1_bn (BatchNormali (None, 56, 56, 64)   256         conv2_block1_1_conv[0][0]        \n",
      "__________________________________________________________________________________________________\n",
      "conv2_block1_1_relu (Activation (None, 56, 56, 64)   0           conv2_block1_1_bn[0][0]          \n",
      "__________________________________________________________________________________________________\n",
      "conv2_block1_2_conv (Conv2D)    (None, 56, 56, 64)   36928       conv2_block1_1_relu[0][0]        \n",
      "__________________________________________________________________________________________________\n",
      "conv2_block1_2_bn (BatchNormali (None, 56, 56, 64)   256         conv2_block1_2_conv[0][0]        \n",
      "__________________________________________________________________________________________________\n",
      "conv2_block1_2_relu (Activation (None, 56, 56, 64)   0           conv2_block1_2_bn[0][0]          \n",
      "__________________________________________________________________________________________________\n",
      "conv2_block1_0_conv (Conv2D)    (None, 56, 56, 256)  16640       pool1_pool[0][0]                 \n",
      "__________________________________________________________________________________________________\n",
      "conv2_block1_3_conv (Conv2D)    (None, 56, 56, 256)  16640       conv2_block1_2_relu[0][0]        \n",
      "__________________________________________________________________________________________________\n",
      "conv2_block1_0_bn (BatchNormali (None, 56, 56, 256)  1024        conv2_block1_0_conv[0][0]        \n",
      "__________________________________________________________________________________________________\n",
      "conv2_block1_3_bn (BatchNormali (None, 56, 56, 256)  1024        conv2_block1_3_conv[0][0]        \n",
      "__________________________________________________________________________________________________\n",
      "conv2_block1_add (Add)          (None, 56, 56, 256)  0           conv2_block1_0_bn[0][0]          \n",
      "                                                                 conv2_block1_3_bn[0][0]          \n",
      "__________________________________________________________________________________________________\n",
      "conv2_block1_out (Activation)   (None, 56, 56, 256)  0           conv2_block1_add[0][0]           \n",
      "__________________________________________________________________________________________________\n",
      "conv2_block2_1_conv (Conv2D)    (None, 56, 56, 64)   16448       conv2_block1_out[0][0]           \n",
      "__________________________________________________________________________________________________\n",
      "conv2_block2_1_bn (BatchNormali (None, 56, 56, 64)   256         conv2_block2_1_conv[0][0]        \n",
      "__________________________________________________________________________________________________\n",
      "conv2_block2_1_relu (Activation (None, 56, 56, 64)   0           conv2_block2_1_bn[0][0]          \n",
      "__________________________________________________________________________________________________\n",
      "conv2_block2_2_conv (Conv2D)    (None, 56, 56, 64)   36928       conv2_block2_1_relu[0][0]        \n",
      "__________________________________________________________________________________________________\n",
      "conv2_block2_2_bn (BatchNormali (None, 56, 56, 64)   256         conv2_block2_2_conv[0][0]        \n",
      "__________________________________________________________________________________________________\n",
      "conv2_block2_2_relu (Activation (None, 56, 56, 64)   0           conv2_block2_2_bn[0][0]          \n",
      "__________________________________________________________________________________________________\n",
      "conv2_block2_3_conv (Conv2D)    (None, 56, 56, 256)  16640       conv2_block2_2_relu[0][0]        \n",
      "__________________________________________________________________________________________________\n",
      "conv2_block2_3_bn (BatchNormali (None, 56, 56, 256)  1024        conv2_block2_3_conv[0][0]        \n",
      "__________________________________________________________________________________________________\n",
      "conv2_block2_add (Add)          (None, 56, 56, 256)  0           conv2_block1_out[0][0]           \n",
      "                                                                 conv2_block2_3_bn[0][0]          \n",
      "__________________________________________________________________________________________________\n",
      "conv2_block2_out (Activation)   (None, 56, 56, 256)  0           conv2_block2_add[0][0]           \n",
      "__________________________________________________________________________________________________\n",
      "conv2_block3_1_conv (Conv2D)    (None, 56, 56, 64)   16448       conv2_block2_out[0][0]           \n",
      "__________________________________________________________________________________________________\n",
      "conv2_block3_1_bn (BatchNormali (None, 56, 56, 64)   256         conv2_block3_1_conv[0][0]        \n",
      "__________________________________________________________________________________________________\n",
      "conv2_block3_1_relu (Activation (None, 56, 56, 64)   0           conv2_block3_1_bn[0][0]          \n",
      "__________________________________________________________________________________________________\n",
      "conv2_block3_2_conv (Conv2D)    (None, 56, 56, 64)   36928       conv2_block3_1_relu[0][0]        \n",
      "__________________________________________________________________________________________________\n",
      "conv2_block3_2_bn (BatchNormali (None, 56, 56, 64)   256         conv2_block3_2_conv[0][0]        \n",
      "__________________________________________________________________________________________________\n",
      "conv2_block3_2_relu (Activation (None, 56, 56, 64)   0           conv2_block3_2_bn[0][0]          \n",
      "__________________________________________________________________________________________________\n",
      "conv2_block3_3_conv (Conv2D)    (None, 56, 56, 256)  16640       conv2_block3_2_relu[0][0]        \n",
      "__________________________________________________________________________________________________\n",
      "conv2_block3_3_bn (BatchNormali (None, 56, 56, 256)  1024        conv2_block3_3_conv[0][0]        \n",
      "__________________________________________________________________________________________________\n",
      "conv2_block3_add (Add)          (None, 56, 56, 256)  0           conv2_block2_out[0][0]           \n",
      "                                                                 conv2_block3_3_bn[0][0]          \n",
      "__________________________________________________________________________________________________\n",
      "conv2_block3_out (Activation)   (None, 56, 56, 256)  0           conv2_block3_add[0][0]           \n",
      "__________________________________________________________________________________________________\n",
      "conv3_block1_1_conv (Conv2D)    (None, 28, 28, 128)  32896       conv2_block3_out[0][0]           \n",
      "__________________________________________________________________________________________________\n",
      "conv3_block1_1_bn (BatchNormali (None, 28, 28, 128)  512         conv3_block1_1_conv[0][0]        \n",
      "__________________________________________________________________________________________________\n",
      "conv3_block1_1_relu (Activation (None, 28, 28, 128)  0           conv3_block1_1_bn[0][0]          \n",
      "__________________________________________________________________________________________________\n",
      "conv3_block1_2_conv (Conv2D)    (None, 28, 28, 128)  147584      conv3_block1_1_relu[0][0]        \n",
      "__________________________________________________________________________________________________\n",
      "conv3_block1_2_bn (BatchNormali (None, 28, 28, 128)  512         conv3_block1_2_conv[0][0]        \n",
      "__________________________________________________________________________________________________\n",
      "conv3_block1_2_relu (Activation (None, 28, 28, 128)  0           conv3_block1_2_bn[0][0]          \n",
      "__________________________________________________________________________________________________\n",
      "conv3_block1_0_conv (Conv2D)    (None, 28, 28, 512)  131584      conv2_block3_out[0][0]           \n",
      "__________________________________________________________________________________________________\n",
      "conv3_block1_3_conv (Conv2D)    (None, 28, 28, 512)  66048       conv3_block1_2_relu[0][0]        \n",
      "__________________________________________________________________________________________________\n",
      "conv3_block1_0_bn (BatchNormali (None, 28, 28, 512)  2048        conv3_block1_0_conv[0][0]        \n",
      "__________________________________________________________________________________________________\n",
      "conv3_block1_3_bn (BatchNormali (None, 28, 28, 512)  2048        conv3_block1_3_conv[0][0]        \n",
      "__________________________________________________________________________________________________\n",
      "conv3_block1_add (Add)          (None, 28, 28, 512)  0           conv3_block1_0_bn[0][0]          \n",
      "                                                                 conv3_block1_3_bn[0][0]          \n",
      "__________________________________________________________________________________________________\n",
      "conv3_block1_out (Activation)   (None, 28, 28, 512)  0           conv3_block1_add[0][0]           \n",
      "__________________________________________________________________________________________________\n",
      "conv3_block2_1_conv (Conv2D)    (None, 28, 28, 128)  65664       conv3_block1_out[0][0]           \n",
      "__________________________________________________________________________________________________\n",
      "conv3_block2_1_bn (BatchNormali (None, 28, 28, 128)  512         conv3_block2_1_conv[0][0]        \n",
      "__________________________________________________________________________________________________\n",
      "conv3_block2_1_relu (Activation (None, 28, 28, 128)  0           conv3_block2_1_bn[0][0]          \n",
      "__________________________________________________________________________________________________\n",
      "conv3_block2_2_conv (Conv2D)    (None, 28, 28, 128)  147584      conv3_block2_1_relu[0][0]        \n",
      "__________________________________________________________________________________________________\n",
      "conv3_block2_2_bn (BatchNormali (None, 28, 28, 128)  512         conv3_block2_2_conv[0][0]        \n",
      "__________________________________________________________________________________________________\n",
      "conv3_block2_2_relu (Activation (None, 28, 28, 128)  0           conv3_block2_2_bn[0][0]          \n",
      "__________________________________________________________________________________________________\n",
      "conv3_block2_3_conv (Conv2D)    (None, 28, 28, 512)  66048       conv3_block2_2_relu[0][0]        \n",
      "__________________________________________________________________________________________________\n",
      "conv3_block2_3_bn (BatchNormali (None, 28, 28, 512)  2048        conv3_block2_3_conv[0][0]        \n",
      "__________________________________________________________________________________________________\n",
      "conv3_block2_add (Add)          (None, 28, 28, 512)  0           conv3_block1_out[0][0]           \n",
      "                                                                 conv3_block2_3_bn[0][0]          \n",
      "__________________________________________________________________________________________________\n",
      "conv3_block2_out (Activation)   (None, 28, 28, 512)  0           conv3_block2_add[0][0]           \n",
      "__________________________________________________________________________________________________\n",
      "conv3_block3_1_conv (Conv2D)    (None, 28, 28, 128)  65664       conv3_block2_out[0][0]           \n",
      "__________________________________________________________________________________________________\n",
      "conv3_block3_1_bn (BatchNormali (None, 28, 28, 128)  512         conv3_block3_1_conv[0][0]        \n",
      "__________________________________________________________________________________________________\n",
      "conv3_block3_1_relu (Activation (None, 28, 28, 128)  0           conv3_block3_1_bn[0][0]          \n",
      "__________________________________________________________________________________________________\n",
      "conv3_block3_2_conv (Conv2D)    (None, 28, 28, 128)  147584      conv3_block3_1_relu[0][0]        \n",
      "__________________________________________________________________________________________________\n",
      "conv3_block3_2_bn (BatchNormali (None, 28, 28, 128)  512         conv3_block3_2_conv[0][0]        \n",
      "__________________________________________________________________________________________________\n",
      "conv3_block3_2_relu (Activation (None, 28, 28, 128)  0           conv3_block3_2_bn[0][0]          \n",
      "__________________________________________________________________________________________________\n",
      "conv3_block3_3_conv (Conv2D)    (None, 28, 28, 512)  66048       conv3_block3_2_relu[0][0]        \n",
      "__________________________________________________________________________________________________\n",
      "conv3_block3_3_bn (BatchNormali (None, 28, 28, 512)  2048        conv3_block3_3_conv[0][0]        \n",
      "__________________________________________________________________________________________________\n",
      "conv3_block3_add (Add)          (None, 28, 28, 512)  0           conv3_block2_out[0][0]           \n",
      "                                                                 conv3_block3_3_bn[0][0]          \n",
      "__________________________________________________________________________________________________\n",
      "conv3_block3_out (Activation)   (None, 28, 28, 512)  0           conv3_block3_add[0][0]           \n",
      "__________________________________________________________________________________________________\n",
      "conv3_block4_1_conv (Conv2D)    (None, 28, 28, 128)  65664       conv3_block3_out[0][0]           \n",
      "__________________________________________________________________________________________________\n",
      "conv3_block4_1_bn (BatchNormali (None, 28, 28, 128)  512         conv3_block4_1_conv[0][0]        \n",
      "__________________________________________________________________________________________________\n",
      "conv3_block4_1_relu (Activation (None, 28, 28, 128)  0           conv3_block4_1_bn[0][0]          \n",
      "__________________________________________________________________________________________________\n",
      "conv3_block4_2_conv (Conv2D)    (None, 28, 28, 128)  147584      conv3_block4_1_relu[0][0]        \n",
      "__________________________________________________________________________________________________\n",
      "conv3_block4_2_bn (BatchNormali (None, 28, 28, 128)  512         conv3_block4_2_conv[0][0]        \n",
      "__________________________________________________________________________________________________\n",
      "conv3_block4_2_relu (Activation (None, 28, 28, 128)  0           conv3_block4_2_bn[0][0]          \n",
      "__________________________________________________________________________________________________\n",
      "conv3_block4_3_conv (Conv2D)    (None, 28, 28, 512)  66048       conv3_block4_2_relu[0][0]        \n",
      "__________________________________________________________________________________________________\n",
      "conv3_block4_3_bn (BatchNormali (None, 28, 28, 512)  2048        conv3_block4_3_conv[0][0]        \n",
      "__________________________________________________________________________________________________\n",
      "conv3_block4_add (Add)          (None, 28, 28, 512)  0           conv3_block3_out[0][0]           \n",
      "                                                                 conv3_block4_3_bn[0][0]          \n",
      "__________________________________________________________________________________________________\n",
      "conv3_block4_out (Activation)   (None, 28, 28, 512)  0           conv3_block4_add[0][0]           \n",
      "__________________________________________________________________________________________________\n",
      "conv4_block1_1_conv (Conv2D)    (None, 14, 14, 256)  131328      conv3_block4_out[0][0]           \n",
      "__________________________________________________________________________________________________\n",
      "conv4_block1_1_bn (BatchNormali (None, 14, 14, 256)  1024        conv4_block1_1_conv[0][0]        \n",
      "__________________________________________________________________________________________________\n",
      "conv4_block1_1_relu (Activation (None, 14, 14, 256)  0           conv4_block1_1_bn[0][0]          \n",
      "__________________________________________________________________________________________________\n",
      "conv4_block1_2_conv (Conv2D)    (None, 14, 14, 256)  590080      conv4_block1_1_relu[0][0]        \n",
      "__________________________________________________________________________________________________\n",
      "conv4_block1_2_bn (BatchNormali (None, 14, 14, 256)  1024        conv4_block1_2_conv[0][0]        \n",
      "__________________________________________________________________________________________________\n",
      "conv4_block1_2_relu (Activation (None, 14, 14, 256)  0           conv4_block1_2_bn[0][0]          \n",
      "__________________________________________________________________________________________________\n",
      "conv4_block1_0_conv (Conv2D)    (None, 14, 14, 1024) 525312      conv3_block4_out[0][0]           \n",
      "__________________________________________________________________________________________________\n",
      "conv4_block1_3_conv (Conv2D)    (None, 14, 14, 1024) 263168      conv4_block1_2_relu[0][0]        \n",
      "__________________________________________________________________________________________________\n",
      "conv4_block1_0_bn (BatchNormali (None, 14, 14, 1024) 4096        conv4_block1_0_conv[0][0]        \n",
      "__________________________________________________________________________________________________\n",
      "conv4_block1_3_bn (BatchNormali (None, 14, 14, 1024) 4096        conv4_block1_3_conv[0][0]        \n",
      "__________________________________________________________________________________________________\n",
      "conv4_block1_add (Add)          (None, 14, 14, 1024) 0           conv4_block1_0_bn[0][0]          \n",
      "                                                                 conv4_block1_3_bn[0][0]          \n",
      "__________________________________________________________________________________________________\n",
      "conv4_block1_out (Activation)   (None, 14, 14, 1024) 0           conv4_block1_add[0][0]           \n",
      "__________________________________________________________________________________________________\n",
      "conv4_block2_1_conv (Conv2D)    (None, 14, 14, 256)  262400      conv4_block1_out[0][0]           \n",
      "__________________________________________________________________________________________________\n",
      "conv4_block2_1_bn (BatchNormali (None, 14, 14, 256)  1024        conv4_block2_1_conv[0][0]        \n",
      "__________________________________________________________________________________________________\n",
      "conv4_block2_1_relu (Activation (None, 14, 14, 256)  0           conv4_block2_1_bn[0][0]          \n",
      "__________________________________________________________________________________________________\n",
      "conv4_block2_2_conv (Conv2D)    (None, 14, 14, 256)  590080      conv4_block2_1_relu[0][0]        \n",
      "__________________________________________________________________________________________________\n",
      "conv4_block2_2_bn (BatchNormali (None, 14, 14, 256)  1024        conv4_block2_2_conv[0][0]        \n",
      "__________________________________________________________________________________________________\n",
      "conv4_block2_2_relu (Activation (None, 14, 14, 256)  0           conv4_block2_2_bn[0][0]          \n",
      "__________________________________________________________________________________________________\n",
      "conv4_block2_3_conv (Conv2D)    (None, 14, 14, 1024) 263168      conv4_block2_2_relu[0][0]        \n",
      "__________________________________________________________________________________________________\n",
      "conv4_block2_3_bn (BatchNormali (None, 14, 14, 1024) 4096        conv4_block2_3_conv[0][0]        \n",
      "__________________________________________________________________________________________________\n",
      "conv4_block2_add (Add)          (None, 14, 14, 1024) 0           conv4_block1_out[0][0]           \n",
      "                                                                 conv4_block2_3_bn[0][0]          \n",
      "__________________________________________________________________________________________________\n",
      "conv4_block2_out (Activation)   (None, 14, 14, 1024) 0           conv4_block2_add[0][0]           \n",
      "__________________________________________________________________________________________________\n",
      "conv4_block3_1_conv (Conv2D)    (None, 14, 14, 256)  262400      conv4_block2_out[0][0]           \n",
      "__________________________________________________________________________________________________\n",
      "conv4_block3_1_bn (BatchNormali (None, 14, 14, 256)  1024        conv4_block3_1_conv[0][0]        \n",
      "__________________________________________________________________________________________________\n",
      "conv4_block3_1_relu (Activation (None, 14, 14, 256)  0           conv4_block3_1_bn[0][0]          \n",
      "__________________________________________________________________________________________________\n",
      "conv4_block3_2_conv (Conv2D)    (None, 14, 14, 256)  590080      conv4_block3_1_relu[0][0]        \n",
      "__________________________________________________________________________________________________\n",
      "conv4_block3_2_bn (BatchNormali (None, 14, 14, 256)  1024        conv4_block3_2_conv[0][0]        \n",
      "__________________________________________________________________________________________________\n",
      "conv4_block3_2_relu (Activation (None, 14, 14, 256)  0           conv4_block3_2_bn[0][0]          \n",
      "__________________________________________________________________________________________________\n",
      "conv4_block3_3_conv (Conv2D)    (None, 14, 14, 1024) 263168      conv4_block3_2_relu[0][0]        \n",
      "__________________________________________________________________________________________________\n",
      "conv4_block3_3_bn (BatchNormali (None, 14, 14, 1024) 4096        conv4_block3_3_conv[0][0]        \n",
      "__________________________________________________________________________________________________\n",
      "conv4_block3_add (Add)          (None, 14, 14, 1024) 0           conv4_block2_out[0][0]           \n",
      "                                                                 conv4_block3_3_bn[0][0]          \n",
      "__________________________________________________________________________________________________\n",
      "conv4_block3_out (Activation)   (None, 14, 14, 1024) 0           conv4_block3_add[0][0]           \n",
      "__________________________________________________________________________________________________\n",
      "conv4_block4_1_conv (Conv2D)    (None, 14, 14, 256)  262400      conv4_block3_out[0][0]           \n",
      "__________________________________________________________________________________________________\n",
      "conv4_block4_1_bn (BatchNormali (None, 14, 14, 256)  1024        conv4_block4_1_conv[0][0]        \n",
      "__________________________________________________________________________________________________\n",
      "conv4_block4_1_relu (Activation (None, 14, 14, 256)  0           conv4_block4_1_bn[0][0]          \n",
      "__________________________________________________________________________________________________\n",
      "conv4_block4_2_conv (Conv2D)    (None, 14, 14, 256)  590080      conv4_block4_1_relu[0][0]        \n",
      "__________________________________________________________________________________________________\n",
      "conv4_block4_2_bn (BatchNormali (None, 14, 14, 256)  1024        conv4_block4_2_conv[0][0]        \n",
      "__________________________________________________________________________________________________\n",
      "conv4_block4_2_relu (Activation (None, 14, 14, 256)  0           conv4_block4_2_bn[0][0]          \n",
      "__________________________________________________________________________________________________\n",
      "conv4_block4_3_conv (Conv2D)    (None, 14, 14, 1024) 263168      conv4_block4_2_relu[0][0]        \n",
      "__________________________________________________________________________________________________\n",
      "conv4_block4_3_bn (BatchNormali (None, 14, 14, 1024) 4096        conv4_block4_3_conv[0][0]        \n",
      "__________________________________________________________________________________________________\n",
      "conv4_block4_add (Add)          (None, 14, 14, 1024) 0           conv4_block3_out[0][0]           \n",
      "                                                                 conv4_block4_3_bn[0][0]          \n",
      "__________________________________________________________________________________________________\n",
      "conv4_block4_out (Activation)   (None, 14, 14, 1024) 0           conv4_block4_add[0][0]           \n",
      "__________________________________________________________________________________________________\n",
      "conv4_block5_1_conv (Conv2D)    (None, 14, 14, 256)  262400      conv4_block4_out[0][0]           \n",
      "__________________________________________________________________________________________________\n",
      "conv4_block5_1_bn (BatchNormali (None, 14, 14, 256)  1024        conv4_block5_1_conv[0][0]        \n",
      "__________________________________________________________________________________________________\n",
      "conv4_block5_1_relu (Activation (None, 14, 14, 256)  0           conv4_block5_1_bn[0][0]          \n",
      "__________________________________________________________________________________________________\n",
      "conv4_block5_2_conv (Conv2D)    (None, 14, 14, 256)  590080      conv4_block5_1_relu[0][0]        \n",
      "__________________________________________________________________________________________________\n",
      "conv4_block5_2_bn (BatchNormali (None, 14, 14, 256)  1024        conv4_block5_2_conv[0][0]        \n",
      "__________________________________________________________________________________________________\n",
      "conv4_block5_2_relu (Activation (None, 14, 14, 256)  0           conv4_block5_2_bn[0][0]          \n",
      "__________________________________________________________________________________________________\n",
      "conv4_block5_3_conv (Conv2D)    (None, 14, 14, 1024) 263168      conv4_block5_2_relu[0][0]        \n",
      "__________________________________________________________________________________________________\n",
      "conv4_block5_3_bn (BatchNormali (None, 14, 14, 1024) 4096        conv4_block5_3_conv[0][0]        \n",
      "__________________________________________________________________________________________________\n",
      "conv4_block5_add (Add)          (None, 14, 14, 1024) 0           conv4_block4_out[0][0]           \n",
      "                                                                 conv4_block5_3_bn[0][0]          \n",
      "__________________________________________________________________________________________________\n",
      "conv4_block5_out (Activation)   (None, 14, 14, 1024) 0           conv4_block5_add[0][0]           \n",
      "__________________________________________________________________________________________________\n",
      "conv4_block6_1_conv (Conv2D)    (None, 14, 14, 256)  262400      conv4_block5_out[0][0]           \n",
      "__________________________________________________________________________________________________\n",
      "conv4_block6_1_bn (BatchNormali (None, 14, 14, 256)  1024        conv4_block6_1_conv[0][0]        \n",
      "__________________________________________________________________________________________________\n",
      "conv4_block6_1_relu (Activation (None, 14, 14, 256)  0           conv4_block6_1_bn[0][0]          \n",
      "__________________________________________________________________________________________________\n",
      "conv4_block6_2_conv (Conv2D)    (None, 14, 14, 256)  590080      conv4_block6_1_relu[0][0]        \n",
      "__________________________________________________________________________________________________\n",
      "conv4_block6_2_bn (BatchNormali (None, 14, 14, 256)  1024        conv4_block6_2_conv[0][0]        \n",
      "__________________________________________________________________________________________________\n",
      "conv4_block6_2_relu (Activation (None, 14, 14, 256)  0           conv4_block6_2_bn[0][0]          \n",
      "__________________________________________________________________________________________________\n",
      "conv4_block6_3_conv (Conv2D)    (None, 14, 14, 1024) 263168      conv4_block6_2_relu[0][0]        \n",
      "__________________________________________________________________________________________________\n",
      "conv4_block6_3_bn (BatchNormali (None, 14, 14, 1024) 4096        conv4_block6_3_conv[0][0]        \n",
      "__________________________________________________________________________________________________\n",
      "conv4_block6_add (Add)          (None, 14, 14, 1024) 0           conv4_block5_out[0][0]           \n",
      "                                                                 conv4_block6_3_bn[0][0]          \n",
      "__________________________________________________________________________________________________\n",
      "conv4_block6_out (Activation)   (None, 14, 14, 1024) 0           conv4_block6_add[0][0]           \n",
      "__________________________________________________________________________________________________\n",
      "conv5_block1_1_conv (Conv2D)    (None, 7, 7, 512)    524800      conv4_block6_out[0][0]           \n",
      "__________________________________________________________________________________________________\n",
      "conv5_block1_1_bn (BatchNormali (None, 7, 7, 512)    2048        conv5_block1_1_conv[0][0]        \n",
      "__________________________________________________________________________________________________\n",
      "conv5_block1_1_relu (Activation (None, 7, 7, 512)    0           conv5_block1_1_bn[0][0]          \n",
      "__________________________________________________________________________________________________\n",
      "conv5_block1_2_conv (Conv2D)    (None, 7, 7, 512)    2359808     conv5_block1_1_relu[0][0]        \n",
      "__________________________________________________________________________________________________\n",
      "conv5_block1_2_bn (BatchNormali (None, 7, 7, 512)    2048        conv5_block1_2_conv[0][0]        \n",
      "__________________________________________________________________________________________________\n",
      "conv5_block1_2_relu (Activation (None, 7, 7, 512)    0           conv5_block1_2_bn[0][0]          \n",
      "__________________________________________________________________________________________________\n",
      "conv5_block1_0_conv (Conv2D)    (None, 7, 7, 2048)   2099200     conv4_block6_out[0][0]           \n",
      "__________________________________________________________________________________________________\n",
      "conv5_block1_3_conv (Conv2D)    (None, 7, 7, 2048)   1050624     conv5_block1_2_relu[0][0]        \n",
      "__________________________________________________________________________________________________\n",
      "conv5_block1_0_bn (BatchNormali (None, 7, 7, 2048)   8192        conv5_block1_0_conv[0][0]        \n",
      "__________________________________________________________________________________________________\n",
      "conv5_block1_3_bn (BatchNormali (None, 7, 7, 2048)   8192        conv5_block1_3_conv[0][0]        \n",
      "__________________________________________________________________________________________________\n",
      "conv5_block1_add (Add)          (None, 7, 7, 2048)   0           conv5_block1_0_bn[0][0]          \n",
      "                                                                 conv5_block1_3_bn[0][0]          \n",
      "__________________________________________________________________________________________________\n",
      "conv5_block1_out (Activation)   (None, 7, 7, 2048)   0           conv5_block1_add[0][0]           \n",
      "__________________________________________________________________________________________________\n",
      "conv5_block2_1_conv (Conv2D)    (None, 7, 7, 512)    1049088     conv5_block1_out[0][0]           \n",
      "__________________________________________________________________________________________________\n",
      "conv5_block2_1_bn (BatchNormali (None, 7, 7, 512)    2048        conv5_block2_1_conv[0][0]        \n",
      "__________________________________________________________________________________________________\n",
      "conv5_block2_1_relu (Activation (None, 7, 7, 512)    0           conv5_block2_1_bn[0][0]          \n",
      "__________________________________________________________________________________________________\n",
      "conv5_block2_2_conv (Conv2D)    (None, 7, 7, 512)    2359808     conv5_block2_1_relu[0][0]        \n",
      "__________________________________________________________________________________________________\n",
      "conv5_block2_2_bn (BatchNormali (None, 7, 7, 512)    2048        conv5_block2_2_conv[0][0]        \n",
      "__________________________________________________________________________________________________\n",
      "conv5_block2_2_relu (Activation (None, 7, 7, 512)    0           conv5_block2_2_bn[0][0]          \n",
      "__________________________________________________________________________________________________\n",
      "conv5_block2_3_conv (Conv2D)    (None, 7, 7, 2048)   1050624     conv5_block2_2_relu[0][0]        \n",
      "__________________________________________________________________________________________________\n",
      "conv5_block2_3_bn (BatchNormali (None, 7, 7, 2048)   8192        conv5_block2_3_conv[0][0]        \n",
      "__________________________________________________________________________________________________\n",
      "conv5_block2_add (Add)          (None, 7, 7, 2048)   0           conv5_block1_out[0][0]           \n",
      "                                                                 conv5_block2_3_bn[0][0]          \n",
      "__________________________________________________________________________________________________\n",
      "conv5_block2_out (Activation)   (None, 7, 7, 2048)   0           conv5_block2_add[0][0]           \n",
      "__________________________________________________________________________________________________\n",
      "conv5_block3_1_conv (Conv2D)    (None, 7, 7, 512)    1049088     conv5_block2_out[0][0]           \n",
      "__________________________________________________________________________________________________\n",
      "conv5_block3_1_bn (BatchNormali (None, 7, 7, 512)    2048        conv5_block3_1_conv[0][0]        \n",
      "__________________________________________________________________________________________________\n",
      "conv5_block3_1_relu (Activation (None, 7, 7, 512)    0           conv5_block3_1_bn[0][0]          \n",
      "__________________________________________________________________________________________________\n",
      "conv5_block3_2_conv (Conv2D)    (None, 7, 7, 512)    2359808     conv5_block3_1_relu[0][0]        \n",
      "__________________________________________________________________________________________________\n",
      "conv5_block3_2_bn (BatchNormali (None, 7, 7, 512)    2048        conv5_block3_2_conv[0][0]        \n",
      "__________________________________________________________________________________________________\n",
      "conv5_block3_2_relu (Activation (None, 7, 7, 512)    0           conv5_block3_2_bn[0][0]          \n",
      "__________________________________________________________________________________________________\n",
      "conv5_block3_3_conv (Conv2D)    (None, 7, 7, 2048)   1050624     conv5_block3_2_relu[0][0]        \n",
      "__________________________________________________________________________________________________\n",
      "conv5_block3_3_bn (BatchNormali (None, 7, 7, 2048)   8192        conv5_block3_3_conv[0][0]        \n",
      "__________________________________________________________________________________________________\n",
      "conv5_block3_add (Add)          (None, 7, 7, 2048)   0           conv5_block2_out[0][0]           \n",
      "                                                                 conv5_block3_3_bn[0][0]          \n",
      "__________________________________________________________________________________________________\n",
      "conv5_block3_out (Activation)   (None, 7, 7, 2048)   0           conv5_block3_add[0][0]           \n",
      "__________________________________________________________________________________________________\n",
      "global_average_pooling2d (Globa (None, 2048)         0           conv5_block3_out[0][0]           \n",
      "__________________________________________________________________________________________________\n",
      "dense (Dense)                   (None, 1024)         2098176     global_average_pooling2d[0][0]   \n",
      "__________________________________________________________________________________________________\n",
      "dense_1 (Dense)                 (None, 3)            3075        dense[0][0]                      \n",
      "==================================================================================================\n",
      "Total params: 25,688,963\n",
      "Trainable params: 2,101,251\n",
      "Non-trainable params: 23,587,712\n",
      "__________________________________________________________________________________________________\n",
      "layer nums: 178\n"
     ]
    }
   ],
   "source": [
    "from tensorflow.keras.models import Model\n",
    "\n",
    "# 构造完新的FC层，加入custom层\n",
    "model = Model(inputs=base_model.input, outputs=prediction)\n",
    "# 可观察模型结构\n",
    "model.summary()\n",
    "# 获取模型的层数\n",
    "print(\"layer nums:\", len(model.layers))"
   ]
  },
  {
   "cell_type": "code",
   "execution_count": 49,
   "metadata": {},
   "outputs": [
    {
     "name": "stdout",
     "output_type": "stream",
     "text": [
      "layer.trainable: False\n",
      "layer.trainable: False\n",
      "layer.trainable: False\n",
      "layer.trainable: False\n",
      "layer.trainable: False\n",
      "layer.trainable: False\n",
      "layer.trainable: False\n",
      "layer.trainable: False\n",
      "layer.trainable: False\n",
      "layer.trainable: False\n",
      "layer.trainable: False\n",
      "layer.trainable: False\n",
      "layer.trainable: False\n",
      "layer.trainable: False\n",
      "layer.trainable: False\n",
      "layer.trainable: False\n",
      "layer.trainable: False\n",
      "layer.trainable: False\n",
      "layer.trainable: False\n",
      "layer.trainable: False\n",
      "layer.trainable: False\n",
      "layer.trainable: False\n",
      "layer.trainable: False\n",
      "layer.trainable: False\n",
      "layer.trainable: False\n",
      "layer.trainable: False\n",
      "layer.trainable: False\n",
      "layer.trainable: False\n",
      "layer.trainable: False\n",
      "layer.trainable: False\n",
      "layer.trainable: False\n",
      "layer.trainable: False\n",
      "layer.trainable: False\n",
      "layer.trainable: False\n",
      "layer.trainable: False\n",
      "layer.trainable: False\n",
      "layer.trainable: False\n",
      "layer.trainable: False\n",
      "layer.trainable: False\n",
      "layer.trainable: False\n",
      "layer.trainable: False\n",
      "layer.trainable: False\n",
      "layer.trainable: False\n",
      "layer.trainable: False\n",
      "layer.trainable: False\n",
      "layer.trainable: False\n",
      "layer.trainable: False\n",
      "layer.trainable: False\n",
      "layer.trainable: False\n",
      "layer.trainable: False\n",
      "layer.trainable: False\n",
      "layer.trainable: False\n",
      "layer.trainable: False\n",
      "layer.trainable: False\n",
      "layer.trainable: False\n",
      "layer.trainable: False\n",
      "layer.trainable: False\n",
      "layer.trainable: False\n",
      "layer.trainable: False\n",
      "layer.trainable: False\n",
      "layer.trainable: False\n",
      "layer.trainable: False\n",
      "layer.trainable: False\n",
      "layer.trainable: False\n",
      "layer.trainable: False\n",
      "layer.trainable: False\n",
      "layer.trainable: False\n",
      "layer.trainable: False\n",
      "layer.trainable: False\n",
      "layer.trainable: False\n",
      "layer.trainable: False\n",
      "layer.trainable: False\n",
      "layer.trainable: False\n",
      "layer.trainable: False\n",
      "layer.trainable: False\n",
      "layer.trainable: False\n",
      "layer.trainable: False\n",
      "layer.trainable: False\n",
      "layer.trainable: False\n",
      "layer.trainable: False\n",
      "layer.trainable: False\n",
      "layer.trainable: False\n",
      "layer.trainable: False\n",
      "layer.trainable: False\n",
      "layer.trainable: False\n",
      "layer.trainable: False\n",
      "layer.trainable: False\n",
      "layer.trainable: False\n",
      "layer.trainable: False\n",
      "layer.trainable: False\n",
      "layer.trainable: False\n",
      "layer.trainable: False\n",
      "layer.trainable: False\n",
      "layer.trainable: False\n",
      "layer.trainable: False\n",
      "layer.trainable: False\n",
      "layer.trainable: False\n",
      "layer.trainable: False\n",
      "layer.trainable: False\n",
      "layer.trainable: False\n",
      "layer.trainable: False\n",
      "layer.trainable: False\n",
      "layer.trainable: False\n",
      "layer.trainable: False\n",
      "layer.trainable: False\n",
      "layer.trainable: False\n",
      "layer.trainable: False\n",
      "layer.trainable: False\n",
      "layer.trainable: False\n",
      "layer.trainable: False\n",
      "layer.trainable: False\n",
      "layer.trainable: False\n",
      "layer.trainable: False\n",
      "layer.trainable: False\n",
      "layer.trainable: False\n",
      "layer.trainable: False\n",
      "layer.trainable: False\n",
      "layer.trainable: False\n",
      "layer.trainable: False\n",
      "layer.trainable: False\n",
      "layer.trainable: False\n",
      "layer.trainable: False\n",
      "layer.trainable: False\n",
      "layer.trainable: False\n",
      "layer.trainable: False\n",
      "layer.trainable: False\n",
      "layer.trainable: False\n",
      "layer.trainable: False\n",
      "layer.trainable: False\n",
      "layer.trainable: False\n",
      "layer.trainable: False\n",
      "layer.trainable: False\n",
      "layer.trainable: False\n",
      "layer.trainable: False\n",
      "layer.trainable: False\n",
      "layer.trainable: False\n",
      "layer.trainable: False\n",
      "layer.trainable: False\n",
      "layer.trainable: False\n",
      "layer.trainable: False\n",
      "layer.trainable: False\n",
      "layer.trainable: False\n",
      "layer.trainable: False\n",
      "layer.trainable: False\n",
      "layer.trainable: False\n",
      "layer.trainable: False\n",
      "layer.trainable: False\n",
      "layer.trainable: False\n",
      "layer.trainable: False\n",
      "layer.trainable: False\n",
      "layer.trainable: False\n",
      "layer.trainable: False\n",
      "layer.trainable: False\n",
      "layer.trainable: False\n",
      "layer.trainable: False\n",
      "layer.trainable: False\n",
      "layer.trainable: False\n",
      "layer.trainable: False\n",
      "layer.trainable: False\n",
      "layer.trainable: False\n",
      "layer.trainable: True\n",
      "layer.trainable: True\n",
      "layer.trainable: True\n",
      "layer.trainable: True\n",
      "layer.trainable: True\n",
      "layer.trainable: True\n",
      "layer.trainable: True\n",
      "layer.trainable: True\n",
      "layer.trainable: True\n",
      "layer.trainable: True\n",
      "layer.trainable: True\n",
      "layer.trainable: True\n",
      "layer.trainable: True\n",
      "layer.trainable: True\n",
      "layer.trainable: True\n",
      "layer.trainable: True\n",
      "layer.trainable: True\n",
      "layer.trainable: True\n"
     ]
    }
   ],
   "source": [
    "\n",
    "\n",
    "# 除了FC层，靠近FC层的一部分卷积层可参与参数训练，\n",
    "# 一般来说，模型结构已经标明一个卷积块包含的层数，\n",
    "# 在这里我们选择FREEZE_LAYERS为17，表示最后一个卷积块和FC层要参与参数训练\n",
    "\n",
    "\n",
    "\n",
    "for layer in model.layers[:FREEZE_LAYERS]:\n",
    "    layer.trainable = False\n",
    "for layer in model.layers[FREEZE_LAYERS:]:\n",
    "    layer.trainable = True\n",
    "for layer in model.layers:\n",
    "    print(\"layer.trainable:\", layer.trainable)"
   ]
  },
  {
   "cell_type": "code",
   "execution_count": 50,
   "metadata": {},
   "outputs": [],
   "source": [
    "from tensorflow.keras.optimizers import SGD\n",
    "model.compile(optimizer=SGD(lr=0.0001, momentum=0.9), loss='categorical_crossentropy', metrics=['accuracy'])"
   ]
  },
  {
   "cell_type": "code",
   "execution_count": 51,
   "metadata": {},
   "outputs": [],
   "source": [
    "# # 给出训练图片的生成器， 其中classes定义后，可让model按照这个顺序进行识别\n",
    "# train_datagen = ImageDataGenerator()\n",
    "# train_generator = train_datagen.flow_from_directory(directory=TRAIN_PATH,\n",
    "#                                                     target_size=(IMAGE_SIZE, IMAGE_SIZE), classes=label_names)\n",
    "# test_datagen = ImageDataGenerator()\n",
    "# test_generator = test_datagen.flow_from_directory(directory=TEST_PATH,\n",
    "#                                                   target_size=(IMAGE_SIZE, IMAGE_SIZE), classes=label_names)"
   ]
  },
  {
   "cell_type": "code",
   "execution_count": 52,
   "metadata": {},
   "outputs": [],
   "source": [
    "batch_size = 4\n",
    "epochs = 20\n",
    "learing_rate = 1e-3"
   ]
  },
  {
   "cell_type": "code",
   "execution_count": 53,
   "metadata": {},
   "outputs": [],
   "source": [
    "def scheduler(epoch):\n",
    "  if epoch < 10:\n",
    "    return 0.001\n",
    "  else:\n",
    "    return 0.001 * tf.math.exp(0.1 * (10 - epoch))"
   ]
  },
  {
   "cell_type": "code",
   "execution_count": 54,
   "metadata": {},
   "outputs": [],
   "source": [
    "callbacks = [\n",
    "# 当验证集上的损失“val_loss”连续两个训练回合（epoch）都没有变化，则提前结束训练\n",
    "tf.keras.callbacks.EarlyStopping(patience=4, monitor='val_loss'),\n",
    "# 使用TensorBoard保存训练的记录，保存到“./logs”目录中\n",
    "tf.keras.callbacks.TensorBoard(log_dir='./logs'),\n",
    "tf.keras.callbacks.LearningRateScheduler(scheduler)]"
   ]
  },
  {
   "cell_type": "code",
   "execution_count": 55,
   "metadata": {},
   "outputs": [],
   "source": [
    "from keras.preprocessing.image import ImageDataGenerator\n",
    "datagen = ImageDataGenerator(featurewise_center=True,\n",
    "                             featurewise_std_normalization=True,\n",
    "                             rotation_range=15,\n",
    "                             width_shift_range=0.2,\n",
    "                             height_shift_range=0.2,\n",
    "                             horizontal_flip=True)\n",
    "datagen.fit(x_train)"
   ]
  },
  {
   "cell_type": "code",
   "execution_count": 58,
   "metadata": {},
   "outputs": [
    {
     "ename": "ValueError",
     "evalue": "Failed to find data adapter that can handle input: (<class 'list'> containing values of types {\"<class 'numpy.ndarray'>\"}), (<class 'list'> containing values of types {\"<class 'int'>\"})",
     "output_type": "error",
     "traceback": [
      "\u001b[0;31m---------------------------------------------------------------------------\u001b[0m",
      "\u001b[0;31mValueError\u001b[0m                                Traceback (most recent call last)",
      "\u001b[0;32m<ipython-input-58-7b9eeb53e068>\u001b[0m in \u001b[0;36m<module>\u001b[0;34m\u001b[0m\n\u001b[1;32m      2\u001b[0m                     \u001b[0mepochs\u001b[0m\u001b[0;34m=\u001b[0m\u001b[0mepochs\u001b[0m\u001b[0;34m,\u001b[0m \u001b[0mverbose\u001b[0m\u001b[0;34m=\u001b[0m\u001b[0;36m1\u001b[0m\u001b[0;34m,\u001b[0m\u001b[0;34m\u001b[0m\u001b[0;34m\u001b[0m\u001b[0m\n\u001b[1;32m      3\u001b[0m                     \u001b[0mvalidation_data\u001b[0m \u001b[0;34m=\u001b[0m \u001b[0;34m(\u001b[0m\u001b[0mx_val\u001b[0m\u001b[0;34m,\u001b[0m \u001b[0my_val\u001b[0m\u001b[0;34m)\u001b[0m\u001b[0;34m,\u001b[0m\u001b[0;34m\u001b[0m\u001b[0;34m\u001b[0m\u001b[0m\n\u001b[0;32m----> 4\u001b[0;31m                    callbacks=callbacks)\n\u001b[0m",
      "\u001b[0;32m/usr/local/lib/python3.7/site-packages/tensorflow_core/python/keras/engine/training.py\u001b[0m in \u001b[0;36mfit\u001b[0;34m(self, x, y, batch_size, epochs, verbose, callbacks, validation_split, validation_data, shuffle, class_weight, sample_weight, initial_epoch, steps_per_epoch, validation_steps, validation_freq, max_queue_size, workers, use_multiprocessing, **kwargs)\u001b[0m\n\u001b[1;32m    817\u001b[0m         \u001b[0mmax_queue_size\u001b[0m\u001b[0;34m=\u001b[0m\u001b[0mmax_queue_size\u001b[0m\u001b[0;34m,\u001b[0m\u001b[0;34m\u001b[0m\u001b[0;34m\u001b[0m\u001b[0m\n\u001b[1;32m    818\u001b[0m         \u001b[0mworkers\u001b[0m\u001b[0;34m=\u001b[0m\u001b[0mworkers\u001b[0m\u001b[0;34m,\u001b[0m\u001b[0;34m\u001b[0m\u001b[0;34m\u001b[0m\u001b[0m\n\u001b[0;32m--> 819\u001b[0;31m         use_multiprocessing=use_multiprocessing)\n\u001b[0m\u001b[1;32m    820\u001b[0m \u001b[0;34m\u001b[0m\u001b[0m\n\u001b[1;32m    821\u001b[0m   def evaluate(self,\n",
      "\u001b[0;32m/usr/local/lib/python3.7/site-packages/tensorflow_core/python/keras/engine/training_v2.py\u001b[0m in \u001b[0;36mfit\u001b[0;34m(self, model, x, y, batch_size, epochs, verbose, callbacks, validation_split, validation_data, shuffle, class_weight, sample_weight, initial_epoch, steps_per_epoch, validation_steps, validation_freq, max_queue_size, workers, use_multiprocessing, **kwargs)\u001b[0m\n\u001b[1;32m    233\u001b[0m           \u001b[0mmax_queue_size\u001b[0m\u001b[0;34m=\u001b[0m\u001b[0mmax_queue_size\u001b[0m\u001b[0;34m,\u001b[0m\u001b[0;34m\u001b[0m\u001b[0;34m\u001b[0m\u001b[0m\n\u001b[1;32m    234\u001b[0m           \u001b[0mworkers\u001b[0m\u001b[0;34m=\u001b[0m\u001b[0mworkers\u001b[0m\u001b[0;34m,\u001b[0m\u001b[0;34m\u001b[0m\u001b[0;34m\u001b[0m\u001b[0m\n\u001b[0;32m--> 235\u001b[0;31m           use_multiprocessing=use_multiprocessing)\n\u001b[0m\u001b[1;32m    236\u001b[0m \u001b[0;34m\u001b[0m\u001b[0m\n\u001b[1;32m    237\u001b[0m       \u001b[0mtotal_samples\u001b[0m \u001b[0;34m=\u001b[0m \u001b[0m_get_total_number_of_samples\u001b[0m\u001b[0;34m(\u001b[0m\u001b[0mtraining_data_adapter\u001b[0m\u001b[0;34m)\u001b[0m\u001b[0;34m\u001b[0m\u001b[0;34m\u001b[0m\u001b[0m\n",
      "\u001b[0;32m/usr/local/lib/python3.7/site-packages/tensorflow_core/python/keras/engine/training_v2.py\u001b[0m in \u001b[0;36m_process_training_inputs\u001b[0;34m(model, x, y, batch_size, epochs, sample_weights, class_weights, steps_per_epoch, validation_split, validation_data, validation_steps, shuffle, distribution_strategy, max_queue_size, workers, use_multiprocessing)\u001b[0m\n\u001b[1;32m    531\u001b[0m                      'at same time.')\n\u001b[1;32m    532\u001b[0m \u001b[0;34m\u001b[0m\u001b[0m\n\u001b[0;32m--> 533\u001b[0;31m   \u001b[0madapter_cls\u001b[0m \u001b[0;34m=\u001b[0m \u001b[0mdata_adapter\u001b[0m\u001b[0;34m.\u001b[0m\u001b[0mselect_data_adapter\u001b[0m\u001b[0;34m(\u001b[0m\u001b[0mx\u001b[0m\u001b[0;34m,\u001b[0m \u001b[0my\u001b[0m\u001b[0;34m)\u001b[0m\u001b[0;34m\u001b[0m\u001b[0;34m\u001b[0m\u001b[0m\n\u001b[0m\u001b[1;32m    534\u001b[0m \u001b[0;34m\u001b[0m\u001b[0m\n\u001b[1;32m    535\u001b[0m   \u001b[0;31m# Handle validation_split, we want to split the data and get the training\u001b[0m\u001b[0;34m\u001b[0m\u001b[0;34m\u001b[0m\u001b[0;34m\u001b[0m\u001b[0m\n",
      "\u001b[0;32m/usr/local/lib/python3.7/site-packages/tensorflow_core/python/keras/engine/data_adapter.py\u001b[0m in \u001b[0;36mselect_data_adapter\u001b[0;34m(x, y)\u001b[0m\n\u001b[1;32m    996\u001b[0m         \u001b[0;34m\"Failed to find data adapter that can handle \"\u001b[0m\u001b[0;34m\u001b[0m\u001b[0;34m\u001b[0m\u001b[0m\n\u001b[1;32m    997\u001b[0m         \"input: {}, {}\".format(\n\u001b[0;32m--> 998\u001b[0;31m             _type_name(x), _type_name(y)))\n\u001b[0m\u001b[1;32m    999\u001b[0m   \u001b[0;32melif\u001b[0m \u001b[0mlen\u001b[0m\u001b[0;34m(\u001b[0m\u001b[0madapter_cls\u001b[0m\u001b[0;34m)\u001b[0m \u001b[0;34m>\u001b[0m \u001b[0;36m1\u001b[0m\u001b[0;34m:\u001b[0m\u001b[0;34m\u001b[0m\u001b[0;34m\u001b[0m\u001b[0m\n\u001b[1;32m   1000\u001b[0m     raise RuntimeError(\n",
      "\u001b[0;31mValueError\u001b[0m: Failed to find data adapter that can handle input: (<class 'list'> containing values of types {\"<class 'numpy.ndarray'>\"}), (<class 'list'> containing values of types {\"<class 'int'>\"})"
     ]
    }
   ],
   "source": [
    "history = model.fit(x_train, y_train, batch_size=batch_size,\n",
    "                    epochs=epochs, verbose=1,\n",
    "                    validation_data = (x_val, y_val),\n",
    "                   callbacks=callbacks)"
   ]
  },
  {
   "cell_type": "code",
   "execution_count": 57,
   "metadata": {},
   "outputs": [
    {
     "ename": "ValueError",
     "evalue": "`x` (images tensor) and `y` (labels) should have the same length. Found: x.shape = (224, 224, 3), y.shape = (12000,)",
     "output_type": "error",
     "traceback": [
      "\u001b[0;31m---------------------------------------------------------------------------\u001b[0m",
      "\u001b[0;31mValueError\u001b[0m                                Traceback (most recent call last)",
      "\u001b[0;32m<ipython-input-57-92fb9b3728f1>\u001b[0m in \u001b[0;36m<module>\u001b[0;34m\u001b[0m\n\u001b[0;32m----> 1\u001b[0;31m history = model.fit(datagen.flow(x_train, y_train, batch_size=batch_size),\n\u001b[0m\u001b[1;32m      2\u001b[0m                               \u001b[0msteps_per_epoch\u001b[0m\u001b[0;34m=\u001b[0m\u001b[0mlen\u001b[0m\u001b[0;34m(\u001b[0m\u001b[0mx_train\u001b[0m\u001b[0;34m)\u001b[0m \u001b[0;34m//\u001b[0m \u001b[0mbatch_size\u001b[0m\u001b[0;34m,\u001b[0m\u001b[0;34m\u001b[0m\u001b[0;34m\u001b[0m\u001b[0m\n\u001b[1;32m      3\u001b[0m                               \u001b[0mepochs\u001b[0m \u001b[0;34m=\u001b[0m \u001b[0mepochs\u001b[0m\u001b[0;34m,\u001b[0m \u001b[0mverbose\u001b[0m\u001b[0;34m=\u001b[0m\u001b[0;36m1\u001b[0m\u001b[0;34m,\u001b[0m\u001b[0;34m\u001b[0m\u001b[0;34m\u001b[0m\u001b[0m\n\u001b[1;32m      4\u001b[0m                               \u001b[0mvalidation_data\u001b[0m \u001b[0;34m=\u001b[0m \u001b[0;34m(\u001b[0m\u001b[0mx_val\u001b[0m\u001b[0;34m,\u001b[0m \u001b[0my_val\u001b[0m\u001b[0;34m)\u001b[0m\u001b[0;34m,\u001b[0m\u001b[0;34m\u001b[0m\u001b[0;34m\u001b[0m\u001b[0m\n\u001b[1;32m      5\u001b[0m                                callbacks=callbacks)\n",
      "\u001b[0;32m/usr/local/lib/python3.7/site-packages/keras/preprocessing/image.py\u001b[0m in \u001b[0;36mflow\u001b[0;34m(self, x, y, batch_size, shuffle, sample_weight, seed, save_to_dir, save_prefix, save_format, subset)\u001b[0m\n\u001b[1;32m    357\u001b[0m             \u001b[0msave_prefix\u001b[0m\u001b[0;34m=\u001b[0m\u001b[0msave_prefix\u001b[0m\u001b[0;34m,\u001b[0m\u001b[0;34m\u001b[0m\u001b[0;34m\u001b[0m\u001b[0m\n\u001b[1;32m    358\u001b[0m             \u001b[0msave_format\u001b[0m\u001b[0;34m=\u001b[0m\u001b[0msave_format\u001b[0m\u001b[0;34m,\u001b[0m\u001b[0;34m\u001b[0m\u001b[0;34m\u001b[0m\u001b[0m\n\u001b[0;32m--> 359\u001b[0;31m             \u001b[0msubset\u001b[0m\u001b[0;34m=\u001b[0m\u001b[0msubset\u001b[0m\u001b[0;34m\u001b[0m\u001b[0;34m\u001b[0m\u001b[0m\n\u001b[0m\u001b[1;32m    360\u001b[0m         )\n\u001b[1;32m    361\u001b[0m \u001b[0;34m\u001b[0m\u001b[0m\n",
      "\u001b[0;32m/usr/local/lib/python3.7/site-packages/keras/preprocessing/image.py\u001b[0m in \u001b[0;36m__init__\u001b[0;34m(self, x, y, image_data_generator, batch_size, shuffle, sample_weight, seed, data_format, save_to_dir, save_prefix, save_format, subset, dtype)\u001b[0m\n\u001b[1;32m    180\u001b[0m             \u001b[0msave_format\u001b[0m\u001b[0;34m=\u001b[0m\u001b[0msave_format\u001b[0m\u001b[0;34m,\u001b[0m\u001b[0;34m\u001b[0m\u001b[0;34m\u001b[0m\u001b[0m\n\u001b[1;32m    181\u001b[0m             \u001b[0msubset\u001b[0m\u001b[0;34m=\u001b[0m\u001b[0msubset\u001b[0m\u001b[0;34m,\u001b[0m\u001b[0;34m\u001b[0m\u001b[0;34m\u001b[0m\u001b[0m\n\u001b[0;32m--> 182\u001b[0;31m             dtype=dtype)\n\u001b[0m\u001b[1;32m    183\u001b[0m \u001b[0;34m\u001b[0m\u001b[0m\n\u001b[1;32m    184\u001b[0m \u001b[0;34m\u001b[0m\u001b[0m\n",
      "\u001b[0;32m~/Library/Python/3.7/lib/python/site-packages/keras_preprocessing/image/numpy_array_iterator.py\u001b[0m in \u001b[0;36m__init__\u001b[0;34m(self, x, y, image_data_generator, batch_size, shuffle, sample_weight, seed, data_format, save_to_dir, save_prefix, save_format, subset, dtype)\u001b[0m\n\u001b[1;32m     78\u001b[0m                              \u001b[0;34m'should have the same length. '\u001b[0m\u001b[0;34m\u001b[0m\u001b[0;34m\u001b[0m\u001b[0m\n\u001b[1;32m     79\u001b[0m                              \u001b[0;34m'Found: x.shape = %s, y.shape = %s'\u001b[0m \u001b[0;34m%\u001b[0m\u001b[0;34m\u001b[0m\u001b[0;34m\u001b[0m\u001b[0m\n\u001b[0;32m---> 80\u001b[0;31m                              (np.asarray(x).shape, np.asarray(y).shape))\n\u001b[0m\u001b[1;32m     81\u001b[0m         \u001b[0;32mif\u001b[0m \u001b[0msample_weight\u001b[0m \u001b[0;32mis\u001b[0m \u001b[0;32mnot\u001b[0m \u001b[0;32mNone\u001b[0m \u001b[0;32mand\u001b[0m \u001b[0mlen\u001b[0m\u001b[0;34m(\u001b[0m\u001b[0mx\u001b[0m\u001b[0;34m)\u001b[0m \u001b[0;34m!=\u001b[0m \u001b[0mlen\u001b[0m\u001b[0;34m(\u001b[0m\u001b[0msample_weight\u001b[0m\u001b[0;34m)\u001b[0m\u001b[0;34m:\u001b[0m\u001b[0;34m\u001b[0m\u001b[0;34m\u001b[0m\u001b[0m\n\u001b[1;32m     82\u001b[0m             raise ValueError('`x` (images tensor) and `sample_weight` '\n",
      "\u001b[0;31mValueError\u001b[0m: `x` (images tensor) and `y` (labels) should have the same length. Found: x.shape = (224, 224, 3), y.shape = (12000,)"
     ]
    }
   ],
   "source": [
    "# history = model.fit(datagen.flow(x_train, y_train, batch_size=batch_size),\n",
    "#                               steps_per_epoch=len(x_train) // batch_size,\n",
    "#                               epochs = epochs, verbose=1,\n",
    "#                               validation_data = (x_val, y_val),\n",
    "#                                callbacks=callbacks)"
   ]
  },
  {
   "cell_type": "code",
   "execution_count": 159,
   "metadata": {},
   "outputs": [
    {
     "name": "stdout",
     "output_type": "stream",
     "text": [
      "3000/3000 [==============================] - 97s 32ms/sample - loss: 1.1352 - accuracy: 0.3263\n",
      "loss: 1.1352094589869182\n",
      "accuracy: 0.32633334398269653\n"
     ]
    }
   ],
   "source": [
    "result = model.evaluate(x_val, y_val)\n",
    "print(\"loss: {}\".format(result[0]))\n",
    "print(\"accuracy: {}\".format(result[1]))"
   ]
  },
  {
   "cell_type": "code",
   "execution_count": null,
   "metadata": {},
   "outputs": [],
   "source": []
  },
  {
   "cell_type": "code",
   "execution_count": null,
   "metadata": {},
   "outputs": [],
   "source": []
  },
  {
   "cell_type": "code",
   "execution_count": null,
   "metadata": {},
   "outputs": [],
   "source": []
  },
  {
   "cell_type": "code",
   "execution_count": null,
   "metadata": {},
   "outputs": [],
   "source": []
  },
  {
   "cell_type": "code",
   "execution_count": null,
   "metadata": {},
   "outputs": [],
   "source": []
  },
  {
   "cell_type": "code",
   "execution_count": null,
   "metadata": {},
   "outputs": [],
   "source": []
  },
  {
   "cell_type": "code",
   "execution_count": null,
   "metadata": {},
   "outputs": [],
   "source": []
  },
  {
   "cell_type": "code",
   "execution_count": null,
   "metadata": {},
   "outputs": [],
   "source": []
  },
  {
   "cell_type": "code",
   "execution_count": null,
   "metadata": {},
   "outputs": [],
   "source": []
  },
  {
   "cell_type": "code",
   "execution_count": null,
   "metadata": {},
   "outputs": [],
   "source": []
  },
  {
   "cell_type": "code",
   "execution_count": null,
   "metadata": {},
   "outputs": [],
   "source": []
  },
  {
   "cell_type": "code",
   "execution_count": null,
   "metadata": {},
   "outputs": [],
   "source": []
  },
  {
   "cell_type": "code",
   "execution_count": null,
   "metadata": {},
   "outputs": [],
   "source": []
  },
  {
   "cell_type": "code",
   "execution_count": null,
   "metadata": {},
   "outputs": [],
   "source": []
  },
  {
   "cell_type": "code",
   "execution_count": null,
   "metadata": {},
   "outputs": [],
   "source": []
  }
 ],
 "metadata": {
  "colab": {
   "collapsed_sections": [],
   "name": "images.ipynb",
   "private_outputs": true,
   "provenance": [],
   "toc_visible": true,
   "version": "0.3.2"
  },
  "kernelspec": {
   "display_name": "Python 3.7.6 64-bit",
   "language": "python",
   "name": "python37664bitc3aff01e4887446cafe7684cf3736cfd"
  },
  "language_info": {
   "codemirror_mode": {
    "name": "ipython",
    "version": 3
   },
   "file_extension": ".py",
   "mimetype": "text/x-python",
   "name": "python",
   "nbconvert_exporter": "python",
   "pygments_lexer": "ipython3",
   "version": "3.7.6-final"
  }
 },
 "nbformat": 4,
 "nbformat_minor": 1
}