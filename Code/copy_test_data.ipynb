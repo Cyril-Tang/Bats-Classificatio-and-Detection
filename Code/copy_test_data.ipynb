{
 "cells": [
  {
   "cell_type": "code",
   "execution_count": 1,
   "metadata": {},
   "outputs": [
    {
     "name": "stdout",
     "output_type": "stream",
     "text": [
      "<module 'posixpath' from '/usr/local/Cellar/python/3.7.6_1/Frameworks/Python.framework/Versions/3.7/lib/python3.7/posixpath.py'>\n"
     ]
    }
   ],
   "source": [
    "import os\n",
    "import shutil\n",
    "from tqdm import tqdm\n",
    "print(os.path)"
   ]
  },
  {
   "cell_type": "code",
   "execution_count": 2,
   "metadata": {},
   "outputs": [
    {
     "ename": "FileNotFoundError",
     "evalue": "[Errno 2] No such file or directory: 'Data/train_image/down/'",
     "output_type": "error",
     "traceback": [
      "\u001b[0;31m---------------------------------------------------------------------------\u001b[0m",
      "\u001b[0;31mFileNotFoundError\u001b[0m                         Traceback (most recent call last)",
      "\u001b[0;32m<ipython-input-2-16c27ec1c8f5>\u001b[0m in \u001b[0;36m<module>\u001b[0;34m\u001b[0m\n\u001b[1;32m      2\u001b[0m \u001b[0maim_path\u001b[0m \u001b[0;34m=\u001b[0m \u001b[0;34m\"test_Data/train_image/down/\"\u001b[0m\u001b[0;34m\u001b[0m\u001b[0;34m\u001b[0m\u001b[0m\n\u001b[1;32m      3\u001b[0m \u001b[0;34m\u001b[0m\u001b[0m\n\u001b[0;32m----> 4\u001b[0;31m \u001b[0mf_list\u001b[0m \u001b[0;34m=\u001b[0m \u001b[0mos\u001b[0m\u001b[0;34m.\u001b[0m\u001b[0mlistdir\u001b[0m\u001b[0;34m(\u001b[0m\u001b[0;34m\"Data/train_image/down/\"\u001b[0m\u001b[0;34m)\u001b[0m\u001b[0;34m\u001b[0m\u001b[0;34m\u001b[0m\u001b[0m\n\u001b[0m",
      "\u001b[0;31mFileNotFoundError\u001b[0m: [Errno 2] No such file or directory: 'Data/train_image/down/'"
     ]
    }
   ],
   "source": [
    "origin_path = \"Data/train_image/down/\"\n",
    "aim_path = \"test_Data/train_image/down/\"\n",
    "\n",
    "f_list = os.listdir(\"Data/train_image/down/\")"
   ]
  },
  {
   "cell_type": "code",
   "execution_count": 3,
   "metadata": {},
   "outputs": [],
   "source": [
    "\n",
    "# n = 0\n",
    "# for file in tqdm(f_list):\n",
    "#     n+=1\n",
    "# #     print(file)\n",
    "#     shutil.copyfile(origin_path+file, aim_path+file)\n",
    "#     if n == 2000:\n",
    "#         break"
   ]
  },
  {
   "cell_type": "code",
   "execution_count": 6,
   "metadata": {},
   "outputs": [
    {
     "name": "stderr",
     "output_type": "stream",
     "text": [
      "  1%|          | 4995/905506 [00:03<11:45, 1276.97it/s]\n",
      "  1%|          | 4894/888011 [00:03<11:51, 1241.98it/s]\n",
      "  1%|          | 4963/826394 [00:03<10:49, 1265.57it/s]\n"
     ]
    }
   ],
   "source": [
    "all_folder = os.listdir(\"Data/train_img/\")\n",
    "for folder in all_folder:\n",
    "    if folder != '.DS_Store':\n",
    "        origin_path = \"Data/train_img/\"+folder+\"/\"\n",
    "        aim_path = \"test_Data/train_img/\"+folder+\"/\"\n",
    "        f_list = os.listdir(origin_path)\n",
    "        n = 0\n",
    "        for file in tqdm(f_list):\n",
    "            n+=1\n",
    "        #     print(file)\n",
    "            shutil.copyfile(origin_path+file, aim_path+file)\n",
    "            if n == 5000:\n",
    "                break"
   ]
  },
  {
   "cell_type": "code",
   "execution_count": null,
   "metadata": {},
   "outputs": [],
   "source": []
  },
  {
   "cell_type": "code",
   "execution_count": null,
   "metadata": {},
   "outputs": [],
   "source": []
  }
 ],
 "metadata": {
  "kernelspec": {
   "display_name": "Python 3.7.6 64-bit",
   "language": "python",
   "name": "python37664bitc3aff01e4887446cafe7684cf3736cfd"
  },
  "language_info": {
   "codemirror_mode": {
    "name": "ipython",
    "version": 3
   },
   "file_extension": ".py",
   "mimetype": "text/x-python",
   "name": "python",
   "nbconvert_exporter": "python",
   "pygments_lexer": "ipython3",
   "version": "3.7.6"
  }
 },
 "nbformat": 4,
 "nbformat_minor": 2
}
