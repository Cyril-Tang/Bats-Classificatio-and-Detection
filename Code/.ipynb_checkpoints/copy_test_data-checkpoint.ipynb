{
 "cells": [
  {
   "cell_type": "code",
   "execution_count": 8,
   "metadata": {},
   "outputs": [
    {
     "name": "stdout",
     "output_type": "stream",
     "text": [
      "<module 'posixpath' from '/usr/local/Cellar/python/3.7.6_1/Frameworks/Python.framework/Versions/3.7/lib/python3.7/posixpath.py'>\n"
     ]
    }
   ],
   "source": [
    "import os\n",
    "import shutil\n",
    "from tqdm import tqdm\n",
    "print(os.path)"
   ]
  },
  {
   "cell_type": "code",
   "execution_count": 9,
   "metadata": {},
   "outputs": [],
   "source": [
    "origin_path = \"Data/train_image/down/\"\n",
    "aim_path = \"test_Data/train_image/down/\"\n",
    "\n",
    "f_list = os.listdir(\"Data/train_image/down/\")"
   ]
  },
  {
   "cell_type": "code",
   "execution_count": 10,
   "metadata": {},
   "outputs": [],
   "source": [
    "\n",
    "# n = 0\n",
    "# for file in tqdm(f_list):\n",
    "#     n+=1\n",
    "# #     print(file)\n",
    "#     shutil.copyfile(origin_path+file, aim_path+file)\n",
    "#     if n == 2000:\n",
    "#         break"
   ]
  },
  {
   "cell_type": "code",
   "execution_count": 12,
   "metadata": {},
   "outputs": [
    {
     "name": "stderr",
     "output_type": "stream",
     "text": [
      "  0%|          | 1967/810351 [00:01<10:37, 1267.50it/s]\n",
      "  0%|          | 1966/830932 [00:01<12:34, 1099.37it/s]\n",
      "  0%|          | 1940/583494 [00:01<07:18, 1325.91it/s]\n",
      "  0%|          | 1918/547010 [00:01<05:56, 1530.50it/s]\n"
     ]
    }
   ],
   "source": [
    "all_folder = os.listdir(\"Data/train_image/\")\n",
    "for folder in all_folder:\n",
    "    if folder != '.DS_Store':\n",
    "        origin_path = \"Data/train_image/\"+folder+\"/\"\n",
    "        aim_path = \"test_Data/train_image/\"+folder+\"/\"\n",
    "        f_list = os.listdir(origin_path)\n",
    "        n = 0\n",
    "        for file in tqdm(f_list):\n",
    "            n+=1\n",
    "        #     print(file)\n",
    "            shutil.copyfile(origin_path+file, aim_path+file)\n",
    "            if n == 2000:\n",
    "                break"
   ]
  },
  {
   "cell_type": "code",
   "execution_count": null,
   "metadata": {},
   "outputs": [],
   "source": []
  }
 ],
 "metadata": {
  "kernelspec": {
   "display_name": "Python 3.7.6 64-bit",
   "language": "python",
   "name": "python37664bitc3aff01e4887446cafe7684cf3736cfd"
  },
  "language_info": {
   "codemirror_mode": {
    "name": "ipython",
    "version": 3
   },
   "file_extension": ".py",
   "mimetype": "text/x-python",
   "name": "python",
   "nbconvert_exporter": "python",
   "pygments_lexer": "ipython3",
   "version": "3.7.6"
  }
 },
 "nbformat": 4,
 "nbformat_minor": 2
}
